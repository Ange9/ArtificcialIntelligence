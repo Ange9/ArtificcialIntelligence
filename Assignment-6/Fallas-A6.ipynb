{
 "cells": [
  {
   "cell_type": "markdown",
   "metadata": {},
   "source": [
    "$\\newcommand{\\xv}{\\mathbf{x}}\n",
    "\\newcommand{\\Xv}{\\mathbf{X}}\n",
    "\\newcommand{\\yv}{\\mathbf{y}}\n",
    "\\newcommand{\\zv}{\\mathbf{z}}\n",
    "\\newcommand{\\av}{\\mathbf{a}}\n",
    "\\newcommand{\\Wv}{\\mathbf{W}}\n",
    "\\newcommand{\\wv}{\\mathbf{w}}\n",
    "\\newcommand{\\tv}{\\mathbf{t}}\n",
    "\\newcommand{\\Tv}{\\mathbf{T}}\n",
    "\\newcommand{\\muv}{\\boldsymbol{\\mu}}\n",
    "\\newcommand{\\sigmav}{\\boldsymbol{\\sigma}}\n",
    "\\newcommand{\\phiv}{\\boldsymbol{\\phi}}\n",
    "\\newcommand{\\Phiv}{\\boldsymbol{\\Phi}}\n",
    "\\newcommand{\\Sigmav}{\\boldsymbol{\\Sigma}}\n",
    "\\newcommand{\\Lambdav}{\\boldsymbol{\\Lambda}}\n",
    "\\newcommand{\\half}{\\frac{1}{2}}\n",
    "\\newcommand{\\argmax}[1]{\\underset{#1}{\\operatorname{argmax}}}\n",
    "\\newcommand{\\argmin}[1]{\\underset{#1}{\\operatorname{argmin}}}$"
   ]
  },
  {
   "cell_type": "markdown",
   "metadata": {},
   "source": [
    "# Assignment 6: Neural Networks"
   ]
  },
  {
   "cell_type": "markdown",
   "metadata": {},
   "source": [
    "*Type your name here and rewrite all of the following sections.  Add more sections to present your code, results, and discussions.*"
   ]
  },
  {
   "cell_type": "markdown",
   "metadata": {},
   "source": [
    "## Overview"
   ]
  },
  {
   "cell_type": "markdown",
   "metadata": {},
   "source": [
    "You will write and apply code that trains neural networks of various numbers of hidden layers and units in each hidden layer and returns results as specified below.  You will do this once for a regression problem and once for a classification problem. "
   ]
  },
  {
   "cell_type": "markdown",
   "metadata": {},
   "source": [
    "## Required Code"
   ]
  },
  {
   "cell_type": "markdown",
   "metadata": {},
   "source": [
    "Download [nn2.tar](http://www.cs.colostate.edu/~anderson/cs440/notebooks/nn2.tar) that was used in lecture and extract its contents, which are\n",
    "\n",
    "* `neuralnetworks.py`\n",
    "* `scaledconjugategradient.py`\n",
    "* `mlutils.py`"
   ]
  },
  {
   "cell_type": "markdown",
   "metadata": {},
   "source": [
    "Write the following functions that train and evaluate neural network models.\n",
    "\n",
    "* `results = trainNNs(X, T, trainFraction, hiddenLayerStructures, numberRepetitions, numberIterations, classify)`\n",
    "\n",
    "The arguments to `trainNNs` are\n",
    "\n",
    "* `X` is a matrix of input data of shape `nSamples x nFeatures`\n",
    "* `T` is a matrix of target data of shape `nSamples x nOutputs`\n",
    "* `trainFraction` is fraction of samples to use as training data. 1-`trainFraction` is number of samples for testing data\n",
    "* `hiddenLayerStructures` is list of network architectures. For example, to test two networks, one with one hidden layer of 20 units, and one with 3 hidden layers with 5, 10, and 20 units in each layer, this argument would be `[[20], [5, 10, 20]]`.\n",
    "* `numberRepetitions` is number of times to train a neural network.  Calculate training and testing average performance (two separate averages) of this many training runs.\n",
    "* `numberIterations` is the number of iterations to run the scaled conjugate gradient algorithm when a neural network is trained.\n",
    "* `classify` is set to `True` if you are doing a classification problem, in which case `T` must be a single column of target class integers.\n",
    "\n",
    "This function returns `results` which is list with one element for each network structure tested.  Each element is a list containing \n",
    "\n",
    "* the hidden layer structure (as a list),\n",
    "* a list of training data performance for each repetition, \n",
    "* a list of testing data performance for each repetition, and\n",
    "* the number of seconds it took to run this many repetitions for this network structure.\n",
    "\n",
    "This function should follow these steps:\n",
    "\n",
    "  * For each network structure given in `hiddenLayerStructures`\n",
    "    * For numberRepetitions\n",
    "      * Use `ml.partition` to randomly partition X and T into training and testing sets.\n",
    "      * Create a neural network of the given structure\n",
    "      * Train it for numberIterations\n",
    "      * Use the trained network to produce outputs for the training and for the testing sets\n",
    "      * If classifying, calculate the fraction of samples incorrectly classified for training and testing sets.\n",
    "       Otherwise, calculate the RMSE of training and testing sets.\n",
    "      * Add the training and testing performance to a collection (such as a list) for this network structure\n",
    "    * Add to a collection of all results the hidden layer structure, lists of training performance and testing performance, and seconds taken to do these repetitions.\n",
    "  * return the collection of all results"
   ]
  },
  {
   "cell_type": "markdown",
   "metadata": {},
   "source": [
    "Also write the following two functions. `summarize(results)` returns a list of lists like `results` but with the list of training performances replaced by their mean and the list of testing performances replaced by their mean.   \n",
    "`bestNetwork(summary)` takes the output of `summarize(results)` and returns the best element of `results`, determined by the element that has the smallest test performance.\n",
    "\n",
    "* `summary = summarize(results)` where `results` is returned by `trainNNs` and `summary` is like `results` with the training and testing performance lists replaced by their means\n",
    "* `best = bestNetwork(summary)` where `summary` is returned by `summarize` and `best` is the best element of `summary`"
   ]
  },
  {
   "cell_type": "code",
   "execution_count": 2,
   "metadata": {
    "collapsed": true,
    "scrolled": true
   },
   "outputs": [],
   "source": [
    "import numpy as np\n",
    "import matplotlib.pyplot as plt\n",
    "%matplotlib inline\n",
    "import time\n",
    "import mlutils as ml\n",
    "import neuralnetworks as nn\n",
    "\n",
    "X = np.arange(10).reshape((-1,1))\n",
    "T = X + 1 + np.random.uniform(-1, 1, ((10,1)))\n"
   ]
  },
  {
   "cell_type": "code",
   "execution_count": 3,
   "metadata": {},
   "outputs": [
    {
     "data": {
      "text/plain": [
       "2"
      ]
     },
     "execution_count": 3,
     "metadata": {},
     "output_type": "execute_result"
    }
   ],
   "source": [
    "B=np.array([[2,3,3],[5,5,6]])\n",
    "B.shape[0]"
   ]
  },
  {
   "cell_type": "code",
   "execution_count": 4,
   "metadata": {},
   "outputs": [
    {
     "name": "stdout",
     "output_type": "stream",
     "text": [
      "[[3]\n",
      " [5]\n",
      " [9]\n",
      " [6]\n",
      " [1]\n",
      " [7]\n",
      " [0]\n",
      " [8]] ....... [[ 3.50552239]\n",
      " [ 5.86258236]\n",
      " [ 9.08623619]\n",
      " [ 6.30623361]\n",
      " [ 1.99655737]\n",
      " [ 7.39014526]\n",
      " [ 1.55322534]\n",
      " [ 8.43892664]] ....... [[2]\n",
      " [4]] ....... [[ 2.65097229]\n",
      " [ 5.66641879]]\n"
     ]
    }
   ],
   "source": [
    "Z=ml.partition(X,T,(0.8, 1-0.8))\n",
    "print (Z[0],'.......', Z[1],'.......',Z[2],'.......',Z[3])"
   ]
  },
  {
   "cell_type": "code",
   "execution_count": 5,
   "metadata": {},
   "outputs": [
    {
     "data": {
      "text/plain": [
       "[[2,\n",
       "  [0.29471444350293868,\n",
       "   0.21276580770549097,\n",
       "   0.21315473994889469,\n",
       "   0.027584039143328715,\n",
       "   0.16014095238608581],\n",
       "  [1.8815707266222812,\n",
       "   0.13247056487743525,\n",
       "   0.31741172226925496,\n",
       "   1.0173060014952788,\n",
       "   0.82952198062419891],\n",
       "  0.6299877166748047],\n",
       " [10,\n",
       "  [0.036067564508662255,\n",
       "   0.13643500860912733,\n",
       "   0.070234951740824822,\n",
       "   0.08706742981198938,\n",
       "   0.1856595033550488],\n",
       "  [1.502858452483361,\n",
       "   0.21588755635058685,\n",
       "   0.28395090125007855,\n",
       "   0.78798502929215863,\n",
       "   0.47796595550644017],\n",
       "  0.6191196441650391],\n",
       " [[10, 10],\n",
       "  [0.10682585841724612,\n",
       "   0.032653171492432603,\n",
       "   0.069215402290018421,\n",
       "   0.13357419876778173,\n",
       "   0.011440692009552981],\n",
       "  [0.13598020010659009,\n",
       "   0.63200345961371351,\n",
       "   0.61435150100777391,\n",
       "   0.37298188907263685,\n",
       "   0.11823902027101515],\n",
       "  0.8520097732543945]]"
      ]
     },
     "execution_count": 5,
     "metadata": {},
     "output_type": "execute_result"
    }
   ],
   "source": [
    "def trainNNs(X, T,trainFraction,hiddenLayerStructures,numberRepetitions,numberIterations, classify=False): \n",
    "    results=[]\n",
    "    #For each network structure given in `hiddenLayerStructures`\n",
    "    for  hiddenLayer in hiddenLayerStructures:\n",
    "        #For numberRepetitions\n",
    "        startTime = time.time()\n",
    "        performanceTrain=[]\n",
    "        performanceTest=[]\n",
    "        for  rep in range(numberRepetitions):\n",
    "            \n",
    "            \n",
    "            #print (\"rep\",rep)\n",
    "            #Use `ml.partition` to randomly partition X and T into training and testing sets.\n",
    "            fractions=(trainFraction,1-trainFraction)\n",
    "            \n",
    "            ##W/ CLASSIFY?????? -->  Xtest and Ttest are empty##\n",
    "            Z=ml.partition(X,T,fractions, classify)\n",
    "            Xtrain=Z[0] #Train input\n",
    "            Ttrain=Z[1] #Train expected result\n",
    "            Xtest=Z[2]  #Test input\n",
    "            Ttest=Z[3]  #Test expected result\n",
    "\n",
    "            \n",
    "            \n",
    "            \n",
    "            #If classifying \n",
    "            if classify:\n",
    "                incorrect=0\n",
    "\n",
    "                ###****When classifying, the number of outputs is the number of unique values in T.***##\n",
    "                number_of_classes=len(np.unique(T))\n",
    "                print (\",number_of_classes\", number_of_classes)\n",
    "                \n",
    "                #Create a neural network of the given structure\n",
    "                nnet = nn.NeuralNetwork(Xtrain.shape[1], hiddenLayer,number_of_classes)\n",
    "                #Train it for numberIterations\n",
    "                nnet.train(Xtrain, Ttrain, numberIterations)\n",
    "                #Use the trained network to produce outputs for the training and for the testing sets\n",
    "                res=nnet.use(Xtrain)\n",
    "                \n",
    "                #calculate the fraction of samples incorrectly classified for training and \n",
    "                #testing sets. \n",
    "                \n",
    "                #Done by comparing out of the use() method with the target labels in T.\n",
    "                #for sample in range(len(res)):\n",
    "                 #   if res[sample]!=Ttest[sample]:\n",
    "                  #      incorrect+=1\n",
    "                \n",
    "            else:\n",
    "                #Create a neural network of the given structure\n",
    "                nnet = nn.NeuralNetwork(Xtrain.shape[1], hiddenLayer,Ttrain.shape[1] )\n",
    "                #Train it for numberIterations\n",
    "                nnet.train(Xtrain, Ttrain, numberIterations)\n",
    "                #Use the trained network to produce outputs for the training and for the testing sets\n",
    "                resTrain=nnet.use(Xtrain)\n",
    "                resTest=nnet.use(Xtest)\n",
    "                #Calculate the RMSE of training and testing sets.\n",
    "                rmseTrain = np.sqrt(((np.array(resTrain) - np.array(Ttrain)) ** 2).mean())\n",
    "                rmseTest = np.sqrt(((np.array(resTest) - np.array(Ttest)) ** 2).mean())\n",
    "               \n",
    "                \n",
    "                #Add the training and testing performance to a collection \n",
    "                #(such as a list) for this network structure\n",
    "                performanceTrain.append(rmseTrain)\n",
    "                performanceTest.append(rmseTest)\n",
    "        \n",
    "        endTime = time.time() \n",
    "        timeRepetition= endTime-startTime\n",
    "        results.append([hiddenLayer,performanceTrain,performanceTest, timeRepetition])\n",
    "\n",
    "    return results\n",
    "results = trainNNs(X, T, 0.8, [2, 10, [10, 10]], 5, 100, classify=False)\n",
    "results"
   ]
  },
  {
   "cell_type": "markdown",
   "metadata": {},
   "source": [
    "## Sumarize"
   ]
  },
  {
   "cell_type": "markdown",
   "metadata": {},
   "source": [
    "summarize(results) returns a list of lists like results but with the list of training performances replaced by their mean and the list of testing performances replaced by their mean."
   ]
  },
  {
   "cell_type": "code",
   "execution_count": 6,
   "metadata": {},
   "outputs": [
    {
     "data": {
      "text/plain": [
       "[[2, 0.16996357887199481, 0.6770232434785356, 0.6923704147338867],\n",
       " [10, 0.10540900295041714, 0.48757142595630015, 0.5764617919921875],\n",
       " [[10, 10], 0.058378017521924529, 0.23451647958426824, 0.9061844348907471]]"
      ]
     },
     "execution_count": 6,
     "metadata": {},
     "output_type": "execute_result"
    }
   ],
   "source": [
    "def summarize(results):\n",
    "    sumarizedResults=[]\n",
    "    trainMean=0\n",
    "    testMean=0\n",
    "    for i in range(len(results)):\n",
    "        trainMean=np.mean(results[i][1])\n",
    "        testMean=np.mean(results[i][2])\n",
    "        sumarizedResults.append([results[i][0],trainMean,testMean,results[i][3]])\n",
    "    \n",
    "    \n",
    "    return sumarizedResults\n",
    "\n",
    "\n",
    "results = trainNNs(X, T, 0.8, [2, 10, [10, 10]], 5, 100, classify=False)\n",
    "\n",
    "summary= summarize(results)\n",
    "summary"
   ]
  },
  {
   "cell_type": "markdown",
   "metadata": {},
   "source": [
    "##  bestNetwork\n",
    "\n",
    " takes the output of summarize(results) and returns the best element of results, determined by the element that has the smallest test performance."
   ]
  },
  {
   "cell_type": "code",
   "execution_count": 7,
   "metadata": {},
   "outputs": [
    {
     "data": {
      "text/plain": [
       "[[10, 10], 0.058378017521924529, 0.23451647958426824, 0.9061844348907471]"
      ]
     },
     "execution_count": 7,
     "metadata": {},
     "output_type": "execute_result"
    }
   ],
   "source": [
    "def bestNetwork(summary) :\n",
    "\n",
    "    best=[]\n",
    "    lowestTestMean=0\n",
    "    bestElement=[]\n",
    "    \n",
    "    for i in range(len(summary)):\n",
    "        if i==0:\n",
    "            lowestTestMean=summary[i][2]\n",
    "            best=summary[i]\n",
    "        else:\n",
    "            if summary[i][2]<lowestTestMean:\n",
    "                lowestTestMean=summary[i][2]\n",
    "                best=summary[i]\n",
    "\n",
    "    \n",
    "    return best\n",
    "best=bestNetwork(summary)\n",
    "best"
   ]
  },
  {
   "cell_type": "markdown",
   "metadata": {},
   "source": [
    "## Examples\n"
   ]
  },
  {
   "cell_type": "code",
   "execution_count": 8,
   "metadata": {
    "collapsed": true
   },
   "outputs": [],
   "source": [
    "import matplotlib.pyplot as plt\n",
    "%matplotlib inline"
   ]
  },
  {
   "cell_type": "code",
   "execution_count": 9,
   "metadata": {
    "scrolled": false
   },
   "outputs": [
    {
     "data": {
      "image/png": "[encoded data removed]",
      "text/plain": [
       "<matplotlib.figure.Figure at 0x7f93a80b3780>"
      ]
     },
     "metadata": {},
     "output_type": "display_data"
    }
   ],
   "source": [
    "plt.plot(X, T, 'o-');"
   ]
  },
  {
   "cell_type": "code",
   "execution_count": 37,
   "metadata": {},
   "outputs": [
    {
     "data": {
      "text/plain": [
       "array([ 0.70710678,  0.23732061,  0.13724739,  0.12626911,  0.12127298,\n",
       "        0.11605093,  0.1127132 ,  0.10750388,  0.10362062,  0.1032132 ,\n",
       "        0.10045466,  0.09918569,  0.09783409,  0.0976915 ,  0.09762632,\n",
       "        0.09756979,  0.09754933,  0.09687117,  0.09670165,  0.09667674,\n",
       "        0.09661734,  0.09648857,  0.0963624 ,  0.09635405,  0.09609481,\n",
       "        0.09605462,  0.0960523 ,  0.09605156,  0.09604892,  0.09604646,\n",
       "        0.09604607,  0.09596339,  0.09595614,  0.09595518,  0.09595323,\n",
       "        0.09594834,  0.09594582,  0.09594542,  0.09592678,  0.09592677,\n",
       "        0.09592661,  0.09592585,  0.09592566,  0.0959255 ,  0.09592546,\n",
       "        0.09592229,  0.09592227,  0.09592168,  0.09590932,  0.09590789,\n",
       "        0.09590754,  0.0959075 ,  0.09590254,  0.09590252,  0.09590093,\n",
       "        0.09589643,  0.09589639,  0.09589636,  0.09589605,  0.09589386,\n",
       "        0.09589383,  0.09589273,  0.09588503,  0.09588444,  0.09588375,\n",
       "        0.0958836 ,  0.09587546,  0.09587544,  0.09587502,  0.09587041,\n",
       "        0.09587021,  0.09586998,  0.09586758,  0.0958655 ,  0.09586547,\n",
       "        0.09586544,  0.09586542,  0.09586536,  0.09586535,  0.09586436,\n",
       "        0.09586346,  0.09586319,  0.09586259,  0.09586247,  0.09586198,\n",
       "        0.09586156,  0.09586149,  0.09585714,  0.09585712,  0.09585677,\n",
       "        0.09585049,  0.09585021,  0.09585008,  0.09584803,  0.09584365,\n",
       "        0.09584364,  0.09584362,  0.09584351,  0.09584349,  0.09584347,\n",
       "        0.09584294])"
      ]
     },
     "execution_count": 37,
     "metadata": {},
     "output_type": "execute_result"
    }
   ],
   "source": [
    "import neuralnetworks as nn\n",
    "nnet = nn.NeuralNetwork(X.shape[1], 2, T.shape[1])\n",
    "nnet.train(X, T, 100)\n",
    "nnet.getErrorTrace()"
   ]
  },
  {
   "cell_type": "code",
   "execution_count": 11,
   "metadata": {},
   "outputs": [
    {
     "data": {
      "text/plain": [
       "array([ 0.70710678,  0.6596529 ,  0.6596529 ,  0.62478484,  0.62478484,\n",
       "        0.40334684,  0.19148658,  0.13020032,  0.10543217,  0.10408324,\n",
       "        0.10356826,  0.10179809,  0.09987676,  0.09912202,  0.09831801,\n",
       "        0.09764572,  0.09651635,  0.09641988,  0.09560226,  0.0950274 ,\n",
       "        0.09496819,  0.09189863,  0.09032437,  0.08968464,  0.0894757 ,\n",
       "        0.0884236 ,  0.08687751,  0.08622296,  0.08524418,  0.08402171,\n",
       "        0.08158659,  0.0809018 ,  0.08069831,  0.0805594 ,  0.07811266,\n",
       "        0.07761619,  0.07751948,  0.07693018,  0.07647871,  0.0764365 ,\n",
       "        0.07561249,  0.07371213,  0.0726895 ,  0.07230741,  0.07221603,\n",
       "        0.0717515 ,  0.07162555,  0.07155324,  0.07134771,  0.0712878 ,\n",
       "        0.07119415,  0.07115584,  0.07104085,  0.0707728 ,  0.07070732,\n",
       "        0.07051327,  0.07027532,  0.06936827,  0.06891994,  0.06844512,\n",
       "        0.06807271,  0.06662032,  0.06618059,  0.0657546 ,  0.0656769 ,\n",
       "        0.06526738,  0.06476906,  0.06454298,  0.06415704,  0.06296348,\n",
       "        0.06268095,  0.06252439,  0.06140469,  0.0613513 ,  0.06121615,\n",
       "        0.05938778,  0.05840278,  0.05692813,  0.05692436,  0.05475786,\n",
       "        0.04833011,  0.04801363,  0.04735348,  0.0471515 ,  0.04342166,\n",
       "        0.04290466,  0.04217049,  0.04187267,  0.04173694,  0.04162831,\n",
       "        0.04146715,  0.04112083,  0.04085746,  0.04057185,  0.04041944,\n",
       "        0.03973938,  0.03946449,  0.03828551,  0.03738956,  0.03674908,\n",
       "        0.03394111])"
      ]
     },
     "execution_count": 11,
     "metadata": {},
     "output_type": "execute_result"
    }
   ],
   "source": [
    "nnet = nn.NeuralNetwork(X.shape[1], [5, 5, 5], T.shape[1])\n",
    "nnet.train(X, T, 100)\n",
    "nnet.getErrorTrace()"
   ]
  },
  {
   "cell_type": "code",
   "execution_count": 12,
   "metadata": {},
   "outputs": [
    {
     "data": {
      "text/plain": [
       "[[2,\n",
       "  [0.043706926516792789,\n",
       "   0.080313378786658118,\n",
       "   0.21862425255087839,\n",
       "   0.21791395675082345,\n",
       "   0.34827741638969106],\n",
       "  [0.73379034275169375,\n",
       "   0.82155280222356319,\n",
       "   0.30453933515471726,\n",
       "   0.2878867339737865,\n",
       "   0.39279898517661871],\n",
       "  0.6606934070587158],\n",
       " [10,\n",
       "  [0.086148855057198617,\n",
       "   0.14264440457184313,\n",
       "   0.032923283541962285,\n",
       "   0.072559626670512689,\n",
       "   0.096603829820805592],\n",
       "  [0.32509422261428778,\n",
       "   0.4571712924590261,\n",
       "   0.99177973183206314,\n",
       "   0.59845771931825076,\n",
       "   0.15996071754900618],\n",
       "  0.5852482318878174],\n",
       " [[10, 10],\n",
       "  [0.093802122131190394,\n",
       "   0.018781977509172862,\n",
       "   0.0065114097123846392,\n",
       "   0.07325022930886764,\n",
       "   0.1370788955543058],\n",
       "  [0.61966641261054711,\n",
       "   0.16767158785901626,\n",
       "   0.49298164388895116,\n",
       "   0.72871958719106311,\n",
       "   0.81544685715375276],\n",
       "  0.8299622535705566]]"
      ]
     },
     "execution_count": 12,
     "metadata": {},
     "output_type": "execute_result"
    }
   ],
   "source": [
    "results = trainNNs(X, T, 0.8, [2, 10, [10, 10]], 5, 100, classify=False)\n",
    "results"
   ]
  },
  {
   "cell_type": "code",
   "execution_count": 13,
   "metadata": {
    "collapsed": true
   },
   "outputs": [],
   "source": [
    "#results = trainNNs(X, T, 0.8, [0, 1, 2, 10, [10, 10], [5, 5, 5, 5], [2]*5], 50, 400, classify=False)"
   ]
  },
  {
   "cell_type": "code",
   "execution_count": 14,
   "metadata": {
    "collapsed": true
   },
   "outputs": [],
   "source": [
    "#summarize(results)"
   ]
  },
  {
   "cell_type": "code",
   "execution_count": 15,
   "metadata": {
    "collapsed": true
   },
   "outputs": [],
   "source": [
    "#best = bestNetwork(summarize(results))\n",
    "#print(best)\n",
    "#print('Hidden Layers {} Average RMSE Training {:.2f} Testing {:.2f} Took {:.2f} seconds'.format(*best))"
   ]
  },
  {
   "cell_type": "markdown",
   "metadata": {},
   "source": [
    "Hummm...neural nets with no hidden layers did best on this simple data set.  Why?  Remember what \"best\" means."
   ]
  },
  {
   "cell_type": "markdown",
   "metadata": {},
   "source": [
    "## Data for Regression Experiment\n",
    "\n",
    "From the UCI Machine Learning Repository, download the [Appliances energy prediction](http://archive.ics.uci.edu/ml/datasets/Appliances+energy+prediction) data.  You can do this by visiting the Data Folder for this data set, or just do this:\n",
    "\n",
    "     !wget http://archive.ics.uci.edu/ml/machine-learning-databases/00374/energydata_complete.csv\n",
    "\n"
   ]
  },
  {
   "cell_type": "markdown",
   "metadata": {},
   "source": [
    "Read this data into python.  One suggestion is to use the `loadtxt` function in the `numpy` package.  You may ignore the first column of each row which contains a data and time.  Also ignore the last two columns of random variables.  We will not use that in our modeling of this data.  You will also have to deal with the double quotes that surround every value in every field.  Read the first line of this file to get the names of the features.\n",
    "\n",
    "Once you have read this in correctly, you should see values like this:"
   ]
  },
  {
   "cell_type": "code",
   "execution_count": 16,
   "metadata": {
    "collapsed": true
   },
   "outputs": [],
   "source": [
    "import numpy as np\n",
    "#import pandas as pd\n",
    "\n",
    "\n",
    "data = np.loadtxt(\"energydata_complete.csv\",dtype=str, delimiter=\",\", skiprows=1, \n",
    "                                  usecols=range(1,27))\n",
    "\n",
    "\n",
    "\n",
    "data = np.chararray.strip(data, \"\\\"\")\n",
    "data = np.chararray.strip(data, \" \")\n",
    "\n",
    "data = np.array(data).astype(float)\n",
    "\n",
    "\n"
   ]
  },
  {
   "cell_type": "code",
   "execution_count": 17,
   "metadata": {},
   "outputs": [
    {
     "data": {
      "text/plain": [
       "(19735, 26)"
      ]
     },
     "execution_count": 17,
     "metadata": {},
     "output_type": "execute_result"
    }
   ],
   "source": [
    "data.shape"
   ]
  },
  {
   "cell_type": "code",
   "execution_count": 18,
   "metadata": {},
   "outputs": [
    {
     "data": {
      "text/plain": [
       "array([[  60.        ,   30.        ,   19.89      ,   47.59666667,\n",
       "          19.2       ,   44.79      ,   19.79      ,   44.73      ,\n",
       "          19.        ,   45.56666667,   17.16666667,   55.2       ,\n",
       "           7.02666667,   84.25666667,   17.2       ,   41.62666667,\n",
       "          18.2       ,   48.9       ,   17.03333333,   45.53      ,\n",
       "           6.6       ,  733.5       ,   92.        ,    7.        ,\n",
       "          63.        ,    5.3       ],\n",
       "       [  60.        ,   30.        ,   19.89      ,   46.69333333,\n",
       "          19.2       ,   44.7225    ,   19.79      ,   44.79      ,\n",
       "          19.        ,   45.9925    ,   17.16666667,   55.2       ,\n",
       "           6.83333333,   84.06333333,   17.2       ,   41.56      ,\n",
       "          18.2       ,   48.86333333,   17.06666667,   45.56      ,\n",
       "           6.48333333,  733.6       ,   92.        ,    6.66666667,\n",
       "          59.16666667,    5.2       ]])"
      ]
     },
     "execution_count": 18,
     "metadata": {},
     "output_type": "execute_result"
    }
   ],
   "source": [
    "data[:2,:]\n"
   ]
  },
  {
   "cell_type": "code",
   "execution_count": 19,
   "metadata": {
    "collapsed": true,
    "scrolled": true
   },
   "outputs": [],
   "source": [
    "#names"
   ]
  },
  {
   "cell_type": "markdown",
   "metadata": {},
   "source": [
    "Use the first two columns, labelled `Appliances` and `lights` as the target variables, and the remaining 24 columns as the input features.  So"
   ]
  },
  {
   "cell_type": "code",
   "execution_count": 20,
   "metadata": {
    "collapsed": true
   },
   "outputs": [],
   "source": [
    "#target values\n",
    "Tenergy=data[:,0:2]\n",
    "\n",
    "#input features\n",
    "Xenergy=data[:,2:27]\n",
    "\n"
   ]
  },
  {
   "cell_type": "code",
   "execution_count": 21,
   "metadata": {},
   "outputs": [
    {
     "data": {
      "text/plain": [
       "((19735, 24), (19735, 2))"
      ]
     },
     "execution_count": 21,
     "metadata": {},
     "output_type": "execute_result"
    }
   ],
   "source": [
    "Xenergy.shape, Tenergy.shape"
   ]
  },
  {
   "cell_type": "code",
   "execution_count": 22,
   "metadata": {
    "collapsed": true
   },
   "outputs": [],
   "source": [
    "#Xnames"
   ]
  },
  {
   "cell_type": "code",
   "execution_count": 23,
   "metadata": {
    "collapsed": true
   },
   "outputs": [],
   "source": [
    "#Tnames"
   ]
  },
  {
   "cell_type": "markdown",
   "metadata": {},
   "source": [
    "Train several neural networks on all of this data for 100 iterations.  Plot the error trace (nnet.getErrorTrace()) to help you decide now many iterations might be needed.  100 may not be enough.  If for your larger networks the error is still decreasing after 100 iterations you should train all nets for more than 100 iterations.\n",
    "\n"
   ]
  },
  {
   "cell_type": "code",
   "execution_count": 46,
   "metadata": {},
   "outputs": [
    {
     "name": "stdout",
     "output_type": "stream",
     "text": [
      "hiddenLayer 1\n"
     ]
    },
    {
     "data": {
      "image/png": "[encoded data removed]",
      "text/plain": [
       "<matplotlib.figure.Figure at 0x7f93a383e588>"
      ]
     },
     "metadata": {},
     "output_type": "display_data"
    },
    {
     "name": "stdout",
     "output_type": "stream",
     "text": [
      "hiddenLayer 2\n"
     ]
    },
    {
     "data": {
      "image/png": "[encoded data removed]",
      "text/plain": [
       "<matplotlib.figure.Figure at 0x7f93a383ee10>"
      ]
     },
     "metadata": {},
     "output_type": "display_data"
    },
    {
     "name": "stdout",
     "output_type": "stream",
     "text": [
      "hiddenLayer 3\n"
     ]
    },
    {
     "data": {
      "image/png": "[encoded data removed]",
      "text/plain": [
       "<matplotlib.figure.Figure at 0x7f93a80a6b00>"
      ]
     },
     "metadata": {},
     "output_type": "display_data"
    },
    {
     "name": "stdout",
     "output_type": "stream",
     "text": [
      "hiddenLayer 4\n"
     ]
    },
    {
     "data": {
      "image/png": "[encoded data removed]",
      "text/plain": [
       "<matplotlib.figure.Figure at 0x7f93a38aa518>"
      ]
     },
     "metadata": {},
     "output_type": "display_data"
    },
    {
     "name": "stdout",
     "output_type": "stream",
     "text": [
      "hiddenLayer 5\n"
     ]
    },
    {
     "data": {
      "image/png": "[encoded data removed]",
      "text/plain": [
       "<matplotlib.figure.Figure at 0x7f93a3a0d2b0>"
      ]
     },
     "metadata": {},
     "output_type": "display_data"
    },
    {
     "name": "stdout",
     "output_type": "stream",
     "text": [
      "hiddenLayer 6\n"
     ]
    },
    {
     "data": {
      "image/png": "[encoded data removed]",
      "text/plain": [
       "<matplotlib.figure.Figure at 0x7f93a3720630>"
      ]
     },
     "metadata": {},
     "output_type": "display_data"
    },
    {
     "name": "stdout",
     "output_type": "stream",
     "text": [
      "hiddenLayer 7\n"
     ]
    },
    {
     "data": {
      "image/png": "[encoded data removed]",
      "text/plain": [
       "<matplotlib.figure.Figure at 0x7f93a3757278>"
      ]
     },
     "metadata": {},
     "output_type": "display_data"
    },
    {
     "name": "stdout",
     "output_type": "stream",
     "text": [
      "hiddenLayer 8\n"
     ]
    },
    {
     "data": {
      "image/png": "[encoded data removed]",
      "text/plain": [
       "<matplotlib.figure.Figure at 0x7f93a373e438>"
      ]
     },
     "metadata": {},
     "output_type": "display_data"
    },
    {
     "name": "stdout",
     "output_type": "stream",
     "text": [
      "hiddenLayer 9\n"
     ]
    },
    {
     "data": {
      "image/png": "[encoded data removed]",
      "text/plain": [
       "<matplotlib.figure.Figure at 0x7f93a3858f60>"
      ]
     },
     "metadata": {},
     "output_type": "display_data"
    },
    {
     "name": "stdout",
     "output_type": "stream",
     "text": [
      "hiddenLayer 10\n"
     ]
    },
    {
     "data": {
      "image/png": "[encoded data removed]",
      "text/plain": [
       "<matplotlib.figure.Figure at 0x7f93a8047ba8>"
      ]
     },
     "metadata": {},
     "output_type": "display_data"
    }
   ],
   "source": [
    "\n",
    "def trainExperiment(X, T,hiddenLayerStructures,numberIterations): \n",
    "    #For each network structure given in `hiddenLayerStructures`\n",
    "    for  hiddenLayer in hiddenLayerStructures:\n",
    "        print (\"hiddenLayer\", hiddenLayer)\n",
    "        #For numberRepetitions\n",
    "        #for  rep in range(numberRepetitions):\n",
    "        nnet = nn.NeuralNetwork(X.shape[1], hiddenLayer,T.shape[1] )\n",
    "        #Train it for numberIterations\n",
    "        nnet.train(X, T, numberIterations)\n",
    "        err=nnet.getErrorTrace()\n",
    "        plt.plot(err)\n",
    "        plt.show()           \n",
    "#trainExperiment(Xenergy, Tenergy, [1, 5, [5, 5], [10, 10], 2], 100)\n",
    "trainExperiment(Xenergy, Tenergy, [1,2,3,4,5,6,7,8,9,10], 100)\n",
    "\n",
    "            "
   ]
  },
  {
   "cell_type": "markdown",
   "metadata": {},
   "source": [
    "Now use your `trainNNs`, `summarize`, and `bestNetwork` functions on this data to investigate various network sizes."
   ]
  },
  {
   "cell_type": "code",
   "execution_count": 47,
   "metadata": {
    "collapsed": true
   },
   "outputs": [],
   "source": [
    "results = trainNNs(Xenergy, Tenergy, 0.8, [0, 5, [5, 5], [10, 10]], 10, 100)"
   ]
  },
  {
   "cell_type": "code",
   "execution_count": 48,
   "metadata": {
    "collapsed": true
   },
   "outputs": [],
   "source": [
    "summary=summarize(results)"
   ]
  },
  {
   "cell_type": "code",
   "execution_count": 50,
   "metadata": {},
   "outputs": [
    {
     "data": {
      "text/plain": [
       "[[10, 10], 63.177628557180036, 63.563947755804406, 213.893061876297]"
      ]
     },
     "execution_count": 50,
     "metadata": {},
     "output_type": "execute_result"
    }
   ],
   "source": [
    "best=bestNetwork(summary)\n",
    "best"
   ]
  },
  {
   "cell_type": "markdown",
   "metadata": {},
   "source": [
    "Test at least 10 different hidden layer structures.  Larger numbers of layers and units may do the best on training data, but not on testing data. Why?"
   ]
  },
  {
   "cell_type": "markdown",
   "metadata": {},
   "source": [
    "Now train another network with your best hidden layer structure on 0.8 of the data and use the trained network on the testing data (the remaining 0.2 of the date).  As before use `ml.partition` to produce the training and testing sets."
   ]
  },
  {
   "cell_type": "code",
   "execution_count": 66,
   "metadata": {
    "scrolled": true
   },
   "outputs": [
    {
     "name": "stdout",
     "output_type": "stream",
     "text": [
      "resTrain [[  6.13538096e+01   2.99913633e-02]\n",
      " [  9.78133621e+01   2.38890646e+00]\n",
      " [  9.38052764e+01   4.36053212e+00]\n",
      " ..., \n",
      " [  1.92901088e+02  -2.54017714e-01]\n",
      " [  8.87593870e+01   2.11880087e+00]\n",
      " [  5.80008945e+01   1.54284948e-01]]\n",
      "resTest [[  81.42060466    2.06418816]\n",
      " [  71.14703629    1.10528584]\n",
      " [  55.55899293    0.46274204]\n",
      " ..., \n",
      " [  86.70910981    1.53910747]\n",
      " [ 162.18460019   16.68797381]\n",
      " [  51.7288837     0.678068  ]]\n"
     ]
    }
   ],
   "source": [
    "def trainBest(X, T,hiddenLayer,numberIterations, trainFraction=0.8): \n",
    "    #Use `ml.partition` to randomly partition X and T into training and testing sets.\n",
    "    fractions=(trainFraction,1-trainFraction)\n",
    "    Z=ml.partition(X,T,fractions, False)\n",
    "    \n",
    "    Xtrain=Z[0] #Train input\n",
    "    #print (\"Xtrain\", Xtrain.shape[2])\n",
    "    \n",
    "    Ttrain=Z[1] #Train expected result\n",
    "    #print (\"Ttrain\", Ttrain)\n",
    "\n",
    "    Xtest=Z[2]  #Test input\n",
    "    Ttest=Z[3]  #Test expected result\n",
    "    \n",
    "    nnet = nn.NeuralNetwork(Xtrain.shape[1], hiddenLayer,Ttrain.shape[1] )\n",
    "    #Train it for numberIterations\n",
    "    nnet.train(Xtrain, Ttrain, numberIterations)\n",
    "\n",
    "    resTrain=nnet.use(Xtrain)\n",
    "    print (\"resTrain\",resTrain)\n",
    "    #plt.plot(resTrain)\n",
    "    #plt.show()   \n",
    "    resTest=nnet.use(Xtest)\n",
    "    print (\"resTest\",resTest)\n",
    "    #plt.plot(resTest)\n",
    "    #plt.show()  \n",
    "    \n",
    "    \n",
    "    \n",
    "    #plt.plot(err)\n",
    "    #plt.show()           \n",
    "#trainExperiment(Xenergy, Tenergy, [1, 5, [5, 5], [10, 10], 2], 100)\n",
    "trainBest(Xenergy, Tenergy,[10,10], 100)\n",
    "\n",
    "            "
   ]
  },
  {
   "cell_type": "markdown",
   "metadata": {},
   "source": [
    "For the testing data, plot the predicted and actual `Appliances` energy use, and the predicted and actual `lights` energy use, in two separate plots.  Discuss what you see."
   ]
  },
  {
   "cell_type": "markdown",
   "metadata": {},
   "source": [
    "## Data for Classification Experiment\n",
    "\n",
    "From the UCI Machine Learning Repository, download the [Anuran Calls (MFCCs)](http://archive.ics.uci.edu/ml/datasets/Anuran+Calls+%28MFCCs%29) data.  You can do this by visiting the Data Folder for this data set, or just do this:\n",
    "\n",
    "     !wget 'http://archive.ics.uci.edu/ml/machine-learning-databases/00406/Anuran Calls (MFCCs).zip'\n",
    "     !unzip Anuran*zip\n",
    "     \n",
    "Read the data in the file `Frogs_MFCCs.csv` into python.  This will be a little tricky. Each line of the file is a sample of audio features plus three columns that label the sample by family, genus, and species. We will try to predict the species.  The tricky part is that the species is given as text.  We need to convert this to a target class, as an integer. The `numpy` function `unique` will come in handy here."
   ]
  },
  {
   "cell_type": "code",
   "execution_count": 28,
   "metadata": {},
   "outputs": [
    {
     "ename": "NameError",
     "evalue": "name 'Xanuran' is not defined",
     "output_type": "error",
     "traceback": [
      "\u001b[0;31m---------------------------------------------------------------------------\u001b[0m",
      "\u001b[0;31mNameError\u001b[0m                                 Traceback (most recent call last)",
      "\u001b[0;32m<ipython-input-28-1149d1ca3232>\u001b[0m in \u001b[0;36m<module>\u001b[0;34m()\u001b[0m\n\u001b[0;32m----> 1\u001b[0;31m \u001b[0mXanuran\u001b[0m\u001b[0;34m.\u001b[0m\u001b[0mshape\u001b[0m\u001b[0;34m,\u001b[0m \u001b[0mTanuran\u001b[0m\u001b[0;34m.\u001b[0m\u001b[0mshape\u001b[0m\u001b[0;34m\u001b[0m\u001b[0m\n\u001b[0m",
      "\u001b[0;31mNameError\u001b[0m: name 'Xanuran' is not defined"
     ]
    }
   ],
   "source": [
    "Xanuran.shape, Tanuran.shape"
   ]
  },
  {
   "cell_type": "code",
   "execution_count": null,
   "metadata": {
    "collapsed": true
   },
   "outputs": [],
   "source": [
    "Xanuran[:2,:]"
   ]
  },
  {
   "cell_type": "code",
   "execution_count": null,
   "metadata": {
    "collapsed": true
   },
   "outputs": [],
   "source": [
    "Tanuran[:2]"
   ]
  },
  {
   "cell_type": "code",
   "execution_count": null,
   "metadata": {
    "collapsed": true
   },
   "outputs": [],
   "source": [
    "for i in range(10):\n",
    "    print('{} samples in class {}'.format(np.sum(Tanuran==i), i))"
   ]
  },
  {
   "cell_type": "code",
   "execution_count": null,
   "metadata": {
    "collapsed": true
   },
   "outputs": [],
   "source": [
    "results = trainNNs(Xanuran, Tanuran, 0.8, [0, 5, [5, 5]], 5, 100, classify=True)"
   ]
  },
  {
   "cell_type": "code",
   "execution_count": null,
   "metadata": {
    "collapsed": true
   },
   "outputs": [],
   "source": [
    "summarize(results)"
   ]
  },
  {
   "cell_type": "code",
   "execution_count": null,
   "metadata": {
    "collapsed": true
   },
   "outputs": [],
   "source": [
    "bestNetwork(summarize(results))"
   ]
  },
  {
   "cell_type": "markdown",
   "metadata": {},
   "source": [
    "Now do an investigation like you did for the regression data. \n",
    "\n",
    "Test at least 10 different hidden layer structures. Then train another network with your best hidden layer structure on 0.8 of the data and use the trained network on the testing data (the remaining 0.2 of the date). \n",
    "\n",
    "Plot the predicted and actual `Species` for the testing data as an integer.  Discuss what you see."
   ]
  },
  {
   "cell_type": "markdown",
   "metadata": {},
   "source": [
    "## Grading\n",
    "\n",
    "Download [A6grader.tar](http://www.cs.colostate.edu/~anderson/cs440/notebooks/A6grader.tar) and extract `A6grader.py` from it."
   ]
  },
  {
   "cell_type": "code",
   "execution_count": null,
   "metadata": {
    "scrolled": true
   },
   "outputs": [],
   "source": [
    "%run -i \"A6grader.py\""
   ]
  },
  {
   "cell_type": "markdown",
   "metadata": {},
   "source": [
    "## Check-in"
   ]
  },
  {
   "cell_type": "markdown",
   "metadata": {},
   "source": [
    "Do not include this section in your notebook.\n",
    "\n",
    "Name your notebook ```Lastname-A6.ipynb```.  So, for me it would be ```Anderson-A3.ipynb```.  Submit the file using the ```Assignment 3``` link on [Canvas](https://colostate.instructure.com/courses/41327)."
   ]
  },
  {
   "cell_type": "markdown",
   "metadata": {},
   "source": [
    "## Extra Credit\n",
    "\n",
    "  2. Repeat the above regression and classification experiments with a second regression data set and a second classification data set.\n",
    "  \n",
    "  2. Since you are collecting the performance of all repetitions for each network structure, you can calculate a confidence interval about the mean, to help judge significant differences. Do this for either the regression or the classification data and plot the mean test performance with confidence intervals for each network structure tested.  Discuss the statistical significance of the differences among the means.  One website I found to help with this is the site [Correct way to obtain confidence interval with scipy](https://stackoverflow.com/questions/28242593/correct-way-to-obtain-confidence-interval-with-scipy).\n",
    "  \n"
   ]
  }
 ],
 "metadata": {
  "anaconda-cloud": {},
  "kernelspec": {
   "display_name": "Python 3",
   "language": "python",
   "name": "python3"
  },
  "language_info": {
   "codemirror_mode": {
    "name": "ipython",
    "version": 3
   },
   "file_extension": ".py",
   "mimetype": "text/x-python",
   "name": "python",
   "nbconvert_exporter": "python",
   "pygments_lexer": "ipython3",
   "version": "3.6.3"
  },
  "toc": {
   "nav_menu": {},
   "number_sections": true,
   "sideBar": true,
   "skip_h1_title": false,
   "toc_cell": false,
   "toc_position": {},
   "toc_section_display": "block",
   "toc_window_display": false
  }
 },
 "nbformat": 4,
 "nbformat_minor": 1
}
