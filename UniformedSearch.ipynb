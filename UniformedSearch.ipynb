{
 "cells": [
  {
   "cell_type": "markdown",
   "metadata": {},
   "source": [
    "# Assignment 1: Uninformed Search"
   ]
  },
  {
   "cell_type": "markdown",
   "metadata": {},
   "source": [
    "Angelica Fallas"
   ]
  },
  {
   "cell_type": "markdown",
   "metadata": {},
   "source": [
    "## Overview"
   ]
  },
  {
   "cell_type": "markdown",
   "metadata": {},
   "source": [
    "Breadth-first and depth-first are two algorithms for performing\n",
    "uninformed search---a search that does not use\n",
    "knowledge about the goal of the search.  This document contains the implementation for both functions whith their respective description and test cases. "
   ]
  },
  {
   "cell_type": "markdown",
   "metadata": {},
   "source": [
    "## Breadth First Search "
   ]
  },
  {
   "cell_type": "markdown",
   "metadata": {},
   "source": [
    "The Breadth First Search algorithm is used for searching in data structures such as trees or graphs. For trees, the algorithm starts at the root and continues checking all the neighbors in the same level before moving to the nodes in the next level.\n",
    "\n",
    "To implement this solution, the function breadthFirstSearch was defined and it uses three parameters:\n",
    "* startState : is the initial node, the algorithm will consider it as the root of the tree.\n",
    "* goalState : is the node the algorithm will look for, it will stop once this node is found.\n",
    "* successorsf : is the name of the function that is going to be used to generate \n",
    "the successors of each node.\n",
    "      \n",
    "Two data structures are used to keep track of those nodes that were already explored and those who are pending to be explored, this data structures are:\n",
    "* expanded: is a dictionary containing all the elements that have been explored. Every item in the dictionary is a tuple composed by the node and its parent.\n",
    "* unexpanded: is a list containing the  successors nodes that have not been explored yet. Every item on this list is a tuple composed by a node and its parent. This list works as a FIFO queue. The successor nodes of the current explored node are inserted, but then, after every neighbor is explored, their successors are also inserted in the list. The algorithm needs to finish first with the nodes in the current level before moving to the next level, that is why the new elements inserted go at the end of the list.\n",
    "\n",
    "The first thing the algorithm will do is to insert the root with no parent in the unexpanded list. Once that first node is there it will loop until there are no items in the unexpanded list or the goal state is found.\n",
    "\n",
    "The initial step in every iteration is to get the first item inserted in the unexpanded list, once that tuple is known, it is assigned to the current state and parent variables, to know the current explored node.\n",
    "\n",
    "Depending on the function name that comes as parameter, the algorithm will calculate the successors for the current node. In case the successor function is *camelSuccessorsf*, the list returned from the function will be converted to a tuple because later it will have to be inserted to the dictionary and since it is a list, it can not be used as a key value in the expanded dictionary because of the mutable property of lists. All the successors generated are stored in an array to insert them later in the unexpanded list.\n",
    "\n",
    "The pair of state and parent is inserted in the expanded dictionary to know that that node have already been explored. The algorithm works with a dictionary because the order in which the items are stored in it does not matters and it will be easier to find a key and value when returning the solution path.\n",
    "\n",
    "To avoid inserting duplicate items to the data structures, the algorithm removes from the list of successors all those items that are already in the expanded dictionary or in the unexpanded list. After removing all the duplicates, for every successor a pair with the successor and the current parent is inserted at the end of the unexpanded list. \n",
    "\n",
    "Storing the succesors with their parents in the unexpanded list is used to know what are the nodes in the next level that needs to be explored after exploring all the nodes in the current level. \n",
    "\n",
    "The last step on every loop is to check if the goal state is present in the list of succesors of the current node, if so, it will return the solution path. The solution path is a list that contains all the trace to go from the goal state to the start state. To generate the solution path, the algorithm takes the node's parent, that is stored with the node in the list as a tuple, and with that parent node as a key, finds the  parent's parent from the expanded dictionary. After that, the new node that will be searched in the dictionary will be the parent's parent. This loop is repeated until the root is found. \n",
    "\n",
    "\n"
   ]
  },
  {
   "cell_type": "markdown",
   "metadata": {},
   "source": [
    "# Example\n",
    "To obtain the solution path using the breadth First Search algorithm follow the next steps:\n",
    "\n",
    "* Define the function *breadthFirstSearch*\n",
    "* Define the a dictionary of successors \n",
    "* Define the function *successorsf* that will generate the successors (in case of executing the algorithm to solve the Camel Puzzle, you will need to define the function *camelSuccessorsf* that can be found in the end of this document )"
   ]
  },
  {
   "cell_type": "code",
   "execution_count": 16,
   "metadata": {
    "collapsed": true
   },
   "outputs": [],
   "source": [
    "def breadthFirstSearch(startState , goalState, successorsf):\n",
    "    expanded={}\n",
    "    unexpanded= [(startState,\"None\")]\n",
    "    solutionPath=[]\n",
    "    #If startState is the goalState, return the list containing just startState\n",
    "    if startState==goalState:\n",
    "        return startState\n",
    "    else:\n",
    "        while unexpanded:\n",
    "            #Pop from the beggining of unExpanded a (state, parent) pair.    \n",
    "            (state,parent)= unexpanded.pop(0)\n",
    "   \n",
    "            #Generates successor depending on the function name\n",
    "            if successorsf.func_name==\"camelSuccessorsf\": \n",
    "                childrenAll=camelSuccessorsf(state)\n",
    "                state= tuple(state)\n",
    "                goalState=list(goalState)\n",
    "            else:               \n",
    "                childrenAll=successorsf(state)\n",
    "\n",
    "            #Add state: parent to the expanded dictionary             \n",
    "            expanded[state]=parent\n",
    "           \n",
    "            #Remove from list of all posible children any state that is already in expanded or unExpanded.          \n",
    "            existingChildren=[]\n",
    "            for a, b in unexpanded:\n",
    "                existingChildren.append(a)            \n",
    "            existingChildren.append(list(expanded.keys()))        \n",
    "            children= [state1 for state1 in childrenAll if state1 not in existingChildren]\n",
    "            \n",
    "            #remove from list children that are equal to the state node\n",
    "            children= [ch for ch in children if ch!=state]\n",
    "                 \n",
    "\n",
    "            #insert new children at the end of the unexpanded list\n",
    "            for p in children:\n",
    "                unexpanded.append((p,state))\n",
    "            \n",
    "            #If the goal has been found          \n",
    "            if goalState in children:\n",
    "                solutionPath.append(goalState)\n",
    "                solutionPath.append(state)\n",
    "                while parent in expanded.values():\n",
    "                    if parent==\"None\":\n",
    "                        break\n",
    "                    solutionPath.append(parent)\n",
    "                    parent=expanded[parent]\n",
    "                return list(reversed(solutionPath))\n",
    "               \n",
    "            \n",
    "   "
   ]
  },
  {
   "cell_type": "code",
   "execution_count": 17,
   "metadata": {},
   "outputs": [
    {
     "data": {
      "text/plain": [
       "{'a': ['b', 'c', 'd'],\n",
       " 'b': ['e', 'f', 'g', 'a'],\n",
       " 'c': ['h', 'i'],\n",
       " 'd': ['j', 'z'],\n",
       " 'e': ['k', 'l'],\n",
       " 'g': ['m'],\n",
       " 'k': ['z']}"
      ]
     },
     "execution_count": 17,
     "metadata": {},
     "output_type": "execute_result"
    }
   ],
   "source": [
    "#dictionary of successors\n",
    "successors = {'a':  ['b', 'c', 'd'],\n",
    "              'b':  ['e', 'f', 'g', 'a' ],\n",
    "              'c':  [ 'h', 'i'],\n",
    "              'd':  ['j', 'z'],\n",
    "              'e':  ['k', 'l'],\n",
    "              'g':  ['m'],\n",
    "              'k':  ['z']}\n",
    "successors"
   ]
  },
  {
   "cell_type": "code",
   "execution_count": 18,
   "metadata": {
    "collapsed": true
   },
   "outputs": [],
   "source": [
    "#function to generate the successors for a specific state\n",
    "import copy\n",
    "\n",
    "def successorsf(state):\n",
    "    return copy.copy(successors.get(state, []))"
   ]
  },
  {
   "cell_type": "markdown",
   "metadata": {},
   "source": [
    "The following are some examples:"
   ]
  },
  {
   "cell_type": "code",
   "execution_count": 19,
   "metadata": {},
   "outputs": [
    {
     "name": "stdout",
     "output_type": "stream",
     "text": [
      "Breadth-first\n",
      "('path from a to a is', 'a')\n",
      "('path from a to m is', ['a', 'b', 'g', 'm'])\n",
      "('path from a to g is', ['a', 'b', 'g'])\n",
      "('path from g to m is', ['g', 'm'])\n",
      "('path from k to z is', ['k', 'z'])\n",
      "('path from c to a is', None)\n",
      "('path from b to m is', ['b', 'g', 'm'])\n",
      "('path from z to a is', None)\n"
     ]
    }
   ],
   "source": [
    "print('Breadth-first')\n",
    "print('path from a to a is', breadthFirstSearch('a', 'a', successorsf))\n",
    "print('path from a to m is', breadthFirstSearch('a', 'm', successorsf))\n",
    "print('path from a to g is', breadthFirstSearch('a', 'g', successorsf))\n",
    "print('path from g to m is', breadthFirstSearch('g', 'm', successorsf))\n",
    "print('path from k to z is', breadthFirstSearch('k', 'z', successorsf))\n",
    "print('path from c to a is', breadthFirstSearch('c', 'a', successorsf))\n",
    "print('path from b to m is', breadthFirstSearch('b', 'm', successorsf))\n",
    "print('path from z to a is', breadthFirstSearch('z', 'a', successorsf))"
   ]
  },
  {
   "cell_type": "markdown",
   "metadata": {},
   "source": [
    "\n"
   ]
  },
  {
   "cell_type": "markdown",
   "metadata": {},
   "source": [
    "The algorithm should  return the solution path containing only the startState when the startState and goalState are the same node."
   ]
  },
  {
   "cell_type": "code",
   "execution_count": 20,
   "metadata": {},
   "outputs": [
    {
     "name": "stdout",
     "output_type": "stream",
     "text": [
      "Breadth-first\n",
      "('path from a to a is', 'a')\n",
      "('path from b to b is', 'b')\n",
      "('path from z to z is', 'z')\n"
     ]
    }
   ],
   "source": [
    "print('Breadth-first')\n",
    "print('path from a to a is', breadthFirstSearch('a', 'a', successorsf))\n",
    "print('path from b to b is', breadthFirstSearch('b', 'b', successorsf))\n",
    "print('path from z to z is', breadthFirstSearch('z', 'z', successorsf))\n"
   ]
  },
  {
   "cell_type": "markdown",
   "metadata": {},
   "source": [
    "If we look at the dictionary containning the successors, we can see that there are two different ways to go from 'a' to 'z',the first one is ['a','b','e','k','z'] and the second one is ['a', 'd', 'z']. In this case, as the solution path is calculated using the *breadthFirstSearch* , the result should be the list ['a', 'd', 'z']. After exploring the root 'a', the algorithm will explore all of it's children, 'b', 'c' and 'd', when exploring 'd' it will find that this node is parent of 'z' and will return the solution path."
   ]
  },
  {
   "cell_type": "code",
   "execution_count": 21,
   "metadata": {},
   "outputs": [
    {
     "name": "stdout",
     "output_type": "stream",
     "text": [
      "Breadth-first\n",
      "('path from a to a is', ['a', 'd', 'z'])\n"
     ]
    }
   ],
   "source": [
    "print('Breadth-first')\n",
    "print('path from a to a is', breadthFirstSearch('a', 'z', successorsf))\n"
   ]
  },
  {
   "cell_type": "markdown",
   "metadata": {},
   "source": [
    "In this example, 'z' does not have any children, and even it is connected to 'a' by 'd', the algorithm will no return a path from 'z' to 'a'."
   ]
  },
  {
   "cell_type": "code",
   "execution_count": 22,
   "metadata": {},
   "outputs": [
    {
     "name": "stdout",
     "output_type": "stream",
     "text": [
      "Breadth-first\n",
      "('path from a to a is', None)\n"
     ]
    }
   ],
   "source": [
    "print('Breadth-first')\n",
    "print('path from a to a is', breadthFirstSearch('z', 'a', successorsf))\n"
   ]
  },
  {
   "cell_type": "markdown",
   "metadata": {},
   "source": [
    "## Depth First Search "
   ]
  },
  {
   "cell_type": "markdown",
   "metadata": {},
   "source": [
    "The Depth First Search algorithm is also used for searching in data structures such as trees or graphs. As the Breath First Search algorithm, starts at the root, but after exploring each node, continues exploring the successors of that node, without having explored all the neighbors first. Once it finishes with all the successor of a certain node, continues exploring the rest of the neighbors.\n",
    "\n",
    "The depthFirstSearch function expects the same three arguments as the breadthFirstSearch funtion.\n",
    "      \n",
    "The two data structures used to keep track of those nodes that were already explored and those who are pending to be explored are the same, but the unexpanded list behaves a little different:\n",
    "\n",
    "* unexpanded: this list works as a LIFO queue. The successor nodes of the explored node are inserted at the beginning of the queue, so  the most recent node inserted is the one that is going to be explored in the next step.\n",
    "\n",
    "The start state will be the root and will be inserted with no parent in the unexpanded list. The following process will be repeated until the unexpanded list is empty, that means that there are no successors pending to be checked or if the goal state is found.\n",
    "\n",
    "In this case, the  last item inserted in the unexpanded list is removed, and assigned to the current state and parent variables, that will be the the current explored node.\n",
    "\n",
    "All the successors are generated depending on the function's name coming as parameter. After getting all the successors, the duplicated items are removed to avoid exploring nodes that have already been considered. The resulting list of successors needs to be reversed before inserting the new tuples to the expanded list. The reason to reverse that list is because  the first successor needs to go at the end of the unexpanded list to be used as the next node to be explored and thus, inserted in the expanded dictionary. \n",
    "\n",
    "The steps to return the solution path are the same as in the breathFirstSearch algorithm, since all the explored nodes are stored in the same way in the expanded dictionary. \n"
   ]
  },
  {
   "cell_type": "markdown",
   "metadata": {},
   "source": [
    "# Example\n",
    "To obtain the solution path using the depth First Search algorithm follow the next steps:\n",
    "\n",
    "* Define the function *depththFirstSearch*\n",
    "* Define the a dictionary of successors \n",
    "* Define the function *successorsf* that will generate the successors (in case of executing the algorithm to solve the Camel Puzzle, you will need to define the function *camelSuccessorsf* that can be found in the end of this document )\n",
    "* Execute the examples"
   ]
  },
  {
   "cell_type": "code",
   "execution_count": 23,
   "metadata": {
    "collapsed": true
   },
   "outputs": [],
   "source": [
    "def depthFirstSearch(startState , goalState, successorsf):\n",
    "    expanded={}\n",
    "    unexpanded= [(startState,\"None\")]\n",
    "    solutionPath=[]\n",
    "    #If startState is the goalState, return the list containing just startState\n",
    "    if startState==goalState:\n",
    "        return startState\n",
    "    else:\n",
    "        while unexpanded:\n",
    "            #Pop from the end of unExpanded a (state, parent) pair.\n",
    "            (state,parent)= unexpanded.pop()\n",
    "            #Generates successor depending on the function name\n",
    "            if successorsf.func_name==\"camelSuccessorsf\": \n",
    "                childrenAll=camelSuccessorsf(state)\n",
    "                state= tuple(state)\n",
    "                goalState=list(goalState)\n",
    "            else:               \n",
    "                childrenAll=successorsf(state)\n",
    "            #Add state: parent to the expanded dictionary\n",
    "            expanded[state]=parent\n",
    "            \n",
    "            #Remove from children any states that are already in expanded or unExpanded.          \n",
    "            existingChildren=[]\n",
    "            for a, b in unexpanded:\n",
    "                existingChildren.append(a)\n",
    "\n",
    "            existingChildren.append(list(expanded.keys()))        \n",
    "            children= [state1 for state1 in childrenAll if state1 not in existingChildren]\n",
    "            \n",
    "            #remove from list children that are equal to the state node\n",
    "            children= [ch for ch in children if ch!=state]\n",
    "            \n",
    "            #reverse children list to insert childrens in the right way according to\n",
    "            #depth first logic\n",
    "            children=list(reversed(children))\n",
    "\n",
    "            #insert children at the end of unexpanded list\n",
    "            for p in children:\n",
    "                unexpanded.append((p,state))\n",
    "         \n",
    "\n",
    "            #If the goal has been found (in python, goalState is in children):\n",
    "            if goalState in children:\n",
    "                solutionPath.append(goalState)\n",
    "                solutionPath.append(state)\n",
    "                while parent in expanded.values():\n",
    "                    if parent==\"None\":\n",
    "                        break\n",
    "                    solutionPath.append(parent)\n",
    "                    parent=expanded[parent]\n",
    "                return list(reversed(solutionPath))"
   ]
  },
  {
   "cell_type": "code",
   "execution_count": 24,
   "metadata": {},
   "outputs": [
    {
     "data": {
      "text/plain": [
       "{'a': ['b', 'c', 'd'],\n",
       " 'b': ['e', 'f', 'g', 'c'],\n",
       " 'c': ['h', 'i'],\n",
       " 'd': ['j', 'z'],\n",
       " 'e': ['k', 'l'],\n",
       " 'g': ['m'],\n",
       " 'k': ['z']}"
      ]
     },
     "execution_count": 24,
     "metadata": {},
     "output_type": "execute_result"
    }
   ],
   "source": [
    "#dictionary of successors\n",
    "successors = {'a':  ['b', 'c', 'd'],\n",
    "              'b':  ['e', 'f', 'g', 'c'],\n",
    "              'c':  [ 'h', 'i'],\n",
    "              'd':  ['j', 'z'],\n",
    "              'e':  ['k', 'l'],\n",
    "              'g':  ['m'],\n",
    "              'k':  ['z']}\n",
    "successors"
   ]
  },
  {
   "cell_type": "code",
   "execution_count": 25,
   "metadata": {
    "collapsed": true
   },
   "outputs": [],
   "source": [
    "#function to generate the successors for a specific state\n",
    "import copy\n",
    "\n",
    "def successorsf(state):\n",
    "    return copy.copy(successors.get(state, []))"
   ]
  },
  {
   "cell_type": "markdown",
   "metadata": {},
   "source": [
    "The following are some examples:"
   ]
  },
  {
   "cell_type": "code",
   "execution_count": 26,
   "metadata": {},
   "outputs": [
    {
     "name": "stdout",
     "output_type": "stream",
     "text": [
      "Breadth-first\n",
      "('path from a to a is', 'a')\n",
      "('path from a to m is', ['a', 'b', 'g', 'm'])\n",
      "('path from a to z is', ['a', 'b', 'e', 'k', 'z'])\n",
      "('path from g to m is', ['g', 'm'])\n",
      "('path from k to z is', ['k', 'z'])\n",
      "('path from c to a is', None)\n",
      "('path from b to m is', ['b', 'g', 'm'])\n",
      "('path from z to a is', None)\n"
     ]
    }
   ],
   "source": [
    "print('Breadth-first')\n",
    "print('path from a to a is', depthFirstSearch('a', 'a', successorsf))\n",
    "print('path from a to m is', depthFirstSearch('a', 'm', successorsf))\n",
    "print('path from a to z is', depthFirstSearch('a', 'z', successorsf))\n",
    "print('path from g to m is', depthFirstSearch('g', 'm', successorsf))\n",
    "print('path from k to z is', depthFirstSearch('k', 'z', successorsf))\n",
    "print('path from c to a is', depthFirstSearch('c', 'a', successorsf))\n",
    "print('path from b to m is', depthFirstSearch('b', 'm', successorsf))\n",
    "print('path from z to a is', depthFirstSearch('z', 'a', successorsf))"
   ]
  },
  {
   "cell_type": "markdown",
   "metadata": {},
   "source": [
    "The algorithm should  return the solution path containing only the startState when the startState and goalState are the same node."
   ]
  },
  {
   "cell_type": "code",
   "execution_count": 27,
   "metadata": {},
   "outputs": [
    {
     "name": "stdout",
     "output_type": "stream",
     "text": [
      "Breadth-first\n",
      "('path from a to a is', 'a')\n",
      "('path from b to b is', 'b')\n",
      "('path from z to z is', 'z')\n"
     ]
    }
   ],
   "source": [
    "print('Breadth-first')\n",
    "print('path from a to a is', depthFirstSearch('a', 'a', successorsf))\n",
    "print('path from b to b is', depthFirstSearch('b', 'b', successorsf))\n",
    "print('path from z to z is', depthFirstSearch('z', 'z', successorsf))\n"
   ]
  },
  {
   "cell_type": "markdown",
   "metadata": {},
   "source": [
    "If we look at the dictionary containning the successors, we can see that there are two different ways to go from 'a' to 'z',the first one is ['a','b','e','k','z'] and the second one is ['a', 'd', 'z']. In this case, as the solution path is calculated using the *depthFirstSearch* , the result should be the list ['a','b','e','k','z']. After exploring the root 'a', the algorithm will continue with it's first child that is 'b', and after exploring 'b' it will continue with 'e' who is the first child of node the 'b' and so on until it founds 'z'.  "
   ]
  },
  {
   "cell_type": "code",
   "execution_count": 28,
   "metadata": {},
   "outputs": [
    {
     "name": "stdout",
     "output_type": "stream",
     "text": [
      "Breadth-first\n",
      "('path from a to a is', ['a', 'b', 'e', 'k', 'z'])\n"
     ]
    }
   ],
   "source": [
    "print('Breadth-first')\n",
    "print('path from a to a is', depthFirstSearch('a', 'z', successorsf))\n"
   ]
  },
  {
   "cell_type": "markdown",
   "metadata": {},
   "source": [
    "In this example, 'z' does not have any children, and even it is connected to 'a' by 'd', the algorithm will no return a path from 'z' to 'a'"
   ]
  },
  {
   "cell_type": "code",
   "execution_count": 29,
   "metadata": {},
   "outputs": [
    {
     "name": "stdout",
     "output_type": "stream",
     "text": [
      "Breadth-first\n",
      "('path from a to a is', None)\n"
     ]
    }
   ],
   "source": [
    "print('Breadth-first')\n",
    "print('path from a to a is', depthFirstSearch('z', 'a', successorsf))\n"
   ]
  },
  {
   "cell_type": "markdown",
   "metadata": {},
   "source": [
    "# Problems encountered in trying to solve the assignment \n",
    "The first challenge when trying to solve this assignment was to learn the basics to work on  Python, since I had never used this programming language. After looking to some tutorials, reading some documentation and doing some practices, I felt prepared to start.\n",
    "\n",
    "During the development, the first challenge was to represent the expanded and unexpanded data structures. I started using two dictionaries to represent each data structure. I spent some time realizing that dictionaries do not keep elements in the order they were inserted, so it was not a good idea to represent  the unexpanded list with a dictionary, since elements needs to be inserted and removed in a certain order depending on the algorithm. I changed it to a list and I was to much easier.\n",
    "\n",
    "The second thing was when modifying the algorithms to solve the Camels Puzzle, because I did not know that lists can not be used as keys in a dictionary. After knowing that, I changed the key and value that are going to be inserted to a tuple and I was able to add the new items to the dictionary.\n",
    "\n",
    "\n"
   ]
  },
  {
   "cell_type": "markdown",
   "metadata": {},
   "source": [
    "## Camel Successors function"
   ]
  },
  {
   "cell_type": "markdown",
   "metadata": {},
   "source": [
    "The *camelSuccessorsf* is a function used to generate all the posible scenarios that can be reached, in one step, from a certain state of the Camel Puzzle.\n",
    "\n",
    "The initial state will a list containing first all the 4 Left camels, one blank space, and then the other 4 Right camels.\n",
    "\n",
    "The algorithm finds the position of the blank space, and based on that, checks the rest of the list to see if some conditions are present to be able to generate a succesor for that state,  the conditions are the following:\n",
    "* If there is a Left camel one position before the blank position,that camel can be moved to that blank position.\n",
    "* If there is a Right camel one position after the blank position,that camel can be moved to that blank position.\n",
    "* If there is a Left camel two position before the blank space and there is also a Right camel one position before the blanck space, the Left camel can be moved to that blank position.\n",
    "* If there is a Right camel two positions after the blank space and there is also a Left camel one position after the blanck space, the Right camel can be moved to that blank position.\n",
    "\n",
    "\n",
    "The algorithm considers the boundaries of the list, so if the blank space is at the end of the list, it will not ask if there is a Right cammel one position before, because that will be out of the list.\n",
    "\n",
    "The algorithm do not avoid to generate succesors that will not lead to the goal state.  It just generates all the possible movements that can be don, but considering the rule that the camel can not be moved backwards or walk over more than one camel of the other type.\n"
   ]
  },
  {
   "cell_type": "markdown",
   "metadata": {},
   "source": [
    "# Example\n",
    "To obtain the solution to the Camel Puzzle using a  search algorithm follow the next steps:\n",
    "\n",
    "* Define the function *camelSuccessorsf* that will generate the possible movements for the next step\n",
    "* Define the function  you would like to use,  *breadthFirstSearch* or *depththFirstSearch* to generate all the steps from the initial state to the goal state. \n",
    "* Define the initial state\n",
    "* Define the goal state\n",
    "* Execute the examples"
   ]
  },
  {
   "cell_type": "code",
   "execution_count": 30,
   "metadata": {
    "collapsed": true
   },
   "outputs": [],
   "source": [
    "def camelSuccessorsf(camelStartState):\n",
    "\n",
    "    #get blanck space position\n",
    "    camelStartStateList = list(camelStartState)\n",
    "\n",
    "    suc=[]\n",
    "    blanckPosition=camelStartState.index(\"\")\n",
    "    \n",
    "    \n",
    "    if blanckPosition > 1 : \n",
    "        if camelStartStateList[blanckPosition-1]=='L':\n",
    "            camelStartStateList = list(camelStartState)\n",
    "            camelStartStateList[blanckPosition]='L'\n",
    "            camelStartStateList[blanckPosition-1]=''\n",
    "            suc. append(list(camelStartStateList))\n",
    "            camelStartStateList=()\n",
    "             \n",
    "    if blanckPosition < len(camelStartState)-1:\n",
    "        if camelStartState[blanckPosition+1]=='R':\n",
    "            camelStartStateList = list(camelStartState)\n",
    "            camelStartStateList[blanckPosition]='R'\n",
    "            camelStartStateList[blanckPosition+1]=''\n",
    "            suc. append(list(camelStartStateList))\n",
    "            camelStartStateList=()\n",
    "        \n",
    "    if blanckPosition > 1 :              \n",
    "        if camelStartState[blanckPosition-2]=='L' and camelStartState[blanckPosition-1]=='R':\n",
    "            camelStartStateList = list(camelStartState)\n",
    "            camelStartStateList[blanckPosition]='L'\n",
    "            camelStartStateList[blanckPosition-2]=''\n",
    "            suc. append(list(camelStartStateList))\n",
    "            camelStartStateList=()\n",
    "\n",
    "    if blanckPosition < len(camelStartState)-2:\n",
    "        if camelStartState[blanckPosition+2]=='R' and camelStartState[blanckPosition+1]=='L':\n",
    "            camelStartStateList = list(camelStartState)\n",
    "            camelStartStateList[blanckPosition]='R'\n",
    "            camelStartStateList[blanckPosition+2]=''\n",
    "            suc. append(list(camelStartStateList))\n",
    "            camelStartStateList=()\n",
    "            \n",
    "    return list(suc)\n",
    "    \n",
    "       \n",
    "    \n"
   ]
  },
  {
   "cell_type": "code",
   "execution_count": 31,
   "metadata": {
    "collapsed": true
   },
   "outputs": [],
   "source": [
    "#start state\n",
    "camelStartState=('L', 'L', 'L', 'L', '', 'R', 'R', 'R', 'R')"
   ]
  },
  {
   "cell_type": "code",
   "execution_count": 32,
   "metadata": {
    "collapsed": true
   },
   "outputs": [],
   "source": [
    "#goal state\n",
    "camelGoalState=('R', 'R', 'R', 'R', '', 'L', 'L', 'L', 'L')"
   ]
  },
  {
   "cell_type": "code",
   "execution_count": 33,
   "metadata": {},
   "outputs": [
    {
     "name": "stdout",
     "output_type": "stream",
     "text": [
      "('Breadth-first solution: (', 25, 'steps)')\n",
      "('L', 'L', 'L', 'L', '', 'R', 'R', 'R', 'R')\n",
      "('L', 'L', 'L', '', 'L', 'R', 'R', 'R', 'R')\n",
      "('L', 'L', 'L', 'R', 'L', '', 'R', 'R', 'R')\n",
      "('L', 'L', 'L', 'R', 'L', 'R', '', 'R', 'R')\n",
      "('L', 'L', 'L', 'R', '', 'R', 'L', 'R', 'R')\n",
      "('L', 'L', '', 'R', 'L', 'R', 'L', 'R', 'R')\n",
      "('L', '', 'L', 'R', 'L', 'R', 'L', 'R', 'R')\n",
      "('L', 'R', 'L', '', 'L', 'R', 'L', 'R', 'R')\n",
      "('L', 'R', 'L', 'R', 'L', '', 'L', 'R', 'R')\n",
      "('L', 'R', 'L', 'R', 'L', 'R', 'L', '', 'R')\n",
      "('L', 'R', 'L', 'R', 'L', 'R', 'L', 'R', '')\n",
      "('L', 'R', 'L', 'R', 'L', 'R', '', 'R', 'L')\n",
      "('L', 'R', 'L', 'R', '', 'R', 'L', 'R', 'L')\n",
      "('L', 'R', '', 'R', 'L', 'R', 'L', 'R', 'L')\n",
      "('', 'R', 'L', 'R', 'L', 'R', 'L', 'R', 'L')\n",
      "('R', '', 'L', 'R', 'L', 'R', 'L', 'R', 'L')\n",
      "('R', 'R', 'L', '', 'L', 'R', 'L', 'R', 'L')\n",
      "('R', 'R', 'L', 'R', 'L', '', 'L', 'R', 'L')\n",
      "('R', 'R', 'L', 'R', 'L', 'R', 'L', '', 'L')\n",
      "('R', 'R', 'L', 'R', 'L', 'R', '', 'L', 'L')\n",
      "('R', 'R', 'L', 'R', '', 'R', 'L', 'L', 'L')\n",
      "('R', 'R', '', 'R', 'L', 'R', 'L', 'L', 'L')\n",
      "('R', 'R', 'R', '', 'L', 'R', 'L', 'L', 'L')\n",
      "('R', 'R', 'R', 'R', 'L', '', 'L', 'L', 'L')\n",
      "['R', 'R', 'R', 'R', '', 'L', 'L', 'L', 'L']\n"
     ]
    }
   ],
   "source": [
    "#Examples\n",
    "bfs = breadthFirstSearch(camelStartState, camelGoalState, camelSuccessorsf)\n",
    "print('Breadth-first solution: (', len(bfs), 'steps)')\n",
    "for s in bfs:\n",
    "    print(s)\n",
    "\n"
   ]
  },
  {
   "cell_type": "code",
   "execution_count": 34,
   "metadata": {
    "scrolled": true
   },
   "outputs": [
    {
     "name": "stdout",
     "output_type": "stream",
     "text": [
      "('Depth-first solution: (', 25, 'steps)')\n",
      "('L', 'L', 'L', 'L', '', 'R', 'R', 'R', 'R')\n",
      "('L', 'L', 'L', '', 'L', 'R', 'R', 'R', 'R')\n",
      "('L', 'L', 'L', 'R', 'L', '', 'R', 'R', 'R')\n",
      "('L', 'L', 'L', 'R', 'L', 'R', '', 'R', 'R')\n",
      "('L', 'L', 'L', 'R', '', 'R', 'L', 'R', 'R')\n",
      "('L', 'L', '', 'R', 'L', 'R', 'L', 'R', 'R')\n",
      "('L', '', 'L', 'R', 'L', 'R', 'L', 'R', 'R')\n",
      "('L', 'R', 'L', '', 'L', 'R', 'L', 'R', 'R')\n",
      "('L', 'R', 'L', 'R', 'L', '', 'L', 'R', 'R')\n",
      "('L', 'R', 'L', 'R', 'L', 'R', 'L', '', 'R')\n",
      "('L', 'R', 'L', 'R', 'L', 'R', 'L', 'R', '')\n",
      "('L', 'R', 'L', 'R', 'L', 'R', '', 'R', 'L')\n",
      "('L', 'R', 'L', 'R', '', 'R', 'L', 'R', 'L')\n",
      "('L', 'R', '', 'R', 'L', 'R', 'L', 'R', 'L')\n",
      "('', 'R', 'L', 'R', 'L', 'R', 'L', 'R', 'L')\n",
      "('R', '', 'L', 'R', 'L', 'R', 'L', 'R', 'L')\n",
      "('R', 'R', 'L', '', 'L', 'R', 'L', 'R', 'L')\n",
      "('R', 'R', 'L', 'R', 'L', '', 'L', 'R', 'L')\n",
      "('R', 'R', 'L', 'R', 'L', 'R', 'L', '', 'L')\n",
      "('R', 'R', 'L', 'R', 'L', 'R', '', 'L', 'L')\n",
      "('R', 'R', 'L', 'R', '', 'R', 'L', 'L', 'L')\n",
      "('R', 'R', '', 'R', 'L', 'R', 'L', 'L', 'L')\n",
      "('R', 'R', 'R', '', 'L', 'R', 'L', 'L', 'L')\n",
      "('R', 'R', 'R', 'R', 'L', '', 'L', 'L', 'L')\n",
      "['R', 'R', 'R', 'R', '', 'L', 'L', 'L', 'L']\n"
     ]
    }
   ],
   "source": [
    "#Examples\n",
    "dfs = depthFirstSearch(camelStartState, camelGoalState, camelSuccessorsf)\n",
    "print('Depth-first solution: (', len(dfs), 'steps)')\n",
    "for s in dfs:\n",
    "    print(s)"
   ]
  },
  {
   "cell_type": "markdown",
   "metadata": {},
   "source": [
    "## Grading\n",
    "\n",
    "Your notebook will be run and graded automatically. Download [A1grader.tar](http://www.cs.colostate.edu/~anderson/cs440/notebooks/A1grader.tar)  and extract A1grader.py from it. Run the code in the following cell to demonstrate an example grading session. You should see a perfect score of 80/100 if your functions are defined correctly. \n",
    "\n",
    "The remaining 20% will be based on your writing.  In markdown cells, explain what your functions are doing and summarize the algorithms.\n",
    "\n",
    "Add at least one markdown cell that describes problems you encountered in trying to solve this assignment."
   ]
  },
  {
   "cell_type": "code",
   "execution_count": 35,
   "metadata": {},
   "outputs": [
    {
     "name": "stdout",
     "output_type": "stream",
     "text": [
      "('Searching this graph:\\n', {'a': ['b'], 'c': ['e'], 'b': ['c', 'd'], 'e': ['g', 'h', 'i'], 'd': ['f', 'i']})\n",
      "Looking for path from a to b.\n",
      "('20/20 points. Your breadthFirstSearch found correct solution path of', ['a', 'b'])\n",
      "('20/20 points. Your depthFirstSearch found correct solution path of', ['a', 'b'])\n",
      "Looking for path from a to i.\n",
      "('20/20 points. Your breadthFirstSearch found correct solution path of', ['a', 'b', 'd', 'i'])\n",
      "('20/20 points. Your depthFirstSearch found correct solution path of', ['a', 'b', 'c', 'e', 'i'])\n",
      "\n",
      "Descargas Grade is 80/100\n",
      "Up to 20 more points will be given based on the qualty of your descriptions of the method and the results.\n"
     ]
    }
   ],
   "source": [
    "%run -i A1grader.py"
   ]
  },
  {
   "cell_type": "code",
   "execution_count": null,
   "metadata": {
    "collapsed": true
   },
   "outputs": [],
   "source": []
  }
 ],
 "metadata": {
  "anaconda-cloud": {},
  "kernelspec": {
   "display_name": "Python 2",
   "language": "python",
   "name": "python2"
  },
  "language_info": {
   "codemirror_mode": {
    "name": "ipython",
    "version": 2
   },
   "file_extension": ".py",
   "mimetype": "text/x-python",
   "name": "python",
   "nbconvert_exporter": "python",
   "pygments_lexer": "ipython2",
   "version": "2.7.12"
  }
 },
 "nbformat": 4,
 "nbformat_minor": 1
}
