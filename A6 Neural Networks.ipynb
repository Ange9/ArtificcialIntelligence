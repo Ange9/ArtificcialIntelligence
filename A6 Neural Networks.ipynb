{
 "cells": [
  {
   "cell_type": "markdown",
   "metadata": {},
   "source": [
    "$\\newcommand{\\xv}{\\mathbf{x}}\n",
    "\\newcommand{\\Xv}{\\mathbf{X}}\n",
    "\\newcommand{\\yv}{\\mathbf{y}}\n",
    "\\newcommand{\\zv}{\\mathbf{z}}\n",
    "\\newcommand{\\av}{\\mathbf{a}}\n",
    "\\newcommand{\\Wv}{\\mathbf{W}}\n",
    "\\newcommand{\\wv}{\\mathbf{w}}\n",
    "\\newcommand{\\tv}{\\mathbf{t}}\n",
    "\\newcommand{\\Tv}{\\mathbf{T}}\n",
    "\\newcommand{\\muv}{\\boldsymbol{\\mu}}\n",
    "\\newcommand{\\sigmav}{\\boldsymbol{\\sigma}}\n",
    "\\newcommand{\\phiv}{\\boldsymbol{\\phi}}\n",
    "\\newcommand{\\Phiv}{\\boldsymbol{\\Phi}}\n",
    "\\newcommand{\\Sigmav}{\\boldsymbol{\\Sigma}}\n",
    "\\newcommand{\\Lambdav}{\\boldsymbol{\\Lambda}}\n",
    "\\newcommand{\\half}{\\frac{1}{2}}\n",
    "\\newcommand{\\argmax}[1]{\\underset{#1}{\\operatorname{argmax}}}\n",
    "\\newcommand{\\argmin}[1]{\\underset{#1}{\\operatorname{argmin}}}$"
   ]
  },
  {
   "cell_type": "markdown",
   "metadata": {},
   "source": [
    "# Assignment 6: Neural Networks"
   ]
  },
  {
   "cell_type": "markdown",
   "metadata": {},
   "source": [
    "*Type your name here and rewrite all of the following sections.  Add more sections to present your code, results, and discussions.*"
   ]
  },
  {
   "cell_type": "markdown",
   "metadata": {},
   "source": [
    "## Overview"
   ]
  },
  {
   "cell_type": "markdown",
   "metadata": {},
   "source": [
    "You will write and apply code that trains neural networks of various numbers of hidden layers and units in each hidden layer and returns results as specified below.  You will do this once for a regression problem and once for a classification problem. "
   ]
  },
  {
   "cell_type": "markdown",
   "metadata": {},
   "source": [
    "## Required Code"
   ]
  },
  {
   "cell_type": "markdown",
   "metadata": {},
   "source": [
    "Download [nn2.tar](http://www.cs.colostate.edu/~anderson/cs440/notebooks/nn2.tar) that was used in lecture and extract its contents, which are\n",
    "\n",
    "* `neuralnetworks.py`\n",
    "* `scaledconjugategradient.py`\n",
    "* `mlutils.py`"
   ]
  },
  {
   "cell_type": "markdown",
   "metadata": {},
   "source": [
    "Write the following functions that train and evaluate neural network models.\n",
    "\n",
    "* `results = trainNNs(X, T, trainFraction, hiddenLayerStructures, numberRepetitions, numberIterations, classify)`\n",
    "\n",
    "The arguments to `trainNNs` are\n",
    "\n",
    "* `X` is a matrix of input data of shape `nSamples x nFeatures`\n",
    "* `T` is a matrix of target data of shape `nSamples x nOutputs`\n",
    "* `trainFraction` is fraction of samples to use as training data. 1-`trainFraction` is number of samples for testing data\n",
    "* `hiddenLayerStructures` is list of network architectures. For example, to test two networks, one with one hidden layer of 20 units, and one with 3 hidden layers with 5, 10, and 20 units in each layer, this argument would be `[[20], [5, 10, 20]]`.\n",
    "* `numberRepetitions` is number of times to train a neural network.  Calculate training and testing average performance (two separate averages) of this many training runs.\n",
    "* `numberIterations` is the number of iterations to run the scaled conjugate gradient algorithm when a neural network is trained.\n",
    "* `classify` is set to `True` if you are doing a classification problem, in which case `T` must be a single column of target class integers.\n",
    "\n",
    "This function returns `results` which is list with one element for each network structure tested.  Each element is a list containing \n",
    "\n",
    "* the hidden layer structure (as a list),\n",
    "* a list of training data performance for each repetition, \n",
    "* a list of testing data performance for each repetition, and\n",
    "* the number of seconds it took to run this many repetitions for this network structure.\n",
    "\n",
    "This function should follow these steps:\n",
    "\n",
    "  * For each network structure given in `hiddenLayerStructures`\n",
    "    * For numberRepetitions\n",
    "      * Use `ml.partition` to randomly partition X and T into training and testing sets.\n",
    "      * Create a neural network of the given structure\n",
    "      * Train it for numberIterations\n",
    "      * Use the trained network to produce outputs for the training and for the testing sets\n",
    "      * If classifying, calculate the fraction of samples incorrectly classified for training and testing sets.\n",
    "       Otherwise, calculate the RMSE of training and testing sets.\n",
    "      * Add the training and testing performance to a collection (such as a list) for this network structure\n",
    "    * Add to a collection of all results the hidden layer structure, lists of training performance and testing performance, and seconds taken to do these repetitions.\n",
    "  * return the collection of all results"
   ]
  },
  {
   "cell_type": "markdown",
   "metadata": {},
   "source": [
    "Also write the following two functions. `summarize(results)` returns a list of lists like `results` but with the list of training performances replaced by their mean and the list of testing performances replaced by their mean.   \n",
    "`bestNetwork(summary)` takes the output of `summarize(results)` and returns the best element of `results`, determined by the element that has the smallest test performance.\n",
    "\n",
    "* `summary = summarize(results)` where `results` is returned by `trainNNs` and `summary` is like `results` with the training and testing performance lists replaced by their means\n",
    "* `best = bestNetwork(summary)` where `summary` is returned by `summarize` and `best` is the best element of `summary`"
   ]
  },
  {
   "cell_type": "code",
   "execution_count": 59,
   "metadata": {},
   "outputs": [
    {
     "name": "stdout",
     "output_type": "stream",
     "text": [
      "[[7]\n",
      " [1]\n",
      " [8]\n",
      " [4]\n",
      " [5]\n",
      " [3]\n",
      " [0]\n",
      " [6]] ....... [[ 7.63409698]\n",
      " [ 1.35154135]\n",
      " [ 9.85473642]\n",
      " [ 5.32873627]\n",
      " [ 6.16276772]\n",
      " [ 4.86443545]\n",
      " [ 0.76484281]\n",
      " [ 7.44100911]] ....... [[9]\n",
      " [2]] ....... [[ 10.76766991]\n",
      " [  2.49388898]]\n"
     ]
    }
   ],
   "source": [
    "Z=ml.partition(X,T,(0.8, 1-0.8))\n",
    "print (Z[0],'.......', Z[1],'.......',Z[2],'.......',Z[3])"
   ]
  },
  {
   "cell_type": "code",
   "execution_count": 77,
   "metadata": {},
   "outputs": [
    {
     "name": "stdout",
     "output_type": "stream",
     "text": [
      "0\n",
      "Q [[  1.19154381]\n",
      " [  1.98064519]\n",
      " [  2.95487356]\n",
      " [  4.06960551]\n",
      " [  5.24750461]\n",
      " [  6.40503333]\n",
      " [  7.48033715]\n",
      " [  8.44305893]\n",
      " [  9.28578102]\n",
      " [ 10.01077638]]\n",
      "1\n",
      "Q [[  1.15317295]\n",
      " [  1.8050124 ]\n",
      " [  2.64651276]\n",
      " [  3.69002003]\n",
      " [  4.91042679]\n",
      " [  6.23601354]\n",
      " [  7.56096981]\n",
      " [  8.77856043]\n",
      " [  9.8149704 ]\n",
      " [ 10.64317511]]\n",
      "2\n",
      "Q [[  0.89046719]\n",
      " [  1.66149816]\n",
      " [  2.63951643]\n",
      " [  3.80222359]\n",
      " [  5.08443581]\n",
      " [  6.39038889]\n",
      " [  7.62262777]\n",
      " [  8.70963742]\n",
      " [  9.61695503]\n",
      " [ 10.34198456]]\n",
      "3\n",
      "Q [[  0.62037489]\n",
      " [  1.69053074]\n",
      " [  2.81640523]\n",
      " [  3.97475573]\n",
      " [  5.14233757]\n",
      " [  6.29839429]\n",
      " [  7.42622061]\n",
      " [  8.51349498]\n",
      " [  9.5515417 ]\n",
      " [ 10.53403209]]\n",
      "4\n",
      "Q [[  0.78803981]\n",
      " [  1.74725535]\n",
      " [  2.79999402]\n",
      " [  3.92502879]\n",
      " [  5.09434636]\n",
      " [  6.27592333]\n",
      " [  7.43727942]\n",
      " [  8.5489536 ]\n",
      " [  9.58713248]\n",
      " [ 10.53502826]]\n",
      "0\n",
      "Q [[  0.61224185]\n",
      " [  1.689104  ]\n",
      " [  2.82026137]\n",
      " [  3.96558687]\n",
      " [  5.1003026 ]\n",
      " [  6.21564965]\n",
      " [  7.31044332]\n",
      " [  8.38127554]\n",
      " [  9.41692071]\n",
      " [ 10.39854105]]\n",
      "1\n",
      "Q [[  0.81911581]\n",
      " [  1.73824141]\n",
      " [  2.79915965]\n",
      " [  3.97194584]\n",
      " [  5.20293834]\n",
      " [  6.42517076]\n",
      " [  7.58062763]\n",
      " [  8.63147491]\n",
      " [  9.55214199]\n",
      " [ 10.32361236]]\n",
      "2\n",
      "Q [[  0.72283994]\n",
      " [  1.68235328]\n",
      " [  2.73818961]\n",
      " [  3.84870916]\n",
      " [  4.98369983]\n",
      " [  6.12619782]\n",
      " [  7.26142604]\n",
      " [  8.36586602]\n",
      " [  9.40572863]\n",
      " [ 10.34490986]]\n",
      "3\n",
      "Q [[  0.74597864]\n",
      " [  1.71784241]\n",
      " [  2.82243955]\n",
      " [  4.00672796]\n",
      " [  5.21285049]\n",
      " [  6.39395483]\n",
      " [  7.5188173 ]\n",
      " [  8.56304043]\n",
      " [  9.50021215]\n",
      " [ 10.30509447]]\n",
      "4\n",
      "Q [[  0.76097375]\n",
      " [  1.6730829 ]\n",
      " [  2.76100655]\n",
      " [  3.94625454]\n",
      " [  5.14751268]\n",
      " [  6.32219677]\n",
      " [  7.46109464]\n",
      " [  8.55114809]\n",
      " [  9.5568938 ]\n",
      " [ 10.43568586]]\n",
      "0\n",
      "Q [[ 1.73907953]\n",
      " [ 1.89885625]\n",
      " [ 2.18414646]\n",
      " [ 2.64119252]\n",
      " [ 3.30814255]\n",
      " [ 4.178112  ]\n",
      " [ 5.16796383]\n",
      " [ 6.14572778]\n",
      " [ 7.0046247 ]\n",
      " [ 7.70184026]]\n",
      "1\n",
      "Q [[  0.66109786]\n",
      " [  1.59486615]\n",
      " [  2.71125637]\n",
      " [  3.93505603]\n",
      " [  5.17978152]\n",
      " [  6.38574184]\n",
      " [  7.5267492 ]\n",
      " [  8.58637404]\n",
      " [  9.52988595]\n",
      " [ 10.30811191]]\n",
      "2\n",
      "Q [[  0.50013476]\n",
      " [  1.33497219]\n",
      " [  2.44375852]\n",
      " [  3.73449303]\n",
      " [  5.02913356]\n",
      " [  6.2319233 ]\n",
      " [  7.355828  ]\n",
      " [  8.4137707 ]\n",
      " [  9.36739306]\n",
      " [ 10.16080229]]\n",
      "3\n",
      "Q [[  1.00666723]\n",
      " [  1.81108727]\n",
      " [  2.82282413]\n",
      " [  4.01990466]\n",
      " [  5.33376535]\n",
      " [  6.65124248]\n",
      " [  7.84765228]\n",
      " [  8.83587234]\n",
      " [  9.59119301]\n",
      " [ 10.13763075]]\n",
      "4\n",
      "Q [[  0.54392957]\n",
      " [  1.61062219]\n",
      " [  2.78423484]\n",
      " [  3.99023587]\n",
      " [  5.18136694]\n",
      " [  6.3520906 ]\n",
      " [  7.50667401]\n",
      " [  8.62029088]\n",
      " [  9.64164333]\n",
      " [ 10.53278682]]\n"
     ]
    }
   ],
   "source": [
    "def trainNNs(X, T,trainFraction,hiddenLayerStructures,numberRepetitions,numberIterations, classify): \n",
    "    #For each network structure given in `hiddenLayerStructures`\n",
    "    for  hiddenLayer in hiddenLayerStructures:\n",
    "        #For numberRepetitions\n",
    "        for  rep in range(numberRepetitions):\n",
    "            print (rep)\n",
    "            #Use `ml.partition` to randomly partition X and T into training and testing sets.\n",
    "            Z=ml.partition(X,T,(trainFraction, 1-trainFraction),classify)\n",
    "            Xtrain=Z[0]\n",
    "            Train=Z[1]\n",
    "            Xtest=Z[2]\n",
    "            Ttest=Z[3]\n",
    "            #Create a neural network of the given structure\n",
    "            #print ('hiddenLayer', hiddenLayer)\n",
    "            nnet = nn.NeuralNetwork(Xtrain.shape[1], hiddenLayer, Train.shape[1])\n",
    "            #Train it for numberIterations\n",
    "            nnet.train(Xtrain, Train, numberIterations)\n",
    "            #V=nnet.getErrorTrace()\n",
    "            Q=nnet.use(Xtrain)\n",
    "            print ('Q',Q)\n",
    "            #Use the trained network to produce outputs for the training and for \n",
    "            #the testing sets\n",
    "            startTime = time.time()\n",
    "trainNNs(X, T, 0.8, [2, 10, [10, 10]], 5,6, True)\n"
   ]
  },
  {
   "cell_type": "markdown",
   "metadata": {},
   "source": [
    "## Examples\n"
   ]
  },
  {
   "cell_type": "code",
   "execution_count": 40,
   "metadata": {},
   "outputs": [],
   "source": [
    "import numpy as np\n",
    "import matplotlib.pyplot as plt\n",
    "%matplotlib inline\n",
    "import time\n",
    "import mlutils as ml\n",
    "X = np.arange(10).reshape((-1,1))\n",
    "T = X + 1 + np.random.uniform(-1, 1, ((10,1)))\n"
   ]
  },
  {
   "cell_type": "code",
   "execution_count": 15,
   "metadata": {},
   "outputs": [],
   "source": [
    "import matplotlib.pyplot as plt\n",
    "%matplotlib inline"
   ]
  },
  {
   "cell_type": "code",
   "execution_count": 16,
   "metadata": {
    "scrolled": false
   },
   "outputs": [
    {
     "data": {
      "image/png": "[encoded data removed]",
      "text/plain": [
       "<matplotlib.figure.Figure at 0x7f03157ec358>"
      ]
     },
     "metadata": {},
     "output_type": "display_data"
    }
   ],
   "source": [
    "plt.plot(X, T, 'o-');"
   ]
  },
  {
   "cell_type": "code",
   "execution_count": 30,
   "metadata": {},
   "outputs": [
    {
     "name": "stdout",
     "output_type": "stream",
     "text": [
      "10\n"
     ]
    }
   ],
   "source": [
    "print (T.shape[])"
   ]
  },
  {
   "cell_type": "code",
   "execution_count": 21,
   "metadata": {},
   "outputs": [
    {
     "data": {
      "text/plain": [
       "array([ 0.70710678,  0.13162967,  0.11614048,  0.1159553 ,  0.11587281,\n",
       "        0.11494564,  0.11490368,  0.11487994,  0.11486378,  0.11486197,\n",
       "        0.1147991 ,  0.11479801,  0.11479642,  0.11479642,  0.11479642,\n",
       "        0.11479642,  0.11479642,  0.11479642,  0.11479642,  0.11479642,\n",
       "        0.11479642,  0.11479642,  0.11479642,  0.11479642,  0.11477105,\n",
       "        0.11470056,  0.11469926,  0.11465366,  0.11464416,  0.11464401,\n",
       "        0.11463938,  0.11463631,  0.11463597,  0.11463562,  0.11463391,\n",
       "        0.11462352,  0.11462345,  0.11462328,  0.11462277,  0.11462251,\n",
       "        0.11462235,  0.11462215,  0.11461823,  0.11461821,  0.1146178 ,\n",
       "        0.11461528,  0.11461528,  0.11461511,  0.11461508,  0.11461313,\n",
       "        0.11461299,  0.11461299,  0.11461299,  0.11460045,  0.11459234,\n",
       "        0.114588  ,  0.11457174,  0.11457024,  0.11452516,  0.11452423,\n",
       "        0.11452423,  0.11452423,  0.11452423,  0.11452423,  0.11446134,\n",
       "        0.11444933,  0.11443986,  0.11443485,  0.11437011,  0.11436943,\n",
       "        0.11435507,  0.11432746,  0.1142995 ,  0.11420327,  0.11414079,\n",
       "        0.11406247,  0.11406017,  0.11406017,  0.11406017,  0.11406017,\n",
       "        0.11406017,  0.11406017,  0.11406017,  0.11402925,  0.11367498,\n",
       "        0.11366315,  0.11356289,  0.11353739,  0.11353148,  0.11337334,\n",
       "        0.1133606 ,  0.11285852,  0.11285852,  0.11190149,  0.11179002,\n",
       "        0.11169833,  0.11150531,  0.11128215,  0.11103126,  0.11071089,\n",
       "        0.1105551 ])"
      ]
     },
     "execution_count": 21,
     "metadata": {},
     "output_type": "execute_result"
    }
   ],
   "source": [
    "import neuralnetworks as nn\n",
    "nnet = nn.NeuralNetwork(X.shape[1], 2, T.shape[1])\n",
    "nnet.train(X, T, 100)\n",
    "nnet.getErrorTrace()"
   ]
  },
  {
   "cell_type": "code",
   "execution_count": 66,
   "metadata": {},
   "outputs": [
    {
     "data": {
      "text/plain": [
       "array([ 0.70710678,  0.25047567,  0.21887401,  0.21147899,  0.20097898,\n",
       "        0.16484974,  0.15251339,  0.13849479,  0.13559367,  0.13219418,\n",
       "        0.1248538 ,  0.12085018,  0.11568586,  0.11459143,  0.11315651,\n",
       "        0.11263937,  0.10909149,  0.10839445,  0.10652662,  0.10607807,\n",
       "        0.10453868,  0.10342239,  0.09894881,  0.09716536,  0.09556353,\n",
       "        0.09449332,  0.09315672,  0.09053039,  0.08991869,  0.08933583,\n",
       "        0.08928211,  0.08922893,  0.08916482,  0.08875687,  0.08860601,\n",
       "        0.08851867,  0.08842537,  0.08819296,  0.08632965,  0.08545461,\n",
       "        0.0827865 ,  0.08234469,  0.08216504,  0.08211418,  0.08203451,\n",
       "        0.08203451,  0.08203451,  0.08203451,  0.08203451,  0.08203451,\n",
       "        0.08203451,  0.08203451,  0.08203451,  0.08203451,  0.08203451,\n",
       "        0.08203451,  0.08203451,  0.08203451,  0.08203451,  0.08203451,\n",
       "        0.08203451,  0.08203451,  0.08203451,  0.08203451,  0.08203451,\n",
       "        0.08187195,  0.0803049 ,  0.07927553,  0.07789469,  0.07785298,\n",
       "        0.07548469,  0.07546532,  0.07528536,  0.07523857,  0.07497611,\n",
       "        0.07497611,  0.07497611,  0.07497611,  0.07497611,  0.07497611,\n",
       "        0.07493877,  0.07281791,  0.07218525,  0.07098093,  0.07039036,\n",
       "        0.06993741,  0.06983027,  0.06975973,  0.06970851,  0.06970851,\n",
       "        0.06970851,  0.06970851,  0.06970851,  0.06805741,  0.06780925,\n",
       "        0.06693849,  0.06469716,  0.06413429,  0.06401097,  0.06394589,\n",
       "        0.06355112])"
      ]
     },
     "execution_count": 66,
     "metadata": {},
     "output_type": "execute_result"
    }
   ],
   "source": [
    "nnet = nn.NeuralNetwork(X.shape[1], [5, 5, 5], T.shape[1])\n",
    "nnet.train(X, T, 100)\n",
    "nnet.getErrorTrace()"
   ]
  },
  {
   "cell_type": "code",
   "execution_count": 32,
   "metadata": {},
   "outputs": [
    {
     "ename": "NameError",
     "evalue": "name 'trainNNs' is not defined",
     "output_type": "error",
     "traceback": [
      "\u001b[0;31m---------------------------------------------------------------------------\u001b[0m",
      "\u001b[0;31mNameError\u001b[0m                                 Traceback (most recent call last)",
      "\u001b[0;32m<ipython-input-32-811a1b0a7e49>\u001b[0m in \u001b[0;36m<module>\u001b[0;34m()\u001b[0m\n\u001b[0;32m----> 1\u001b[0;31m \u001b[0mresults\u001b[0m \u001b[0;34m=\u001b[0m \u001b[0mtrainNNs\u001b[0m\u001b[0;34m(\u001b[0m\u001b[0mX\u001b[0m\u001b[0;34m,\u001b[0m \u001b[0mT\u001b[0m\u001b[0;34m,\u001b[0m \u001b[0;36m0.8\u001b[0m\u001b[0;34m,\u001b[0m \u001b[0;34m[\u001b[0m\u001b[0;36m2\u001b[0m\u001b[0;34m,\u001b[0m \u001b[0;36m10\u001b[0m\u001b[0;34m,\u001b[0m \u001b[0;34m[\u001b[0m\u001b[0;36m10\u001b[0m\u001b[0;34m,\u001b[0m \u001b[0;36m10\u001b[0m\u001b[0;34m]\u001b[0m\u001b[0;34m]\u001b[0m\u001b[0;34m,\u001b[0m \u001b[0;36m5\u001b[0m\u001b[0;34m,\u001b[0m \u001b[0;36m100\u001b[0m\u001b[0;34m,\u001b[0m \u001b[0mclassify\u001b[0m\u001b[0;34m=\u001b[0m\u001b[0;32mFalse\u001b[0m\u001b[0;34m)\u001b[0m\u001b[0;34m\u001b[0m\u001b[0m\n\u001b[0m\u001b[1;32m      2\u001b[0m \u001b[0mresults\u001b[0m\u001b[0;34m\u001b[0m\u001b[0m\n",
      "\u001b[0;31mNameError\u001b[0m: name 'trainNNs' is not defined"
     ]
    }
   ],
   "source": [
    "results = trainNNs(X, T, 0.8, [2, 10, [10, 10]], 5, 100, classify=False)\n",
    "results"
   ]
  },
  {
   "cell_type": "code",
   "execution_count": 31,
   "metadata": {
    "collapsed": true
   },
   "outputs": [],
   "source": [
    "results = trainNNs(X, T, 0.8, [0, 1, 2, 10, [10, 10], [5, 5, 5, 5], [2]*5], 50, 400, classify=False)"
   ]
  },
  {
   "cell_type": "code",
   "execution_count": 32,
   "metadata": {},
   "outputs": [
    {
     "data": {
      "text/plain": [
       "[[0, 0.53143143920050495, 0.5755313396359012, 0.02525186538696289],\n",
       " [1, 0.41796988528870666, 0.8019628348277037, 0.48237133026123047],\n",
       " [2, 0.319301650214185, 0.79158629335178698, 3.0588934421539307],\n",
       " [10, 0.014479537325943773, 1.3689404089207877, 2.4029524326324463],\n",
       " [[10, 10], 0.0059205648354279314, 1.263934252184689, 3.949293613433838],\n",
       " [[5, 5, 5, 5], 0.10473467510155832, 1.193733162683511, 6.051068544387817],\n",
       " [[2, 2, 2, 2, 2],\n",
       "  0.27347638907453148,\n",
       "  0.93362462573994121,\n",
       "  6.222663402557373]]"
      ]
     },
     "execution_count": 32,
     "metadata": {},
     "output_type": "execute_result"
    }
   ],
   "source": [
    "summarize(results)"
   ]
  },
  {
   "cell_type": "code",
   "execution_count": 33,
   "metadata": {},
   "outputs": [
    {
     "name": "stdout",
     "output_type": "stream",
     "text": [
      "[0, 0.53143143920050495, 0.5755313396359012, 0.02525186538696289]\n",
      "Hidden Layers 0 Average RMSE Training 0.53 Testing 0.58 Took 0.03 seconds\n"
     ]
    }
   ],
   "source": [
    "best = bestNetwork(summarize(results))\n",
    "print(best)\n",
    "print('Hidden Layers {} Average RMSE Training {:.2f} Testing {:.2f} Took {:.2f} seconds'.format(*best))"
   ]
  },
  {
   "cell_type": "markdown",
   "metadata": {},
   "source": [
    "Hummm...neural nets with no hidden layers did best on this simple data set.  Why?  Remember what \"best\" means."
   ]
  },
  {
   "cell_type": "markdown",
   "metadata": {},
   "source": [
    "## Data for Regression Experiment\n",
    "\n",
    "From the UCI Machine Learning Repository, download the [Appliances energy prediction](http://archive.ics.uci.edu/ml/datasets/Appliances+energy+prediction) data.  You can do this by visiting the Data Folder for this data set, or just do this:\n",
    "\n",
    "     !wget http://archive.ics.uci.edu/ml/machine-learning-databases/00374/energydata_complete.csv\n",
    "\n"
   ]
  },
  {
   "cell_type": "markdown",
   "metadata": {},
   "source": [
    "Read this data into python.  One suggestion is to use the `loadtxt` function in the `numpy` package.  You may ignore the first column of each row which contains a data and time.  Also ignore the last two columns of random variables.  We will not use that in our modeling of this data.  You will also have to deal with the double quotes that surround every value in every field.  Read the first line of this file to get the names of the features.\n",
    "\n",
    "Once you have read this in correctly, you should see values like this:"
   ]
  },
  {
   "cell_type": "code",
   "execution_count": 11,
   "metadata": {
    "scrolled": true
   },
   "outputs": [
    {
     "data": {
      "text/plain": [
       "['Appliances',\n",
       " 'lights',\n",
       " 'T1',\n",
       " 'RH_1',\n",
       " 'T2',\n",
       " 'RH_2',\n",
       " 'T3',\n",
       " 'RH_3',\n",
       " 'T4',\n",
       " 'RH_4',\n",
       " 'T5',\n",
       " 'RH_5',\n",
       " 'T6',\n",
       " 'RH_6',\n",
       " 'T7',\n",
       " 'RH_7',\n",
       " 'T8',\n",
       " 'RH_8',\n",
       " 'T9',\n",
       " 'RH_9',\n",
       " 'T_out',\n",
       " 'Press_mm_hg',\n",
       " 'RH_out',\n",
       " 'Windspeed',\n",
       " 'Visibility',\n",
       " 'Tdewpoint']"
      ]
     },
     "execution_count": 11,
     "metadata": {},
     "output_type": "execute_result"
    }
   ],
   "source": [
    "names"
   ]
  },
  {
   "cell_type": "code",
   "execution_count": 12,
   "metadata": {},
   "outputs": [
    {
     "data": {
      "text/plain": [
       "(19735, 26)"
      ]
     },
     "execution_count": 12,
     "metadata": {},
     "output_type": "execute_result"
    }
   ],
   "source": [
    "data.shape"
   ]
  },
  {
   "cell_type": "code",
   "execution_count": 13,
   "metadata": {
    "scrolled": true
   },
   "outputs": [
    {
     "data": {
      "text/plain": [
       "array([[  60.        ,   30.        ,   19.89      ,   47.59666667,\n",
       "          19.2       ,   44.79      ,   19.79      ,   44.73      ,\n",
       "          19.        ,   45.56666667,   17.16666667,   55.2       ,\n",
       "           7.02666667,   84.25666667,   17.2       ,   41.62666667,\n",
       "          18.2       ,   48.9       ,   17.03333333,   45.53      ,\n",
       "           6.6       ,  733.5       ,   92.        ,    7.        ,\n",
       "          63.        ,    5.3       ],\n",
       "       [  60.        ,   30.        ,   19.89      ,   46.69333333,\n",
       "          19.2       ,   44.7225    ,   19.79      ,   44.79      ,\n",
       "          19.        ,   45.9925    ,   17.16666667,   55.2       ,\n",
       "           6.83333333,   84.06333333,   17.2       ,   41.56      ,\n",
       "          18.2       ,   48.86333333,   17.06666667,   45.56      ,\n",
       "           6.48333333,  733.6       ,   92.        ,    6.66666667,\n",
       "          59.16666667,    5.2       ]])"
      ]
     },
     "execution_count": 13,
     "metadata": {},
     "output_type": "execute_result"
    }
   ],
   "source": [
    "data[:2,:]"
   ]
  },
  {
   "cell_type": "markdown",
   "metadata": {},
   "source": [
    "Use the first two columns, labelled `Appliances` and `lights` as the target variables, and the remaining 24 columns as the input features.  So"
   ]
  },
  {
   "cell_type": "code",
   "execution_count": 14,
   "metadata": {},
   "outputs": [
    {
     "data": {
      "text/plain": [
       "((19735, 24), (19735, 2))"
      ]
     },
     "execution_count": 14,
     "metadata": {},
     "output_type": "execute_result"
    }
   ],
   "source": [
    "Xenergy.shape, Tenergy.shape"
   ]
  },
  {
   "cell_type": "code",
   "execution_count": 15,
   "metadata": {},
   "outputs": [
    {
     "data": {
      "text/plain": [
       "['T1',\n",
       " 'RH_1',\n",
       " 'T2',\n",
       " 'RH_2',\n",
       " 'T3',\n",
       " 'RH_3',\n",
       " 'T4',\n",
       " 'RH_4',\n",
       " 'T5',\n",
       " 'RH_5',\n",
       " 'T6',\n",
       " 'RH_6',\n",
       " 'T7',\n",
       " 'RH_7',\n",
       " 'T8',\n",
       " 'RH_8',\n",
       " 'T9',\n",
       " 'RH_9',\n",
       " 'T_out',\n",
       " 'Press_mm_hg',\n",
       " 'RH_out',\n",
       " 'Windspeed',\n",
       " 'Visibility',\n",
       " 'Tdewpoint']"
      ]
     },
     "execution_count": 15,
     "metadata": {},
     "output_type": "execute_result"
    }
   ],
   "source": [
    "Xnames"
   ]
  },
  {
   "cell_type": "code",
   "execution_count": 16,
   "metadata": {},
   "outputs": [
    {
     "data": {
      "text/plain": [
       "['Appliances', 'lights']"
      ]
     },
     "execution_count": 16,
     "metadata": {},
     "output_type": "execute_result"
    }
   ],
   "source": [
    "Tnames"
   ]
  },
  {
   "cell_type": "markdown",
   "metadata": {},
   "source": [
    "Train several neural networks on all of this data for 100 iterations.  Plot the error trace (nnet.getErrorTrace()) to help you decide now many iterations might be needed.  100 may not be enough.  If for your larger networks the error is still decreasing after 100 iterations you should train all nets for more than 100 iterations.\n",
    "\n",
    "Now use your `trainNNs`, `summarize`, and `bestNetwork` functions on this data to investigate various network sizes."
   ]
  },
  {
   "cell_type": "code",
   "execution_count": 18,
   "metadata": {
    "collapsed": true
   },
   "outputs": [],
   "source": [
    "results = trainNNs(Xenergy, Tenergy, 0.8, [0, 5, [5, 5], [10, 10]], 10, 100)"
   ]
  },
  {
   "cell_type": "code",
   "execution_count": 19,
   "metadata": {},
   "outputs": [
    {
     "data": {
      "text/plain": [
       "[[0, 67.046960179422285, 67.644136371408763, 0.998682975769043],\n",
       " [5, 65.301632625880842, 66.328853488839485, 13.130361795425415],\n",
       " [[5, 5], 64.277382425810785, 66.416365860755761, 19.365249395370483],\n",
       " [[10, 10], 62.741905999268582, 64.979550044221469, 33.62221097946167]]"
      ]
     },
     "execution_count": 19,
     "metadata": {},
     "output_type": "execute_result"
    }
   ],
   "source": [
    "summarize(results)"
   ]
  },
  {
   "cell_type": "code",
   "execution_count": 20,
   "metadata": {},
   "outputs": [
    {
     "data": {
      "text/plain": [
       "[[10, 10], 62.741905999268582, 64.979550044221469, 33.62221097946167]"
      ]
     },
     "execution_count": 20,
     "metadata": {},
     "output_type": "execute_result"
    }
   ],
   "source": [
    "bestNetwork(summarize(results))"
   ]
  },
  {
   "cell_type": "markdown",
   "metadata": {},
   "source": [
    "Test at least 10 different hidden layer structures.  Larger numbers of layers and units may do the best on training data, but not on testing data. Why?\n",
    "\n",
    "Now train another network with your best hidden layer structure on 0.8 of the data and use the trained network on the testing data (the remaining 0.2 of the date).  As before use `ml.partition` to produce the training and testing sets.\n",
    "\n",
    "For the testing data, plot the predicted and actual `Appliances` energy use, and the predicted and actual `lights` energy use, in two separate plots.  Discuss what you see."
   ]
  },
  {
   "cell_type": "markdown",
   "metadata": {},
   "source": [
    "## Data for Classification Experiment\n",
    "\n",
    "From the UCI Machine Learning Repository, download the [Anuran Calls (MFCCs)](http://archive.ics.uci.edu/ml/datasets/Anuran+Calls+%28MFCCs%29) data.  You can do this by visiting the Data Folder for this data set, or just do this:\n",
    "\n",
    "     !wget 'http://archive.ics.uci.edu/ml/machine-learning-databases/00406/Anuran Calls (MFCCs).zip'\n",
    "     !unzip Anuran*zip\n",
    "     \n",
    "Read the data in the file `Frogs_MFCCs.csv` into python.  This will be a little tricky. Each line of the file is a sample of audio features plus three columns that label the sample by family, genus, and species. We will try to predict the species.  The tricky part is that the species is given as text.  We need to convert this to a target class, as an integer. The `numpy` function `unique` will come in handy here."
   ]
  },
  {
   "cell_type": "code",
   "execution_count": 21,
   "metadata": {},
   "outputs": [
    {
     "data": {
      "text/plain": [
       "((7195, 21), (7195, 1))"
      ]
     },
     "execution_count": 21,
     "metadata": {},
     "output_type": "execute_result"
    }
   ],
   "source": [
    "Xanuran.shape, Tanuran.shape"
   ]
  },
  {
   "cell_type": "code",
   "execution_count": 22,
   "metadata": {},
   "outputs": [
    {
     "data": {
      "text/plain": [
       "array([[ 0.1529363 , -0.1055859 ,  0.20072191,  0.31720106,  0.26076385,\n",
       "         0.10094464, -0.1500626 , -0.17112763,  0.12467644,  0.18865415,\n",
       "        -0.07562172, -0.15643593,  0.08224512,  0.13575204, -0.02401665,\n",
       "        -0.10835111, -0.07762252, -0.0095678 ,  0.05768398,  0.11868014,\n",
       "         0.01403845],\n",
       "       [ 0.17153426, -0.09897474,  0.26842522,  0.33867186,  0.2683531 ,\n",
       "         0.06083509, -0.22247464, -0.20769267,  0.17088287,  0.27095828,\n",
       "        -0.09500394, -0.25434147,  0.02278623,  0.1633201 ,  0.01202228,\n",
       "        -0.09097401, -0.05650952, -0.03530336,  0.02013996,  0.08226299,\n",
       "         0.02905574]])"
      ]
     },
     "execution_count": 22,
     "metadata": {},
     "output_type": "execute_result"
    }
   ],
   "source": [
    "Xanuran[:2,:]"
   ]
  },
  {
   "cell_type": "code",
   "execution_count": 23,
   "metadata": {},
   "outputs": [
    {
     "data": {
      "text/plain": [
       "array([[0],\n",
       "       [0]])"
      ]
     },
     "execution_count": 23,
     "metadata": {},
     "output_type": "execute_result"
    }
   ],
   "source": [
    "Tanuran[:2]"
   ]
  },
  {
   "cell_type": "code",
   "execution_count": 24,
   "metadata": {},
   "outputs": [
    {
     "name": "stdout",
     "output_type": "stream",
     "text": [
      "672 samples in class 0\n",
      "3478 samples in class 1\n",
      "542 samples in class 2\n",
      "310 samples in class 3\n",
      "472 samples in class 4\n",
      "1121 samples in class 5\n",
      "270 samples in class 6\n",
      "114 samples in class 7\n",
      "68 samples in class 8\n",
      "148 samples in class 9\n"
     ]
    }
   ],
   "source": [
    "for i in range(10):\n",
    "    print('{} samples in class {}'.format(np.sum(Tanuran==i), i))"
   ]
  },
  {
   "cell_type": "code",
   "execution_count": 25,
   "metadata": {
    "collapsed": true
   },
   "outputs": [],
   "source": [
    "results = trainNNs(Xanuran, Tanuran, 0.8, [0, 5, [5, 5]], 5, 100, classify=True)"
   ]
  },
  {
   "cell_type": "code",
   "execution_count": 26,
   "metadata": {},
   "outputs": [
    {
     "data": {
      "text/plain": [
       "[[0, 0.028179291174426684, 0.034885337039610845, 2.706338405609131],\n",
       " [5, 0.035267546907574707, 0.041000694927032663, 5.346082448959351],\n",
       " [[5, 5], 0.046699096594857534, 0.057956914523974987, 6.503756046295166]]"
      ]
     },
     "execution_count": 26,
     "metadata": {},
     "output_type": "execute_result"
    }
   ],
   "source": [
    "summarize(results)"
   ]
  },
  {
   "cell_type": "code",
   "execution_count": 27,
   "metadata": {},
   "outputs": [
    {
     "data": {
      "text/plain": [
       "[0, 0.028179291174426684, 0.034885337039610845, 2.706338405609131]"
      ]
     },
     "execution_count": 27,
     "metadata": {},
     "output_type": "execute_result"
    }
   ],
   "source": [
    "bestNetwork(summarize(results))"
   ]
  },
  {
   "cell_type": "markdown",
   "metadata": {},
   "source": [
    "Now do an investigation like you did for the regression data. \n",
    "\n",
    "Test at least 10 different hidden layer structures. Then train another network with your best hidden layer structure on 0.8 of the data and use the trained network on the testing data (the remaining 0.2 of the date). \n",
    "\n",
    "Plot the predicted and actual `Species` for the testing data as an integer.  Discuss what you see."
   ]
  },
  {
   "cell_type": "markdown",
   "metadata": {},
   "source": [
    "## Grading\n",
    "\n",
    "Download [A6grader.tar](http://www.cs.colostate.edu/~anderson/cs440/notebooks/A6grader.tar) and extract `A6grader.py` from it."
   ]
  },
  {
   "cell_type": "code",
   "execution_count": 3,
   "metadata": {
    "scrolled": true
   },
   "outputs": [
    {
     "name": "stdout",
     "output_type": "stream",
     "text": [
      "\n",
      "Testing summarize([[[1,1], [1.2, 1.3, 1.4], [2.2, 2.3, 2.4], 0.5], [[2,2,2], [4.4, 4.3, 4.2], [6.5, 6.4, 6.3], 0.6]])\n",
      "\n",
      "--- 10/10 points. Correctly returned [[[1, 1], 1.3, 2.3000000000000003, 0.5], [[2, 2, 2], 4.2999999999999998, 6.3999999999999995, 0.6]]\n",
      "\n",
      "Testing bestNetwork([[[1, 1], 1.3, 2.3, 0.5], [[2, 2, 2], 4.3, 1.3, 0.6]])\n",
      "\n",
      "--- 10/10 points. Correctly returned [[2, 2, 2], 4.3, 1.3, 0.6]\n",
      "\n",
      "X = np.random.uniform(-1, 1, (100, 3))\n",
      "T = np.hstack(((X**2 - 0.2*X**3).sum(axis=1,keepdims=True),\n",
      "               (np.sin(X)).sum(axis=1,keepdims=True)))\n",
      "result = trainNNs(X, T, 0.7, [0, 5, 10, [20, 20]], 10, 100)\n",
      "\n",
      "--- 20/20 points. Correct.\n",
      "\n",
      "Testing bestNetwork(summarize(result))\n",
      "\n",
      "--- 20/20 points. You correctly found that network [20, 20] is best.\n",
      "\n",
      "assign6 Execution Grade is 60/60\n",
      "\n",
      "======================= The regression data set =======================\n",
      "\n",
      "--- _/5 points. Read the data in energydata_complete.csv into variables Xenergy and Tenergy.\n",
      "\n",
      "--- _/5 points. Train some networks by calling the NeuralNetwork constructor and train method and plot the error trace to help you decide now many iterations might be needed.\n",
      "\n",
      "--- _/5 points. Try at least 10 different hidden layer structures using trainNNs.\n",
      "\n",
      "--- _/5 points. Train another network with your best hidden layer structure on 0.8 of the data and test it on remaining 0.2 of the data. Plot the predicted and actual Appliances energy use, and the predicted and actual lights energy use, in two separate plots. Discuss what you see.\n",
      "\n",
      "======================= Classification data set =======================\n",
      "\n",
      "--- _/5 points. Read the data in Frogs_MFCCs.csv into variables Xanuran and Tanuran.\n",
      "\n",
      "--- _/5 points. Train some networks by calling the NeuralNetwork constructor and train method and plot the error trace to help you decide now many iterations might be needed.\n",
      "\n",
      "--- _/5 points. Try at least 10 different hidden layer structures using trainNNs.\n",
      "\n",
      "--- _/5 points. Train another network with your best hidden layer structure on 0.8 of the data and test it on remaining 0.2 of the data. Plot the predicted and actual Appliances energy use, and the predicted and actual lights energy use, in two separate plots. Discuss what you see.\n",
      "\n",
      "assign6 Notebook Grade is __/40\n",
      "\n",
      "assign6 FINAL GRADE is __/100\n"
     ]
    }
   ],
   "source": [
    "%run -i \"A6grader.py\""
   ]
  },
  {
   "cell_type": "markdown",
   "metadata": {},
   "source": [
    "## Check-in"
   ]
  },
  {
   "cell_type": "markdown",
   "metadata": {},
   "source": [
    "Do not include this section in your notebook.\n",
    "\n",
    "Name your notebook ```Lastname-A6.ipynb```.  So, for me it would be ```Anderson-A3.ipynb```.  Submit the file using the ```Assignment 3``` link on [Canvas](https://colostate.instructure.com/courses/41327)."
   ]
  },
  {
   "cell_type": "markdown",
   "metadata": {},
   "source": [
    "## Extra Credit\n",
    "\n",
    "  2. Repeat the above regression and classification experiments with a second regression data set and a second classification data set.\n",
    "  \n",
    "  2. Since you are collecting the performance of all repetitions for each network structure, you can calculate a confidence interval about the mean, to help judge significant differences. Do this for either the regression or the classification data and plot the mean test performance with confidence intervals for each network structure tested.  Discuss the statistical significance of the differences among the means.  One website I found to help with this is the site [Correct way to obtain confidence interval with scipy](https://stackoverflow.com/questions/28242593/correct-way-to-obtain-confidence-interval-with-scipy).\n",
    "  \n"
   ]
  }
 ],
 "metadata": {
  "anaconda-cloud": {},
  "kernelspec": {
   "display_name": "Python 3",
   "language": "python",
   "name": "python3"
  },
  "language_info": {
   "codemirror_mode": {
    "name": "ipython",
    "version": 3
   },
   "file_extension": ".py",
   "mimetype": "text/x-python",
   "name": "python",
   "nbconvert_exporter": "python",
   "pygments_lexer": "ipython3",
   "version": "3.6.3"
  },
  "toc": {
   "nav_menu": {},
   "number_sections": true,
   "sideBar": true,
   "skip_h1_title": false,
   "toc_cell": false,
   "toc_position": {},
   "toc_section_display": "block",
   "toc_window_display": false
  }
 },
 "nbformat": 4,
 "nbformat_minor": 1
}
