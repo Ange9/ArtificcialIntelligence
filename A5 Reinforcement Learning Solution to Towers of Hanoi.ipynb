{
 "cells": [
  {
   "cell_type": "markdown",
   "metadata": {},
   "source": [
    "# Reinforcement Learning Solution to the Towers of Hanoi Puzzle"
   ]
  },
  {
   "cell_type": "markdown",
   "metadata": {},
   "source": [
    "For this assignment, you will use reinforcement learning to solve the [Towers of Hanoi](https://en.wikipedia.org/wiki/Tower_of_Hanoi) puzzle.  \n",
    "\n",
    "To accomplish this, you must modify the code discussed in lecture for learning to play Tic-Tac-Toe.  Modify the code  so that it learns to solve the three-disk, three-peg\n",
    "Towers of Hanoi Puzzle.  In some ways, this will be simpler than the\n",
    "Tic-Tac-Toe code.  \n",
    "\n",
    "Steps required to do this include the following:\n",
    "\n",
    "  - Represent the state, and use it as a tuple as a key to the Q dictionary.\n",
    "  - Make sure only valid moves are tried from each state.\n",
    "  - Assign reinforcement of $-1$ to each move unless it is a move to the goal state, for which the reinforcement is $0$.  This represents the goal of finding the shortest path to the goal.\n",
    "\n",
    "Make a plot of the number of steps required to reach the goal for each\n",
    "trial.  Each trial starts from the same initial state.  Decay epsilon\n",
    "as in the Tic-Tac-Toe code."
   ]
  },
  {
   "cell_type": "markdown",
   "metadata": {},
   "source": [
    "## Requirements"
   ]
  },
  {
   "cell_type": "markdown",
   "metadata": {},
   "source": [
    "First, how should we represent the state of this puzzle?  We need to keep track of which disks are on which pegs. Name the disks 1, 2, and 3, with 1 being the smallest disk and 3 being the largest. The set of disks on a peg can be represented as a list of integers.  Then the state can be a list of three lists.\n",
    "\n",
    "For example, the starting state with all disks being on the left peg would be `[[1, 2, 3], [], []]`.  After moving disk 1 to peg 2, we have `[[2, 3], [1], []]`.\n",
    "\n",
    "To represent that move we just made, we can use a list of two peg numbers, like `[1, 2]`, representing a move of the top disk on peg 1 to peg 2."
   ]
  },
  {
   "cell_type": "markdown",
   "metadata": {},
   "source": [
    "Now on to some functions. Define at least the following functions. Examples showing required output appear below.\n",
    "\n",
    "   - `printState(state)`: prints the state in the form shown below\n",
    "   - `validMoves(state)`: returns list of moves that are valid from `state`\n",
    "   - `makeMove(state, move)`: returns new (copy of) state after move has been applied.\n",
    "   - `trainQ(nRepetitions, learningRate, epsilonDecayFactor)`: train the Q function for number of repetitions, decaying epsilon at start of each repetition. Returns Q and list or array of steps to reach goal for each repetition.\n",
    "   - `testQ(Q, maxSteps)`: without updating Q, use Q to find greedy action each step until goal is found. Return path of states.\n",
    "\n",
    "A function that you might choose to implement is\n",
    "\n",
    "   - `stateMoveTuple(state, move)`: returns tuple of state and move.  \n",
    "    \n",
    "This is useful for converting state and move to a key to be used for the Q dictionary."
   ]
  },
  {
   "cell_type": "markdown",
   "metadata": {},
   "source": [
    "# Examples (more coming soon)"
   ]
  },
  {
   "cell_type": "markdown",
   "metadata": {},
   "source": [
    "To make it easier to visualize the state of the game, the function *printState* is used."
   ]
  },
  {
   "cell_type": "code",
   "execution_count": 57,
   "metadata": {
    "collapsed": true
   },
   "outputs": [],
   "source": [
    "import numpy as np\n",
    "import matplotlib.pyplot as plt\n",
    "%matplotlib inline\n",
    "from copy import copy"
   ]
  },
  {
   "cell_type": "code",
   "execution_count": 37,
   "metadata": {
    "collapsed": true
   },
   "outputs": [],
   "source": [
    "def printState(state):\n",
    "    import copy\n",
    "    \n",
    "    stateCopy = copy.deepcopy(state)\n",
    "    for peg in stateCopy:\n",
    "        numberDisks=len(peg)\n",
    "        for pos in range(3-len(peg)):\n",
    "            peg.insert(pos,' ')\n",
    "            \n",
    "    print stateCopy[0][0],stateCopy[1][0],stateCopy[2][0]\n",
    "    print stateCopy[0][1],stateCopy[1][1],stateCopy[2][1]\n",
    "    print stateCopy[0][2],stateCopy[1][2],stateCopy[2][2]\n",
    "    print '------'"
   ]
  },
  {
   "cell_type": "code",
   "execution_count": 38,
   "metadata": {},
   "outputs": [
    {
     "name": "stdout",
     "output_type": "stream",
     "text": [
      "1    \n",
      "2    \n",
      "3    \n",
      "------\n"
     ]
    }
   ],
   "source": [
    "state = [[1, 2,3], [], []]\n",
    "printState(state)\n"
   ]
  },
  {
   "cell_type": "markdown",
   "metadata": {},
   "source": [
    "The function *validMoves* returns list of moves that are valid from a certain state.\n",
    "The list returned consists of pairs containing the number of the disk and the peg to which it can be moved.\n",
    "\n",
    "The following is the list of rules:\n",
    "- Only one disk can be moved at a time.\n",
    "- Each move consists of taking the upper disk from one of the stacks and placing it on top of another stack.\n",
    "- No disk may be placed on top of a smaller disk.\n",
    "\n"
   ]
  },
  {
   "cell_type": "code",
   "execution_count": 307,
   "metadata": {
    "collapsed": true
   },
   "outputs": [],
   "source": [
    "#returns list of moves that are valid from state\n",
    "def validMoves(state):\n",
    "    validMoves=[]\n",
    "    #for each peg \n",
    "    for p in range(3):\n",
    "        if len(state[p]) >0:\n",
    "            #print state[p]\n",
    "            for q in range(3):\n",
    "                if p==q:\n",
    "                    continue\n",
    "                else:\n",
    "                    if len(state[q])>0:\n",
    "                        if state[p][0] < state[q][0]:\n",
    "                            validMoves.append([p+1,q+1])\n",
    "                            #print 'move', state[p][0], 'to', q+1\n",
    "                    else:\n",
    "                        #print 'move', state[p][0], 'to', q+1\n",
    "                        validMoves.append([p+1,q+1])\n",
    " \n",
    "        \n",
    "    return validMoves\n",
    "    \n"
   ]
  },
  {
   "cell_type": "markdown",
   "metadata": {},
   "source": [
    "In this case, the valid moves that can be perfomed are:\n",
    "- move the dist 2 to the peg 3\n",
    "- move the dist 1 to the peg 1\n",
    "- move the dist 1 to the peg 3\n"
   ]
  },
  {
   "cell_type": "code",
   "execution_count": 308,
   "metadata": {},
   "outputs": [
    {
     "data": {
      "text/plain": [
       "[[1, 2], [1, 3], [2, 3]]"
      ]
     },
     "execution_count": 308,
     "metadata": {},
     "output_type": "execute_result"
    }
   ],
   "source": [
    "state = [[1], [2], [3]]\n",
    "\n",
    "validMoves(state)"
   ]
  },
  {
   "cell_type": "markdown",
   "metadata": {},
   "source": [
    " The function `makeMove(state, move)` returns new (copy of) state after move has been applied.\n"
   ]
  },
  {
   "cell_type": "code",
   "execution_count": 179,
   "metadata": {},
   "outputs": [],
   "source": [
    "def makeMove(state, move):\n",
    "    import copy\n",
    "    newState=copy.deepcopy(state)\n",
    "    disk=move[0]\n",
    "    peg=move[1]\n",
    "    del newState[disk-1][0]\n",
    "    newState[peg-1].insert(0,state[disk-1][0])    \n",
    "    return newState"
   ]
  },
  {
   "cell_type": "markdown",
   "metadata": {},
   "source": [
    "In the following example, the disk 1 is moved to peg 3"
   ]
  },
  {
   "cell_type": "code",
   "execution_count": 181,
   "metadata": {},
   "outputs": [
    {
     "name": "stdout",
     "output_type": "stream",
     "text": [
      "[(1, 2), (1, 3)]\n",
      "(1, 3)\n",
      "     \n",
      "2    \n",
      "3   1\n",
      "------\n"
     ]
    }
   ],
   "source": [
    "state = [[1,2,3], [], []]\n",
    "print validMoves(state)\n",
    "\n",
    "move=validMoves(state)[1]\n",
    "print move\n",
    "newState=makeMove(state, move)\n",
    "printState(newState)\n",
    "\n"
   ]
  },
  {
   "cell_type": "markdown",
   "metadata": {},
   "source": [
    "The funtion stateMoveTuple(state, move) returns tuple of state and move."
   ]
  },
  {
   "cell_type": "code",
   "execution_count": 28,
   "metadata": {
    "collapsed": true
   },
   "outputs": [],
   "source": [
    "def stateMoveTuple(state, move):\n",
    "    import copy\n",
    "    newState=copy.deepcopy(state)\n",
    "    newTuple=[]\n",
    "    \n",
    "    for l in range(len(state)):\n",
    "        newTuple.append(tuple(newState[l]))\n",
    "    return tuple((tuple(newTuple),tuple(move)))"
   ]
  },
  {
   "cell_type": "code",
   "execution_count": 29,
   "metadata": {},
   "outputs": [
    {
     "data": {
      "text/plain": [
       "(((1, 2, 3), (), ()), (1, 2))"
      ]
     },
     "execution_count": 29,
     "metadata": {},
     "output_type": "execute_result"
    }
   ],
   "source": [
    "state = [[1,2,3], [], []]\n",
    "move =[1, 2]\n",
    "stateMoveTuple(state, move)"
   ]
  },
  {
   "cell_type": "code",
   "execution_count": 130,
   "metadata": {},
   "outputs": [
    {
     "name": "stdout",
     "output_type": "stream",
     "text": [
      "1    \n",
      "2    \n",
      "3    \n",
      "------\n",
      "('Valid moves are', [(1, 2), (1, 3)])\n",
      "('Q values for validMoves are', array([-1.,  0.]))\n",
      "('Best move is', (1, 3))\n"
     ]
    }
   ],
   "source": [
    "Q={}\n",
    "stateOld = [[1,2,3], [], []]\n",
    "moveOld =[1, 2]\n",
    "Q[tuple(stateMoveTuple(stateOld, moveOld))]=-1\n",
    "state=makeMove(stateOld, moveOld)\n",
    "Q[tuple(stateMoveTuple(state, move))]=-1\n",
    "Q[tuple(stateMoveTuple(stateOld, moveOld))] += rho * (Q[tuple(stateMoveTuple(state, move))] - Q[tuple(stateMoveTuple(stateOld, moveOld))])\n",
    "\n",
    "\n",
    "\n",
    "\n",
    "\n",
    "\n",
    "state = [[1,2,3], [], []]\n",
    "validMovesL=validMoves(state)\n",
    "printState(state)\n",
    "print('Valid moves are',validMovesL)\n",
    "Qs= np.array([Q.get(tuple(stateMoveTuple(state, m)), 0) for m in validMovesL]) \n",
    "print('Q values for validMoves are',Qs)\n",
    "bestMove = validMovesL[np.argmax(Qs)]\n",
    "print('Best move is',bestMove)\n"
   ]
  },
  {
   "cell_type": "code",
   "execution_count": 136,
   "metadata": {},
   "outputs": [
    {
     "name": "stdout",
     "output_type": "stream",
     "text": [
      "[(1, 2), (1, 3)]\n",
      "Random Move\n"
     ]
    },
    {
     "data": {
      "text/plain": [
       "(1, 2)"
      ]
     },
     "execution_count": 136,
     "metadata": {},
     "output_type": "execute_result"
    }
   ],
   "source": [
    "Q = {}  # empty table\n",
    "rho = 0.2\n",
    "stateOld = [[1,2,3], [], []]\n",
    "moveOld =[1, 2]\n",
    "Q[tuple(stateMoveTuple(stateOld, moveOld))]=0\n",
    "state=makeMove(stateOld, moveOld)\n",
    "#print 'state',state\n",
    "Q[tuple(stateMoveTuple(state, move))]=-1\n",
    "Q[tuple(stateMoveTuple(stateOld, moveOld))] += rho * (Q[tuple(stateMoveTuple(state, move))] - Q[tuple(stateMoveTuple(stateOld, moveOld))])\n",
    "Q\n",
    "epsilonGreedy(0.8, Q, stateOld)\n",
    "#print tuple(stateMoveTuple(state, move))\n"
   ]
  },
  {
   "cell_type": "code",
   "execution_count": 31,
   "metadata": {},
   "outputs": [
    {
     "data": {
      "text/plain": [
       "0"
      ]
     },
     "execution_count": 31,
     "metadata": {},
     "output_type": "execute_result"
    }
   ],
   "source": [
    "state = [[1,2,3], [], []]\n",
    "move =[1, 2]\n",
    "Q[tuple(stateMoveTuple(state, move))]"
   ]
  },
  {
   "cell_type": "markdown",
   "metadata": {},
   "source": [
    "If nobody won yet, let's calculate the temporal difference error and use it to adjust the Q value of the previous state,move. We do this only if we are not at the first move of a game."
   ]
  },
  {
   "cell_type": "code",
   "execution_count": null,
   "metadata": {},
   "outputs": [],
   "source": [
    "step = 1\n",
    "if step > 0:\n",
    "    \n",
    "    Q[tuple(stateMoveTuple(stateOld, moveOld))] += rho * (Q[tuple(stateMoveTuple(state, move))] - Q[tuple(stateMoveTuple(stateOld, moveOld))])"
   ]
  },
  {
   "cell_type": "code",
   "execution_count": 205,
   "metadata": {},
   "outputs": [
    {
     "data": {
      "text/plain": [
       "True"
      ]
     },
     "execution_count": 205,
     "metadata": {},
     "output_type": "execute_result"
    }
   ],
   "source": [
    "def winner(state):\n",
    "    disks_in_right_pos_1=0\n",
    "    disks_in_right_pos_2=0\n",
    "    for i in range(3):\n",
    "        if len(state[1]) ==3 and state[1][i]==i+1:\n",
    "            disks_in_right_pos_1+=1\n",
    "        if len(state[2]) ==3 and state[2][i]==i+1:\n",
    "            disks_in_right_pos_2+=1\n",
    "    return True if disks_in_right_pos_1 ==3 or disks_in_right_pos_2 ==3 else  False\n",
    "            \n",
    "state = [ [], [1,2,3],[]]\n",
    "\n",
    "winner(state)\n",
    "     "
   ]
  },
  {
   "cell_type": "code",
   "execution_count": 285,
   "metadata": {},
   "outputs": [],
   "source": [
    "def epsilonGreedy(epsilon, Q, state):\n",
    "    bestMove=[]\n",
    "    validMovesList = validMoves(state)\n",
    "    #print validMovesList\n",
    "    \n",
    "    if np.random.uniform() < epsilon:\n",
    "        #print 'Random Move'\n",
    "        return validMovesList[np.random.choice(len(validMovesList))]\n",
    "    else:\n",
    "        #print 'Greedy Move'\n",
    "        \n",
    "        Qs = np.array([Q.get(tuple(stateMoveTuple(state, m)), 0) for m in validMovesList]) \n",
    "        bestMove = validMovesList[np.argmax(Qs)]\n",
    "\n",
    "        return bestMove\n",
    "\n",
    "\n",
    "\n"
   ]
  },
  {
   "cell_type": "code",
   "execution_count": 140,
   "metadata": {},
   "outputs": [
    {
     "data": {
      "text/plain": [
       "array([-1,  0, -1, -1,  0, -1,  0,  0,  0,  0])"
      ]
     },
     "execution_count": 140,
     "metadata": {},
     "output_type": "execute_result"
    }
   ],
   "source": [
    "outcomes = np.random.choice([-1,0],replace=True,size=(1000))\n",
    "outcomes[:10]"
   ]
  },
  {
   "cell_type": "code",
   "execution_count": 378,
   "metadata": {},
   "outputs": [],
   "source": [
    "# train the Q function for number of repetitions, decaying epsilon at start of each repetition.\n",
    "#Returns Q and list or array of steps to reach goal for each repetition.\n",
    "\n",
    "def trainQ(nRepetitions, learningRate, epsilonDecayFactor,x,y):\n",
    "    import copy\n",
    "    steps=[]\n",
    "    maxGames = nRepetitions\n",
    "    rho = learningRate\n",
    "    epsilonDecayRate=epsilonDecayFactor\n",
    "    epsilon = 1.0\n",
    "    Q = {}\n",
    "    for nGames in range(maxGames):\n",
    "        #print '****New Game***'\n",
    "        epsilon *= epsilonDecayRate\n",
    "        step = 0\n",
    "        state= [[1,2,3], [], []]\n",
    "\n",
    "        done = False\n",
    "\n",
    "        while not done:\n",
    "            #printState(state)\n",
    "\n",
    "            step += 1\n",
    "            move = epsilonGreedy(epsilon, Q, state)\n",
    " \n",
    "            stateNew=makeMove(state, move)\n",
    "            \n",
    "\n",
    "            #state being explored not in dictionary\n",
    "            if tuple(stateMoveTuple(state, move)) not in Q:\n",
    "                Q[tuple(stateMoveTuple(state, move))] = -1  # initial Q value for new state,move\n",
    "\n",
    "            if winner(stateNew):\n",
    "                Q[tuple(stateMoveTuple(state, move))] = 0\n",
    "                Q[tuple(stateMoveTuple(stateNew, []))] = 0\n",
    "                \n",
    "                done = True\n",
    "\n",
    "                \n",
    "            if step > 1:\n",
    "                Q[tuple(stateMoveTuple(stateOld, moveOld))] += rho * (Q[tuple(stateMoveTuple(state, move))] - Q[tuple(stateMoveTuple(stateOld, moveOld))])\n",
    "\n",
    "            stateOld=copy.deepcopy(state)   \n",
    "            moveOld = copy.deepcopy(move) # remember state and move to Q(state,move) can be updated after next steps\n",
    "            state = copy.deepcopy(stateNew)\n",
    "  \n",
    "        \n",
    "        steps.append(step)\n",
    "    return Q,steps   \n",
    "    \n",
    "    "
   ]
  },
  {
   "cell_type": "code",
   "execution_count": 362,
   "metadata": {},
   "outputs": [],
   "source": [
    "Q, stepsToGoal = trainQ(50, 0.5, 0.7,1,3)"
   ]
  },
  {
   "cell_type": "code",
   "execution_count": null,
   "metadata": {},
   "outputs": [],
   "source": [
    "stepsToGoal"
   ]
  },
  {
   "cell_type": "code",
   "execution_count": 380,
   "metadata": {},
   "outputs": [],
   "source": [
    "#without updating Q, use Q to find greedy action each step until goal is found. Return path of states.\n",
    "\n",
    "def testQ(Q, maxSteps, validMovesF, makeMoveF):\n",
    "    state=[[1,2,3],[],[]]\n",
    "    win=False\n",
    "    path=[]\n",
    "    for step in range(maxSteps):\n",
    "        while not win:\n",
    "            path.append(state)\n",
    "            move=[]\n",
    "            validMovesList = validMoves(state)    \n",
    "            Qs = np.array([Q.get(tuple(stateMoveTuple(state, m)), 0) for m in validMovesList]) \n",
    "            move = validMovesList[np.argmax(Qs)]\n",
    "            stateNew=makeMove(state, move)\n",
    "\n",
    "            \n",
    "            if winner(stateNew):  \n",
    "                path.append(stateNew)\n",
    "                win = True\n",
    "\n",
    "            state = copy.deepcopy(stateNew)\n",
    "    return path     \n",
    "        \n",
    "        \n",
    "        \n",
    "        \n",
    "    "
   ]
  },
  {
   "cell_type": "code",
   "execution_count": 373,
   "metadata": {},
   "outputs": [],
   "source": [
    "path = testQ(Q, 20,1,2)"
   ]
  },
  {
   "cell_type": "code",
   "execution_count": 374,
   "metadata": {},
   "outputs": [
    {
     "data": {
      "text/plain": [
       "[[[1, 2, 3], [], []],\n",
       " [[2, 3], [1], []],\n",
       " [[3], [1], [2]],\n",
       " [[1, 3], [], [2]],\n",
       " [[3], [], [1, 2]],\n",
       " [[], [3], [1, 2]],\n",
       " [[], [1, 3], [2]],\n",
       " [[1], [3], [2]],\n",
       " [[1], [2, 3], []]]"
      ]
     },
     "execution_count": 374,
     "metadata": {},
     "output_type": "execute_result"
    }
   ],
   "source": [
    "path"
   ]
  },
  {
   "cell_type": "code",
   "execution_count": 376,
   "metadata": {},
   "outputs": [
    {
     "name": "stdout",
     "output_type": "stream",
     "text": [
      "1    \n",
      "2    \n",
      "3    \n",
      "------\n",
      "\n",
      "     \n",
      "2    \n",
      "3 1  \n",
      "------\n",
      "\n",
      "     \n",
      "     \n",
      "3 1 2\n",
      "------\n",
      "\n",
      "     \n",
      "1    \n",
      "3   2\n",
      "------\n",
      "\n",
      "     \n",
      "    1\n",
      "3   2\n",
      "------\n",
      "\n",
      "     \n",
      "    1\n",
      "  3 2\n",
      "------\n",
      "\n",
      "     \n",
      "  1  \n",
      "  3 2\n",
      "------\n",
      "\n",
      "     \n",
      "     \n",
      "1 3 2\n",
      "------\n",
      "\n",
      "     \n",
      "  2  \n",
      "1 3  \n",
      "------\n",
      "\n"
     ]
    }
   ],
   "source": [
    "for s in path:\n",
    "    printState(s)\n",
    "    print"
   ]
  },
  {
   "cell_type": "code",
   "execution_count": 381,
   "metadata": {},
   "outputs": [
    {
     "name": "stdout",
     "output_type": "stream",
     "text": [
      "\n",
      "Testing validMoves([[1], [2], [3]])\n",
      "\n",
      "--- 10/10 points. Correctly returned [[1, 2], [1, 3], [2, 3]]\n",
      "\n",
      "Testing validMoves([[], [], [1, 2, 3]])\n",
      "\n",
      "--- 10/10 points. Correctly returned [[3, 1], [3, 2]]\n",
      "\n",
      "Testing makeMove([[], [], [1, 2, 3]], [3, 2])\n",
      "\n",
      "--- 10/10 points. Correctly returned [[], [1], [2, 3]]\n",
      "\n",
      "Testing makeMove([[2], [3], [1]], [1, 2])\n",
      "\n",
      "--- 10/10 points. Correctly returned [[], [2, 3], [1]]\n",
      "\n",
      "Testing   Q, steps = trainQ(1000, 0.5, 0.7, validMoves, makeMove).\n",
      "\n",
      "---  0/10 points. Q dictionary should have close to 76 entries. Yours has 52\n",
      "\n",
      "--- 10/10 points. The mean of the number of steps is 7.116 which is correct.\n",
      "\n",
      "Testing   path = testQ(Q, 20, validMoves, makeMove).\n",
      "\n",
      "--- 20/20 points. Correctly returns path of length 8, less than 10.\n",
      "\n",
      "AI Execution Grade is 70/80\n",
      "\n",
      " Remaining 20 points will be based on your text describing the trainQ and test! functions.\n",
      "\n",
      "AI FINAL GRADE is __/100\n"
     ]
    }
   ],
   "source": [
    "%run -i A5grader.py"
   ]
  }
 ],
 "metadata": {
  "kernelspec": {
   "display_name": "Python 3",
   "language": "python",
   "name": "python3"
  },
  "language_info": {
   "codemirror_mode": {
    "name": "ipython",
    "version": 2
   },
   "file_extension": ".py",
   "mimetype": "text/x-python",
   "name": "python",
   "nbconvert_exporter": "python",
   "pygments_lexer": "ipython2",
   "version": "2.7.12"
  }
 },
 "nbformat": 4,
 "nbformat_minor": 2
}
