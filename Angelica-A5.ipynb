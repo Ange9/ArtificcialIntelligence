{
 "cells": [
  {
   "cell_type": "markdown",
   "metadata": {},
   "source": [
    "# Reinforcement Learning Solution to the Towers of Hanoi Puzzle"
   ]
  },
  {
   "cell_type": "markdown",
   "metadata": {},
   "source": [
    "For this assignment, you will use reinforcement learning to solve the [Towers of Hanoi](https://en.wikipedia.org/wiki/Tower_of_Hanoi) puzzle.  \n",
    "\n",
    "To accomplish this, you must modify the code discussed in lecture for learning to play Tic-Tac-Toe.  Modify the code  so that it learns to solve the three-disk, three-peg\n",
    "Towers of Hanoi Puzzle.  In some ways, this will be simpler than the\n",
    "Tic-Tac-Toe code.  \n",
    "\n",
    "Steps required to do this include the following:\n",
    "\n",
    "  - Represent the state, and use it as a tuple as a key to the Q dictionary.\n",
    "  - Make sure only valid moves are tried from each state.\n",
    "  - Assign reinforcement of $-1$ to each move unless it is a move to the goal state, for which the reinforcement is $0$.  This represents the goal of finding the shortest path to the goal.\n",
    "\n",
    "Make a plot of the number of steps required to reach the goal for each\n",
    "trial.  Each trial starts from the same initial state.  Decay epsilon\n",
    "as in the Tic-Tac-Toe code."
   ]
  },
  {
   "cell_type": "markdown",
   "metadata": {},
   "source": [
    "## Requirements"
   ]
  },
  {
   "cell_type": "markdown",
   "metadata": {},
   "source": [
    "First, how should we represent the state of this puzzle?  We need to keep track of which disks are on which pegs. Name the disks 1, 2, and 3, with 1 being the smallest disk and 3 being the largest. The set of disks on a peg can be represented as a list of integers.  Then the state can be a list of three lists.\n",
    "\n",
    "For example, the starting state with all disks being on the left peg would be `[[1, 2, 3], [], []]`.  After moving disk 1 to peg 2, we have `[[2, 3], [1], []]`.\n",
    "\n",
    "To represent that move we just made, we can use a list of two peg numbers, like `[1, 2]`, representing a move of the top disk on peg 1 to peg 2."
   ]
  },
  {
   "cell_type": "markdown",
   "metadata": {},
   "source": [
    "Now on to some functions. Define at least the following functions. Examples showing required output appear below.\n",
    "\n",
    "   - `printState(state)`: prints the state in the form shown below\n",
    "   - `validMoves(state)`: returns list of moves that are valid from `state`\n",
    "   - `makeMove(state, move)`: returns new (copy of) state after move has been applied.\n",
    "   - `trainQ(nRepetitions, learningRate, epsilonDecayFactor)`: train the Q function for number of repetitions, decaying epsilon at start of each repetition. Returns Q and list or array of steps to reach goal for each repetition.\n",
    "   - `testQ(Q, maxSteps)`: without updating Q, use Q to find greedy action each step until goal is found. Return path of states.\n",
    "\n",
    "A function that you might choose to implement is\n",
    "\n",
    "   - `stateMoveTuple(state, move)`: returns tuple of state and move.  \n",
    "    \n",
    "This is useful for converting state and move to a key to be used for the Q dictionary."
   ]
  },
  {
   "cell_type": "markdown",
   "metadata": {},
   "source": [
    "# Examples (more coming soon)"
   ]
  },
  {
   "cell_type": "markdown",
   "metadata": {},
   "source": [
    "To make it easier to visualize the state of the game, the function *printState* is used."
   ]
  },
  {
   "cell_type": "code",
   "execution_count": 1,
   "metadata": {
    "collapsed": true
   },
   "outputs": [],
   "source": [
    "import numpy as np\n",
    "import matplotlib.pyplot as plt\n",
    "%matplotlib inline\n",
    "from copy import copy"
   ]
  },
  {
   "cell_type": "markdown",
   "metadata": {},
   "source": [
    "## Print state\n",
    "This function is used to give a grafical representation of a certain state in the Hannoi Towers game.\n"
   ]
  },
  {
   "cell_type": "code",
   "execution_count": 2,
   "metadata": {
    "collapsed": true
   },
   "outputs": [],
   "source": [
    "def printState(state):\n",
    "    import copy\n",
    "    \n",
    "    stateCopy = copy.deepcopy(state)\n",
    "    for peg in stateCopy:\n",
    "        numberDisks=len(peg)\n",
    "        for pos in range(3-len(peg)):\n",
    "            peg.insert(pos,' ')\n",
    "            \n",
    "    print stateCopy[0][0],stateCopy[1][0],stateCopy[2][0]\n",
    "    print stateCopy[0][1],stateCopy[1][1],stateCopy[2][1]\n",
    "    print stateCopy[0][2],stateCopy[1][2],stateCopy[2][2]\n",
    "    print '------'"
   ]
  },
  {
   "cell_type": "code",
   "execution_count": 3,
   "metadata": {},
   "outputs": [
    {
     "name": "stdout",
     "output_type": "stream",
     "text": [
      "1    \n",
      "2    \n",
      "3    \n",
      "------\n"
     ]
    }
   ],
   "source": [
    "state = [[1, 2,3], [], []]\n",
    "printState(state)\n"
   ]
  },
  {
   "cell_type": "markdown",
   "metadata": {},
   "source": [
    "## Valid moves\n",
    "The function *validMoves* returns list of moves that are valid from a certain state.\n",
    "The list returned consists of pairs containing the number of the disk and the peg to which it can be moved.\n",
    "\n",
    "The following is the list of rules:\n",
    "- Only one disk can be moved at a time.\n",
    "- Each move consists of taking the upper disk from one of the stacks and placing it on top of another stack.\n",
    "- No disk may be placed on top of a smaller disk.\n",
    "\n"
   ]
  },
  {
   "cell_type": "code",
   "execution_count": 4,
   "metadata": {
    "collapsed": true
   },
   "outputs": [],
   "source": [
    "#returns list of moves that are valid from state\n",
    "def validMoves(state):\n",
    "    validMoves=[]\n",
    "    #for each peg \n",
    "    for p in range(3):\n",
    "        if len(state[p]) >0:\n",
    "            for q in range(3):\n",
    "                if p==q:\n",
    "                    continue\n",
    "                else:\n",
    "                    if len(state[q])>0:\n",
    "                        if state[p][0] < state[q][0]:\n",
    "                            validMoves.append([p+1,q+1])\n",
    "                    else:\n",
    "                        validMoves.append([p+1,q+1]) \n",
    "    return validMoves"
   ]
  },
  {
   "cell_type": "code",
   "execution_count": 5,
   "metadata": {},
   "outputs": [
    {
     "data": {
      "text/plain": [
       "[[1, 2], [1, 3], [2, 3]]"
      ]
     },
     "execution_count": 5,
     "metadata": {},
     "output_type": "execute_result"
    }
   ],
   "source": [
    "state = [[1], [2], [3]]\n",
    "\n",
    "validMoves(state)"
   ]
  },
  {
   "cell_type": "markdown",
   "metadata": {},
   "source": [
    "In this case, the valid moves that can be perfomed are:\n",
    "- move the dist 1 to the peg 2\n",
    "- move the dist 1 to the peg 3\n",
    "- move the dist 2 to the peg 3\n",
    "\n",
    "Disk 3 can not be moved to any other peg because the value is greater than the disks in the other pegs.\n"
   ]
  },
  {
   "cell_type": "markdown",
   "metadata": {},
   "source": [
    " ## Make move\n",
    " The function `makeMove(state, move)` returns new (copy of) state after move has been applied.\n"
   ]
  },
  {
   "cell_type": "code",
   "execution_count": 6,
   "metadata": {
    "collapsed": true
   },
   "outputs": [],
   "source": [
    "def makeMove(state, move):\n",
    "    import copy\n",
    "    newState=copy.deepcopy(state)\n",
    "    disk=move[0]\n",
    "    peg=move[1]\n",
    "    del newState[disk-1][0]\n",
    "    newState[peg-1].insert(0,state[disk-1][0])    \n",
    "    return newState"
   ]
  },
  {
   "cell_type": "markdown",
   "metadata": {},
   "source": [
    "In the following example, the disk 1 is moved to peg 3"
   ]
  },
  {
   "cell_type": "code",
   "execution_count": 7,
   "metadata": {
    "scrolled": true
   },
   "outputs": [
    {
     "name": "stdout",
     "output_type": "stream",
     "text": [
      "Initial state\n",
      "1    \n",
      "2    \n",
      "3    \n",
      "------\n",
      "Valid Moves:  [[1, 2], [1, 3]]\n",
      "Applying move:  [1, 3]\n",
      "\n",
      "New state\n",
      "     \n",
      "2    \n",
      "3   1\n",
      "------\n"
     ]
    }
   ],
   "source": [
    "state = [[1,2,3], [], []]\n",
    "print(\"Initial state\")\n",
    "printState(state)\n",
    "\n",
    "print \"Valid Moves: \",validMoves(state)\n",
    "move=validMoves(state)[1]\n",
    "print \"Applying move: \",move\n",
    "newState=makeMove(state, move)\n",
    "print (\"\")\n",
    "print (\"New state\")\n",
    "printState(newState)\n",
    "\n"
   ]
  },
  {
   "cell_type": "markdown",
   "metadata": {},
   "source": [
    "## StateMove Tuple\n",
    "The funtion `stateMoveTuple(state, move)` returns tuple of state and move. It is used to create a tuple with a certain state and move to be able to insert it later as a key in the Q dictionary."
   ]
  },
  {
   "cell_type": "code",
   "execution_count": 8,
   "metadata": {
    "collapsed": true
   },
   "outputs": [],
   "source": [
    "def stateMoveTuple(state, move):\n",
    "    import copy\n",
    "    newState=copy.deepcopy(state)\n",
    "    newTuple=[]\n",
    "    \n",
    "    for l in range(len(state)):\n",
    "        newTuple.append(tuple(newState[l]))\n",
    "    return tuple((tuple(newTuple),tuple(move)))"
   ]
  },
  {
   "cell_type": "markdown",
   "metadata": {},
   "source": [
    "In the this example, a tuple is made with the following state and move:  "
   ]
  },
  {
   "cell_type": "code",
   "execution_count": 9,
   "metadata": {},
   "outputs": [
    {
     "data": {
      "text/plain": [
       "(((1, 2, 3), (), ()), (1, 2))"
      ]
     },
     "execution_count": 9,
     "metadata": {},
     "output_type": "execute_result"
    }
   ],
   "source": [
    "state = [[1,2,3], [], []]\n",
    "move =[1, 2]\n",
    "stateMoveTuple(state, move)\n"
   ]
  },
  {
   "cell_type": "markdown",
   "metadata": {},
   "source": [
    "## Winner\n",
    "This function is used to determine if a goal state was reached. A goal state will be found if the 3 disks are in the third peg, ordered starting with the smallest one and ending with the biggest one. This logic is considering that the start state will always be all the disks in the first peg."
   ]
  },
  {
   "cell_type": "code",
   "execution_count": 10,
   "metadata": {
    "collapsed": true
   },
   "outputs": [],
   "source": [
    "def winner(state):\n",
    "    disks_in_right_pos_1=0\n",
    "    disks_in_right_pos_2=0\n",
    "    for i in range(3):\n",
    "        #if len(state[1]) ==3 and state[1][i]==i+1:\n",
    "         #   disks_in_right_pos_1+=1\n",
    "        if len(state[2]) ==3 and state[2][i]==i+1:\n",
    "            disks_in_right_pos_2+=1\n",
    "    return True if disks_in_right_pos_1 ==3 or disks_in_right_pos_2 ==3 else  False\n",
    "            "
   ]
  },
  {
   "cell_type": "markdown",
   "metadata": {},
   "source": [
    "In the following examples, a goal state is found because all the disks are ordered in the second or third peg."
   ]
  },
  {
   "cell_type": "code",
   "execution_count": 11,
   "metadata": {},
   "outputs": [
    {
     "name": "stdout",
     "output_type": "stream",
     "text": [
      "    1\n",
      "    2\n",
      "    3\n",
      "------\n",
      "('Win state ? ', True)\n"
     ]
    }
   ],
   "source": [
    "state = [ [], [],[1,2,3]]\n",
    "printState(state)\n",
    "print (\"Win state ? \",winner(state))\n",
    "     "
   ]
  },
  {
   "cell_type": "markdown",
   "metadata": {},
   "source": [
    "## EpsilonGreedy\n",
    "This functions is used to decide whereas to take a random move with uniform distribution or a move based on the experience of the Q table.\n",
    "The random move will be selected with a probability equals to the value of the epsiolon that comes as a paramether, so the move based on the experience will be selected with 1-epsilon probability. \n",
    "\n",
    "If the move based on the experience is selected, the function will get all tuples from the Q table in which the value of move is a valid move for that state, and from that list will select the tuple with a higher value, it means, the one with more probabilities to route to the goal state. "
   ]
  },
  {
   "cell_type": "code",
   "execution_count": 12,
   "metadata": {
    "collapsed": true
   },
   "outputs": [],
   "source": [
    "def epsilonGreedy(epsilon, Q, state,validMovesF):\n",
    "    import numpy as np\n",
    "    bestMove=[]\n",
    "    validMovesList = validMovesF(state)\n",
    "    \n",
    "    if np.random.uniform() < epsilon:\n",
    "        return validMovesList[np.random.choice(len(validMovesList))]\n",
    "    else:        \n",
    "        Qs = np.array([Q.get(tuple(stateMoveTuple(state, m)), 0) for m in validMovesList]) \n",
    "        bestMove = validMovesList[np.argmax(Qs)]\n",
    "\n",
    "        return bestMove"
   ]
  },
  {
   "cell_type": "markdown",
   "metadata": {},
   "source": [
    "## TrainQ\n",
    "This function is used to add tuples of state and moves to the Q table with a reinforcement value indicating how far is that tuple from the goal state.Every time a new tuple is added to the dictionary, a reinforcement value of -1 is assigned to it.\n",
    "\n",
    "The learningRate represents how much the new reinforcement value will change the current value for a certain state.If a value of  0  is used, no learning will be added because it will not affect the current value, and if a  factor of 1 is used, then the algorithm will consider only the most recent values added."
   ]
  },
  {
   "cell_type": "code",
   "execution_count": 20,
   "metadata": {},
   "outputs": [],
   "source": [
    "def trainQ(nRepetitions, learningRate, epsilonDecayFactor,validMovesF, makeMoveF, winnerF=winner, st=[[1,2,3], [], []]):\n",
    "    import copy\n",
    "    import numpy as np\n",
    "\n",
    "    \n",
    "    steps=[]\n",
    "    maxGames = nRepetitions\n",
    "    rho = learningRate\n",
    "    epsilonDecayRate=epsilonDecayFactor\n",
    "    epsilon = 1.0 \n",
    "    \n",
    "    Q = {}\n",
    "    for nGames in range(maxGames):\n",
    "        epsilon *= epsilonDecayRate\n",
    "        step = 0\n",
    "        state=st \n",
    "        done = False\n",
    "        \n",
    "        while not done:\n",
    "            step += 1\n",
    "            move = epsilonGreedy(epsilon, Q, state,validMovesF)\n",
    "            stateNew=makeMoveF(state, move)\n",
    "            \n",
    "            #if state being explored not in dictionary\n",
    "            if tuple(stateMoveTuple(state, move)) not in Q:\n",
    "                Q[tuple(stateMoveTuple(state, move))] = -1  # initial Q value for new state,move\n",
    "                \n",
    "            if winnerF(stateNew):\n",
    "                Q[tuple(stateMoveTuple(state, move))] = 0  \n",
    "                done = True\n",
    "\n",
    "             #If nobody won yet, let's calculate the temporal difference error and use it to adjust the Q value \n",
    "            #of the previous state,move. We do this only if we are not at the first move of a game.   \n",
    "            if step > 1:\n",
    "                Q[tuple(stateMoveTuple(stateOld, moveOld))] += rho * (-1+Q[tuple(stateMoveTuple(state, move))] - Q[tuple(stateMoveTuple(stateOld, moveOld))])\n",
    "\n",
    "            stateOld=copy.deepcopy(state)   \n",
    "            moveOld = copy.deepcopy(move) # remember state and move to Q(state,move) can be updated after next steps\n",
    "            state = copy.deepcopy(stateNew)\n",
    "\n",
    "                \n",
    "        steps.append(step)\n",
    "    \n",
    "   \n",
    "    return Q,steps   \n",
    "    \n"
   ]
  },
  {
   "cell_type": "code",
   "execution_count": 48,
   "metadata": {},
   "outputs": [
    {
     "name": "stdout",
     "output_type": "stream",
     "text": [
      "[123, 294, 263, 279, 19, 124, 208, 319, 85, 160, 22, 200, 47, 66, 97, 29, 108, 131, 63, 59, 14, 254, 36, 43, 128, 42, 42, 27, 404, 76, 46, 206, 50, 72, 91, 36, 47, 26, 281, 46, 288, 75, 139, 112, 46, 39, 81, 73, 30, 187, 31, 53, 235, 39, 36, 87, 47, 58, 81, 90, 20, 58, 19, 22, 77, 12, 163, 45, 241, 287, 54, 45, 52, 14, 70, 41, 26, 47, 83, 10, 20, 201, 65, 45, 30, 62, 114, 179, 43, 41, 18, 204, 132, 27, 22, 72, 13, 64, 34, 12, 156, 62, 80, 12, 39, 22, 70, 41, 189, 45, 128, 70, 49, 30, 57, 28, 37, 37, 52, 113, 25, 97, 40, 13, 75, 13, 52, 15, 14, 33, 72, 24, 53, 44, 70, 113, 73, 149, 25, 32, 108, 30, 42, 18, 95, 160, 13, 13, 46, 42, 62, 54, 58, 42, 23, 18, 67, 15, 49, 32, 103, 95, 55, 13, 41, 26, 141, 13, 39, 55, 59, 109, 37, 53, 25, 33, 61, 31, 101, 41, 41, 104, 28, 40, 40, 41, 29, 47, 37, 23, 32, 77, 10, 25, 70, 25, 30, 28, 22, 9, 26, 40, 50, 20, 23, 44, 49, 17, 86, 21, 41, 19, 45, 26, 31, 16, 62, 14, 32, 45, 33, 105, 41, 51, 22, 10, 66, 22, 77, 23, 40, 55, 26, 16, 23, 62, 21, 15, 25, 19, 26, 40, 19, 39, 63, 36, 24, 39, 14, 54, 20, 38, 39, 48, 40, 50, 29, 31, 44, 70, 17, 52, 19, 46, 49, 70, 17, 37, 22, 20, 23, 17, 98, 22, 12, 53, 8, 26, 41, 55, 50, 18, 13, 10, 54, 49, 39, 19, 19, 92, 27, 9, 19, 25, 10, 15, 23, 34, 34, 22, 29, 9, 17, 19, 26, 38, 8, 19, 17, 16, 24, 26, 21, 11, 12, 24, 10, 14, 42, 19, 23, 28, 13, 20, 19, 23, 13, 13, 23, 11, 36, 36, 15, 36, 17, 11, 15, 33, 14, 26, 103, 17, 30, 44, 15, 35, 20, 28, 16, 20, 25, 40, 17, 15, 23, 17, 19, 19, 27, 20, 24, 28, 32, 32, 20, 17, 15, 13, 25, 24, 14, 41, 59, 28, 19, 62, 13, 42, 19, 14, 39, 34, 44, 9, 16, 15, 12, 11, 10, 17, 17, 32, 27, 38, 20, 17, 18, 18, 22, 29, 26, 15, 29, 25, 44, 12, 27, 14, 10, 45, 98, 14, 28, 31, 27, 30, 16, 10, 14, 38, 17, 18, 15, 22, 9, 50, 40, 9, 17, 19, 11, 18, 34, 12, 28, 21, 18, 20, 13, 24, 9, 38, 9, 23, 16, 34, 19, 19, 13, 9, 54, 13, 28, 10, 31, 10, 29, 18, 40, 7, 11, 15, 15, 10, 26, 15, 12, 18, 42, 15, 26, 14, 15, 19, 11, 11, 9, 18, 22, 10, 16, 9, 16, 7, 17, 38, 9, 24, 27, 21, 10, 15, 39, 11, 48, 17, 16, 10, 22, 13, 12, 24, 14, 12, 9, 16, 11, 24, 59, 11, 25, 14, 19, 16, 47, 9, 15, 21, 31, 14, 14, 16, 23, 7, 13, 35, 17, 10, 19, 7, 14, 10, 27, 22, 12, 34, 24, 9, 15, 16, 18, 22, 15, 13, 10, 16, 17, 9, 14, 11, 19, 18, 8, 25, 18, 15, 20, 27, 52, 14, 32, 17, 11, 15, 16, 19, 10, 12, 14, 53, 11, 7, 13, 10, 15, 20, 25, 10, 17, 16, 15, 7, 32, 7, 30, 9, 17, 12, 24, 11, 9, 16, 20, 22, 14, 19, 18, 15, 17, 10, 14, 16, 34, 19, 13, 21, 16, 16, 11, 15, 13, 25, 23, 46, 8, 12, 15, 37, 10, 18, 16, 14, 12, 9, 18, 17, 14, 13, 18, 28, 15, 17, 14, 9, 11, 7, 9, 22, 7, 17, 14, 20, 12, 7, 20, 16, 9, 9, 17, 19, 14, 7, 20, 17, 12, 14, 34, 22, 26, 21, 17, 25, 12, 22, 7, 11, 12, 11, 11, 9, 7, 9, 15, 11, 9, 12, 11, 15, 9, 19, 16, 16, 13, 26, 24, 18, 9, 16, 22, 16, 16, 16, 10, 7, 12, 10, 14, 8, 17, 15, 12, 16, 13, 8, 20, 10, 21, 14, 17, 7, 24, 7, 10, 16, 28, 26, 14, 18, 14, 27, 19, 18, 33, 18, 28, 26, 9, 7, 20, 7, 13, 13, 9, 7, 11, 15, 11, 15, 18, 9, 12, 16, 10, 8, 10, 24, 9, 11, 9, 12, 10, 11, 10, 27, 9, 22, 11, 9, 20, 16, 16, 16, 13, 14, 11, 7, 9, 8, 19, 14, 7, 11, 13, 14, 12, 8, 13, 12, 11, 14, 13, 14, 19, 9, 9, 26, 11, 12, 7, 18, 12, 15, 7, 14, 10, 11, 8, 17, 18, 19, 9, 46, 15, 22, 17, 8, 9, 14, 11, 20, 8, 7, 13, 11, 15, 9, 13, 17, 23, 7, 16, 15, 7, 9, 10, 7, 16, 12, 7, 11, 14, 15, 10, 13, 13, 12, 9, 11, 24, 19, 12, 22, 10, 8, 11, 9, 10, 14, 18, 16, 18, 7, 13, 13, 9, 11, 18, 11, 7, 12, 7, 15, 11, 12, 13, 8, 9, 18, 13, 10, 7, 7, 9, 12, 16, 9, 9, 10, 17, 9, 24, 13, 11, 17, 9, 9, 12, 11, 11, 11, 9, 14, 10, 11, 9, 9, 9, 23, 10, 8, 14, 14, 22, 10, 10, 13, 20, 8, 14, 25, 14, 14, 26, 13, 7, 9, 10, 15, 17, 7, 13, 22, 14, 17, 7, 11, 9, 12, 8, 9, 7, 14, 7, 7, 11, 20, 13, 9, 13, 7, 9, 11, 8, 10, 10, 9, 10, 10, 11, 16, 15, 9, 10, 14, 11, 16, 15, 8, 8, 10, 7, 9, 11, 7, 7, 7, 9, 9, 12, 11, 11, 10, 7, 11, 20, 10, 14, 14, 16, 16, 9, 10, 13, 13, 15, 12, 14, 9, 11, 13, 9, 12, 7, 20, 13, 9, 15, 12, 8, 18]\n"
     ]
    }
   ],
   "source": [
    "Q, stepsToGoal = trainQ(1000, 0.2, 0.999, validMoves, makeMove)\n",
    "print (stepsToGoal)\n"
   ]
  },
  {
   "cell_type": "markdown",
   "metadata": {},
   "source": [
    "# Plotting "
   ]
  },
  {
   "cell_type": "code",
   "execution_count": 49,
   "metadata": {},
   "outputs": [
    {
     "data": {
      "image/png": "[encoded data removed]",
      "text/plain": [
       "<matplotlib.figure.Figure at 0x7f461da30710>"
      ]
     },
     "metadata": {},
     "output_type": "display_data"
    }
   ],
   "source": [
    "def plot():\n",
    "    import matplotlib.pyplot as plt\n",
    "    from matplotlib.offsetbox import AnchoredText\n",
    "\n",
    "    fig = plt.figure(figsize=(10 ,8))\n",
    "    plt.plot(stepsToGoal)\n",
    "    plt.ylabel('Number of steps\\n Max:{:d} \\n Min: {:d}'.format(max(stepsToGoal),min(stepsToGoal) ))\n",
    "    plt.xlabel('Bins of {:d} Games'.format(1))\n",
    "    plt.xlabel('Games')\n",
    "    plt.title('Bins of {:d} Games'.format(len(stepsToGoal)))\n",
    "    plt.show()\n",
    "plot()"
   ]
  },
  {
   "cell_type": "code",
   "execution_count": 50,
   "metadata": {
    "collapsed": true
   },
   "outputs": [],
   "source": [
    "#without updating Q, use Q to find greedy action each step until goal is found. Return path of states.\n",
    "\n",
    "def testQ(Q, maxSteps, validMovesF, makeMoveF, winnerF=winner, st=[[1,2,3], [], []]):\n",
    "    import copy\n",
    "    import numpy as np\n",
    "    state=st\n",
    "    win=False\n",
    "    path=[]\n",
    "    for step in range(maxSteps):\n",
    "        while not win:            \n",
    "            path.append(state)\n",
    "            move=[]\n",
    "            validMovesList = validMovesF(state)\n",
    "\n",
    "            Qs = np.array([Q.get(tuple(stateMoveTuple(state, m)), 0)  for m in validMovesList]) \n",
    "            move = validMovesList[np.argmax(Qs)]\n",
    "            stateNew=makeMoveF(state, move)\n",
    "\n",
    "            if winnerF(stateNew):  \n",
    "                path.append(stateNew)\n",
    "                win = True\n",
    "\n",
    "            state = copy.deepcopy(stateNew)\n",
    "    return path         "
   ]
  },
  {
   "cell_type": "code",
   "execution_count": 51,
   "metadata": {},
   "outputs": [],
   "source": [
    "path = testQ(Q, 20,validMoves,makeMove)"
   ]
  },
  {
   "cell_type": "code",
   "execution_count": 52,
   "metadata": {},
   "outputs": [
    {
     "data": {
      "text/plain": [
       "[[[1, 2, 3], [], []],\n",
       " [[2, 3], [], [1]],\n",
       " [[3], [2], [1]],\n",
       " [[3], [1, 2], []],\n",
       " [[], [1, 2], [3]],\n",
       " [[1], [2], [3]],\n",
       " [[1], [], [2, 3]],\n",
       " [[], [], [1, 2, 3]]]"
      ]
     },
     "execution_count": 52,
     "metadata": {},
     "output_type": "execute_result"
    }
   ],
   "source": [
    "path\n"
   ]
  },
  {
   "cell_type": "code",
   "execution_count": 53,
   "metadata": {},
   "outputs": [
    {
     "name": "stdout",
     "output_type": "stream",
     "text": [
      "1    \n",
      "2    \n",
      "3    \n",
      "------\n",
      "\n",
      "     \n",
      "2    \n",
      "3   1\n",
      "------\n",
      "\n",
      "     \n",
      "     \n",
      "3 2 1\n",
      "------\n",
      "\n",
      "     \n",
      "  1  \n",
      "3 2  \n",
      "------\n",
      "\n",
      "     \n",
      "  1  \n",
      "  2 3\n",
      "------\n",
      "\n",
      "     \n",
      "     \n",
      "1 2 3\n",
      "------\n",
      "\n",
      "     \n",
      "    2\n",
      "1   3\n",
      "------\n",
      "\n",
      "    1\n",
      "    2\n",
      "    3\n",
      "------\n",
      "\n"
     ]
    }
   ],
   "source": [
    "for s in path:\n",
    "    #print s\n",
    "    printState(s)\n",
    "    print"
   ]
  },
  {
   "cell_type": "code",
   "execution_count": 63,
   "metadata": {},
   "outputs": [
    {
     "name": "stdout",
     "output_type": "stream",
     "text": [
      "\n",
      "Testing validMoves([[1], [2], [3]])\n",
      "\n",
      "--- 10/10 points. Correctly returned [[1, 2], [1, 3], [2, 3]]\n",
      "\n",
      "Testing validMoves([[], [], [1, 2, 3]])\n",
      "\n",
      "--- 10/10 points. Correctly returned [[3, 1], [3, 2]]\n",
      "\n",
      "Testing makeMove([[], [], [1, 2, 3]], [3, 2])\n",
      "\n",
      "--- 10/10 points. Correctly returned [[], [1], [2, 3]]\n",
      "\n",
      "Testing makeMove([[2], [3], [1]], [1, 2])\n",
      "\n",
      "--- 10/10 points. Correctly returned [[], [2, 3], [1]]\n",
      "\n",
      "Testing   Q, steps = trainQ(1000, 0.5, 0.7, validMoves, makeMove).\n",
      "\n",
      "--- 10/10 points. Q dictionary has correct number of entries.\n",
      "\n",
      "--- 10/10 points. The mean of the number of steps is 7.357 which is correct.\n",
      "\n",
      "Testing   path = testQ(Q, 20, validMoves, makeMove).\n",
      "\n",
      "--- 20/20 points. Correctly returns path of length 8, less than 10.\n",
      "\n",
      "ArtificcialIntelligence Execution Grade is 80/80\n",
      "\n",
      " Remaining 20 points will be based on your text describing the trainQ and test! functions.\n",
      "\n",
      "ArtificcialIntelligence FINAL GRADE is __/100\n"
     ]
    },
    {
     "data": {
      "text/plain": [
       "<matplotlib.figure.Figure at 0x7f46341b8a90>"
      ]
     },
     "metadata": {},
     "output_type": "display_data"
    }
   ],
   "source": [
    "%run -i A5grader.py"
   ]
  },
  {
   "cell_type": "markdown",
   "metadata": {},
   "source": [
    "## Extra Credit"
   ]
  },
  {
   "cell_type": "code",
   "execution_count": 32,
   "metadata": {
    "collapsed": true
   },
   "outputs": [],
   "source": [
    "def printState_4disk(state):\n",
    "    import copy\n",
    "    \n",
    "    stateCopy = copy.deepcopy(state)\n",
    "    for peg in stateCopy:\n",
    "        numberDisks=len(peg)\n",
    "        for pos in range(4-len(peg)):\n",
    "            peg.insert(pos,' ')\n",
    "            \n",
    "    print stateCopy[0][0],stateCopy[1][0],stateCopy[2][0]\n",
    "    print stateCopy[0][1],stateCopy[1][1],stateCopy[2][1]\n",
    "    print stateCopy[0][2],stateCopy[1][2],stateCopy[2][2]\n",
    "    print stateCopy[0][3],stateCopy[1][3],stateCopy[2][3]\n",
    "    print '------'"
   ]
  },
  {
   "cell_type": "code",
   "execution_count": 33,
   "metadata": {},
   "outputs": [
    {
     "name": "stdout",
     "output_type": "stream",
     "text": [
      "1    \n",
      "2    \n",
      "3    \n",
      "4    \n",
      "------\n"
     ]
    }
   ],
   "source": [
    "state = [[1, 2,3,4], [], []]\n",
    "printState_4disk(state)"
   ]
  },
  {
   "cell_type": "code",
   "execution_count": 34,
   "metadata": {},
   "outputs": [],
   "source": [
    "#returns list of moves that are valid from state\n",
    "def validMoves_4disk(state):\n",
    "    validMoves=[]\n",
    "    #for each peg \n",
    "    for p in range(3):\n",
    "        if len(state[p])>0:\n",
    "            for q in range(3):\n",
    "                if q==p:\n",
    "                    continue\n",
    "                else:  \n",
    "                    if len(state[q])>0 :\n",
    "                        if state[p][0]< state[q][0]:\n",
    "                            validMoves.append([p+1,q+1]) \n",
    "                    else:\n",
    "                        validMoves.append([p+1,q+1])\n",
    "    return validMoves"
   ]
  },
  {
   "cell_type": "code",
   "execution_count": 35,
   "metadata": {},
   "outputs": [
    {
     "data": {
      "text/plain": [
       "[[2, 1], [2, 3], [3, 1]]"
      ]
     },
     "execution_count": 35,
     "metadata": {},
     "output_type": "execute_result"
    }
   ],
   "source": [
    "state = [[3,4], [1], [2]]\n",
    "\n",
    "validMoves_4disk(state)"
   ]
  },
  {
   "cell_type": "markdown",
   "metadata": {},
   "source": [
    "In this case, the valid moves that can be perfomed are:\n",
    "- move the dist 1 to the peg 2\n",
    "- move the dist 1 to the peg 3\n",
    "- move the dist 2 to the peg 3\n",
    "\n",
    "Disk 3 can not be moved to any other peg because the value is greater than the disks in the other pegs.\n"
   ]
  },
  {
   "cell_type": "code",
   "execution_count": 36,
   "metadata": {
    "collapsed": true
   },
   "outputs": [],
   "source": [
    "def makeMove_4disk(state, move):\n",
    "    import copy\n",
    "    newState=copy.deepcopy(state)\n",
    "    disk=move[0]\n",
    "    peg=move[1]\n",
    "    del newState[disk-1][0]\n",
    "    newState[peg-1].insert(0,state[disk-1][0])    \n",
    "    return newState"
   ]
  },
  {
   "cell_type": "markdown",
   "metadata": {},
   "source": [
    "In the following example, the disk 1 is moved to peg 3"
   ]
  },
  {
   "cell_type": "code",
   "execution_count": 37,
   "metadata": {},
   "outputs": [
    {
     "name": "stdout",
     "output_type": "stream",
     "text": [
      "Initial state\n",
      "     \n",
      "     \n",
      "1    \n",
      "2 3 4\n",
      "------\n",
      "Valid Moves:  [[1, 2], [1, 3], [2, 3]]\n",
      "Applying move:  [1, 3]\n",
      "\n",
      "('New state', [[2], [3], [1, 4]])\n",
      "     \n",
      "     \n",
      "    1\n",
      "2 3 4\n",
      "------\n"
     ]
    }
   ],
   "source": [
    "state = [[1,2], [3], [4]]\n",
    "print(\"Initial state\")\n",
    "printState_4disk(state)\n",
    "\n",
    "print \"Valid Moves: \",validMoves_4disk(state)\n",
    "move=validMoves_4disk(state)[1]\n",
    "print \"Applying move: \",move\n",
    "newState=makeMove_4disk(state, move)\n",
    "print (\"\")\n",
    "print (\"New state\", newState)\n",
    "printState_4disk(newState)\n",
    "\n"
   ]
  },
  {
   "cell_type": "code",
   "execution_count": 38,
   "metadata": {
    "collapsed": true
   },
   "outputs": [],
   "source": [
    "def winner_4disk(state):\n",
    "    disks_in_right_pos_2=0\n",
    "    for i in range(4):\n",
    "        if len(state[2]) ==4 and state[2][i]==i+1:\n",
    "            disks_in_right_pos_2+=1\n",
    "    return True if disks_in_right_pos_2 ==4 else  False\n",
    "            "
   ]
  },
  {
   "cell_type": "markdown",
   "metadata": {},
   "source": [
    "In the following examples, a goal state is found because all the disks are ordered in the second or third peg."
   ]
  },
  {
   "cell_type": "code",
   "execution_count": 39,
   "metadata": {},
   "outputs": [
    {
     "name": "stdout",
     "output_type": "stream",
     "text": [
      "    1\n",
      "    2\n",
      "    3\n",
      "    4\n",
      "------\n",
      "('Win state ? ', True)\n"
     ]
    }
   ],
   "source": [
    "state = [ [], [],[1,2,3,4]]\n",
    "printState_4disk(state)\n",
    "print (\"Win state ? \",winner_4disk(state))\n",
    "     "
   ]
  },
  {
   "cell_type": "code",
   "execution_count": 62,
   "metadata": {
    "scrolled": true
   },
   "outputs": [
    {
     "name": "stdout",
     "output_type": "stream",
     "text": [
      "[481, 259, 402, 53, 268, 159, 82, 49, 49, 56, 90, 31, 146, 49, 43, 37, 161, 21, 95, 20, 36, 57, 30, 126, 37, 17, 92, 31, 24, 76, 20, 23, 36, 49, 18, 24, 25, 49, 19, 18, 15, 99, 41, 17, 17, 55, 15, 18, 15, 19, 15, 15, 82, 17, 15, 15, 15, 17, 15, 15, 15, 15, 15, 15, 15, 15, 15, 15, 15, 15, 15, 15, 15, 15, 15, 15, 15, 15, 15, 15, 15, 15, 15, 15, 15, 15, 15, 15, 15, 15, 15, 15, 15, 15, 15, 15, 15, 15, 15, 15, 15, 15, 15, 15, 15, 15, 15, 15, 15, 15, 15, 15, 15, 15, 15, 15, 15, 15, 15, 15, 15, 15, 15, 15, 15, 15, 15, 15, 15, 15, 15, 15, 15, 15, 15, 15, 15, 15, 15, 15, 15, 15, 15, 15, 15, 15, 15, 15, 15, 15, 15, 15, 15, 15, 15, 15, 15, 15, 15, 15, 15, 15, 15, 15, 15, 15, 15, 15, 15, 15, 15, 15, 15, 15, 15, 15, 15, 15, 15, 15, 15, 15, 15, 15, 15, 15, 15, 15, 15, 15, 15, 15, 15, 15, 15, 15, 15, 15, 15, 15, 15, 15, 15, 15, 15, 15, 15, 15, 15, 15, 15, 15, 15, 15, 15, 15, 15, 15, 15, 15, 15, 15, 15, 15, 15, 15, 15, 15, 15, 15, 15, 15, 15, 15, 15, 15, 15, 15, 15, 15, 15, 15, 15, 15, 15, 15, 15, 15, 15, 15, 15, 15, 15, 15, 15, 15, 15, 15, 15, 15, 15, 15, 15, 15, 15, 15, 15, 15, 15, 15, 15, 15, 15, 15, 15, 15, 15, 15, 15, 15, 15, 15, 15, 15, 15, 15, 15, 15, 15, 15, 15, 15, 15, 15, 15, 15, 15, 15, 15, 15, 15, 15, 15, 15, 15, 15, 15, 15, 15, 15, 15, 15, 15, 15, 15, 15, 15, 15, 15, 15, 15, 15, 15, 15, 15, 15, 15, 15, 15, 15, 15, 15, 15, 15, 15, 15, 15, 15, 15, 15, 15, 15, 15, 15, 15, 15, 15, 15, 15, 15, 15, 15, 15, 15, 15, 15, 15, 15, 15, 15, 15, 15, 15, 15, 15, 15, 15, 15, 15, 15, 15, 15, 15, 15, 15, 15, 15, 15, 15, 15, 15, 15, 15, 15, 15, 15, 15, 15, 15, 15, 15, 15, 15, 15, 15, 15, 15, 15, 15, 15, 15, 15, 15, 15, 15, 15, 15, 15, 15, 15, 15, 15, 15, 15, 15, 15, 15, 15, 15, 15, 15, 15, 15, 15, 15, 15, 15, 15, 15, 15, 15, 15, 15, 15, 15, 15, 15, 15, 15, 15, 15, 15, 15, 15, 15, 15, 15, 15, 15, 15, 15, 15, 15, 15, 15, 15, 15, 15, 15, 15, 15, 15, 15, 15, 15, 15, 15, 15, 15, 15, 15, 15, 15, 15, 15, 15, 15, 15, 15, 15, 15, 15, 15, 15, 15, 15, 15, 15, 15, 15, 15, 15, 15, 15, 15, 15, 15, 15, 15, 15, 15, 15, 15, 15, 15, 15, 15, 15, 15, 15, 15, 15, 15, 15, 15, 15, 15, 15, 15, 15, 15, 15, 15, 15, 15, 15, 15, 15, 15, 15, 15, 15, 15, 15, 15, 15, 15, 15, 15, 15, 15, 15, 15, 15, 15, 15, 15, 15, 15, 15, 15, 15, 15, 15, 15, 15, 15, 15, 15, 15, 15, 15, 15, 15, 15, 15, 15, 15, 15, 15, 15, 15, 15, 15, 15, 15, 15, 15, 15, 15, 15, 15, 15, 15, 15, 15, 15, 15, 15, 15, 15, 15, 15, 15, 15, 15, 15, 15, 15, 15, 15, 15, 15, 15, 15, 15, 15, 15, 15, 15, 15, 15, 15, 15, 15, 15, 15, 15, 15, 15, 15, 15, 15, 15, 15, 15, 15, 15, 15, 15, 15, 15, 15, 15, 15, 15, 15, 15, 15, 15, 15, 15, 15, 15, 15, 15, 15, 15, 15, 15, 15, 15, 15, 15, 15, 15, 15, 15, 15, 15, 15, 15, 15, 15, 15, 15, 15, 15, 15, 15, 15, 15, 15, 15, 15, 15, 15, 15, 15, 15, 15, 15, 15, 15, 15, 15, 15, 15, 15, 15, 15, 15, 15, 15, 15, 15, 15, 15, 15, 15, 15, 15, 15, 15, 15, 15, 15, 15, 15, 15, 15, 15, 15, 15, 15, 15, 15, 15, 15, 15, 15, 15, 15, 15, 15, 15, 15, 15, 15, 15, 15, 15, 15, 15, 15, 15, 15, 15, 15, 15, 15, 15, 15, 15, 15, 15, 15, 15, 15, 15, 15, 15, 15, 15, 15, 15, 15, 15, 15, 15, 15, 15, 15, 15, 15, 15, 15, 15, 15, 15, 15, 15, 15, 15, 15, 15, 15, 15, 15, 15, 15, 15, 15, 15, 15, 15, 15, 15, 15, 15, 15, 15, 15, 15, 15, 15, 15, 15, 15, 15, 15, 15, 15, 15, 15, 15, 15, 15, 15, 15, 15, 15, 15, 15, 15, 15, 15, 15, 15, 15, 15, 15, 15, 15, 15, 15, 15, 15, 15, 15, 15, 15, 15, 15, 15, 15, 15, 15, 15, 15, 15, 15, 15, 15, 15, 15, 15, 15, 15, 15, 15, 15, 15, 15, 15, 15, 15, 15, 15, 15, 15, 15, 15, 15, 15, 15, 15, 15, 15, 15, 15, 15, 15, 15, 15, 15, 15, 15, 15, 15, 15, 15, 15, 15, 15, 15, 15, 15, 15, 15, 15, 15, 15, 15, 15, 15, 15, 15, 15, 15, 15, 15, 15, 15, 15, 15, 15, 15, 15, 15, 15, 15, 15, 15, 15, 15, 15, 15, 15, 15, 15, 15, 15, 15, 15, 15, 15, 15, 15, 15, 15, 15, 15, 15, 15, 15, 15, 15, 15, 15, 15, 15, 15, 15, 15, 15, 15, 15, 15, 15, 15, 15, 15, 15, 15, 15, 15, 15, 15, 15, 15, 15, 15, 15, 15, 15, 15, 15, 15, 15, 15, 15, 15, 15, 15, 15, 15, 15, 15, 15, 15, 15, 15, 15, 15, 15, 15, 15, 15, 15, 15, 15, 15, 15, 15, 15, 15, 15, 15, 15]\n"
     ]
    }
   ],
   "source": [
    "Q, stepsToGoal = trainQ(1000, 0.5, 0.7, validMoves_4disk, makeMove_4disk, winner_4disk, [[1,2,3,4],[],[]])\n",
    "print (stepsToGoal)"
   ]
  },
  {
   "cell_type": "code",
   "execution_count": 57,
   "metadata": {},
   "outputs": [],
   "source": [
    "path = testQ(Q, 20,validMoves_4disk,makeMove_4disk, winner_4disk, [[1,2,3,4],[],[]])"
   ]
  },
  {
   "cell_type": "code",
   "execution_count": 58,
   "metadata": {},
   "outputs": [
    {
     "data": {
      "text/plain": [
       "[[[1, 2, 3, 4], [], []],\n",
       " [[2, 3, 4], [1], []],\n",
       " [[3, 4], [1], [2]],\n",
       " [[3, 4], [], [1, 2]],\n",
       " [[4], [3], [1, 2]],\n",
       " [[1, 4], [3], [2]],\n",
       " [[1, 4], [2, 3], []],\n",
       " [[4], [1, 2, 3], []],\n",
       " [[], [1, 2, 3], [4]],\n",
       " [[], [2, 3], [1, 4]],\n",
       " [[2], [3], [1, 4]],\n",
       " [[1, 2], [3], [4]],\n",
       " [[1, 2], [], [3, 4]],\n",
       " [[2], [1], [3, 4]],\n",
       " [[], [1], [2, 3, 4]],\n",
       " [[], [], [1, 2, 3, 4]]]"
      ]
     },
     "execution_count": 58,
     "metadata": {},
     "output_type": "execute_result"
    }
   ],
   "source": [
    "path\n"
   ]
  },
  {
   "cell_type": "code",
   "execution_count": 59,
   "metadata": {},
   "outputs": [
    {
     "name": "stdout",
     "output_type": "stream",
     "text": [
      "1    \n",
      "2    \n",
      "3    \n",
      "4    \n",
      "------\n",
      "\n",
      "     \n",
      "2    \n",
      "3    \n",
      "4 1  \n",
      "------\n",
      "\n",
      "     \n",
      "     \n",
      "3    \n",
      "4 1 2\n",
      "------\n",
      "\n",
      "     \n",
      "     \n",
      "3   1\n",
      "4   2\n",
      "------\n",
      "\n",
      "     \n",
      "     \n",
      "    1\n",
      "4 3 2\n",
      "------\n",
      "\n",
      "     \n",
      "     \n",
      "1    \n",
      "4 3 2\n",
      "------\n",
      "\n",
      "     \n",
      "     \n",
      "1 2  \n",
      "4 3  \n",
      "------\n",
      "\n",
      "     \n",
      "  1  \n",
      "  2  \n",
      "4 3  \n",
      "------\n",
      "\n",
      "     \n",
      "  1  \n",
      "  2  \n",
      "  3 4\n",
      "------\n",
      "\n",
      "     \n",
      "     \n",
      "  2 1\n",
      "  3 4\n",
      "------\n",
      "\n",
      "     \n",
      "     \n",
      "    1\n",
      "2 3 4\n",
      "------\n",
      "\n",
      "     \n",
      "     \n",
      "1    \n",
      "2 3 4\n",
      "------\n",
      "\n",
      "     \n",
      "     \n",
      "1   3\n",
      "2   4\n",
      "------\n",
      "\n",
      "     \n",
      "     \n",
      "    3\n",
      "2 1 4\n",
      "------\n",
      "\n",
      "     \n",
      "    2\n",
      "    3\n",
      "  1 4\n",
      "------\n",
      "\n",
      "    1\n",
      "    2\n",
      "    3\n",
      "    4\n",
      "------\n",
      "\n"
     ]
    }
   ],
   "source": [
    "for s in path:\n",
    "    #print s\n",
    "    printState_4disk(s)\n",
    "    print"
   ]
  },
  {
   "cell_type": "code",
   "execution_count": 61,
   "metadata": {},
   "outputs": [
    {
     "data": {
      "image/png": "[encoded data removed]",
      "text/plain": [
       "<matplotlib.figure.Figure at 0x7f461d883cd0>"
      ]
     },
     "metadata": {},
     "output_type": "display_data"
    }
   ],
   "source": [
    "plot()"
   ]
  },
  {
   "cell_type": "markdown",
   "metadata": {},
   "source": [
    "Find values for number of repetitions, learning rate, and epsilon decay factor for which trainQ learns a Q function that testQ can use to find the shortest solution path. Include the output from the successful calls to trainQ and testQ.\n",
    "\n"
   ]
  }
 ],
 "metadata": {
  "kernelspec": {
   "display_name": "Python 3",
   "language": "python",
   "name": "python3"
  },
  "language_info": {
   "codemirror_mode": {
    "name": "ipython",
    "version": 2
   },
   "file_extension": ".py",
   "mimetype": "text/x-python",
   "name": "python",
   "nbconvert_exporter": "python",
   "pygments_lexer": "ipython2",
   "version": "2.7.12"
  }
 },
 "nbformat": 4,
 "nbformat_minor": 2
}
