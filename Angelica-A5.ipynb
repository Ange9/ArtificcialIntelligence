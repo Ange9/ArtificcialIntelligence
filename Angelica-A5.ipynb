{
 "cells": [
  {
   "cell_type": "markdown",
   "metadata": {},
   "source": [
    "# Reinforcement Learning Solution to the Towers of Hanoi Puzzle"
   ]
  },
  {
   "cell_type": "code",
   "execution_count": 1,
   "metadata": {
    "collapsed": true
   },
   "outputs": [],
   "source": [
    "import numpy as np\n",
    "import matplotlib.pyplot as plt\n",
    "%matplotlib inline\n",
    "from copy import copy"
   ]
  },
  {
   "cell_type": "markdown",
   "metadata": {},
   "source": [
    "## Print state\n",
    "This function is used to give a grafical representation of a certain state in the Hannoi Towers game.\n"
   ]
  },
  {
   "cell_type": "code",
   "execution_count": 2,
   "metadata": {
    "collapsed": true
   },
   "outputs": [],
   "source": [
    "def printState(state):\n",
    "    import copy\n",
    "    \n",
    "    stateCopy = copy.deepcopy(state)\n",
    "    for peg in stateCopy:\n",
    "        numberDisks=len(peg)\n",
    "        for pos in range(3-len(peg)):\n",
    "            peg.insert(pos,' ')\n",
    "            \n",
    "    print stateCopy[0][0],stateCopy[1][0],stateCopy[2][0]\n",
    "    print stateCopy[0][1],stateCopy[1][1],stateCopy[2][1]\n",
    "    print stateCopy[0][2],stateCopy[1][2],stateCopy[2][2]\n",
    "    print '------'"
   ]
  },
  {
   "cell_type": "code",
   "execution_count": 3,
   "metadata": {},
   "outputs": [
    {
     "name": "stdout",
     "output_type": "stream",
     "text": [
      "1    \n",
      "2    \n",
      "3    \n",
      "------\n"
     ]
    }
   ],
   "source": [
    "state = [[1, 2,3], [], []]\n",
    "printState(state)\n"
   ]
  },
  {
   "cell_type": "markdown",
   "metadata": {},
   "source": [
    "## Valid moves\n",
    "The function *validMoves* returns list of moves that are valid from a certain state.\n",
    "The list returned consists of pairs containing the number of the disk and the peg to which it can be moved.\n",
    "\n",
    "The following is the list of rules:\n",
    "- Only one disk can be moved at a time.\n",
    "- Each move consists of taking the upper disk from one of the stacks and placing it on top of another stack.\n",
    "- No disk may be placed on top of a smaller disk.\n",
    "\n"
   ]
  },
  {
   "cell_type": "code",
   "execution_count": 4,
   "metadata": {
    "collapsed": true
   },
   "outputs": [],
   "source": [
    "#returns list of moves that are valid from state\n",
    "def validMoves(state):\n",
    "    validMoves=[]\n",
    "    #for each peg \n",
    "    for p in range(3):\n",
    "        if len(state[p]) >0:\n",
    "            for q in range(3):\n",
    "                if p==q:\n",
    "                    continue\n",
    "                else:\n",
    "                    if len(state[q])>0:\n",
    "                        if state[p][0] < state[q][0]:\n",
    "                            validMoves.append([p+1,q+1])\n",
    "                    else:\n",
    "                        validMoves.append([p+1,q+1]) \n",
    "    return validMoves"
   ]
  },
  {
   "cell_type": "code",
   "execution_count": 5,
   "metadata": {},
   "outputs": [
    {
     "data": {
      "text/plain": [
       "[[1, 2], [1, 3], [2, 3]]"
      ]
     },
     "execution_count": 5,
     "metadata": {},
     "output_type": "execute_result"
    }
   ],
   "source": [
    "state = [[1], [2], [3]]\n",
    "\n",
    "validMoves(state)"
   ]
  },
  {
   "cell_type": "markdown",
   "metadata": {},
   "source": [
    "In this case, the valid moves that can be perfomed are:\n",
    "- move the disk 1 to the peg 2\n",
    "- move the disk 1 to the peg 3\n",
    "- move the disk 2 to the peg 3\n",
    "\n",
    "Disk 3 can not be moved to any other peg because the value is greater than the disks in the other pegs.\n"
   ]
  },
  {
   "cell_type": "markdown",
   "metadata": {},
   "source": [
    " ## Make move\n",
    " The function `makeMove(state, move)` returns new (copy of) state after move has been applied.\n"
   ]
  },
  {
   "cell_type": "code",
   "execution_count": 6,
   "metadata": {
    "collapsed": true
   },
   "outputs": [],
   "source": [
    "def makeMove(state, move):\n",
    "    import copy\n",
    "    newState=copy.deepcopy(state)\n",
    "    disk=move[0]\n",
    "    peg=move[1]\n",
    "    del newState[disk-1][0]\n",
    "    newState[peg-1].insert(0,state[disk-1][0])    \n",
    "    return newState"
   ]
  },
  {
   "cell_type": "markdown",
   "metadata": {},
   "source": [
    "In the following example, the disk 1 is moved to peg 3"
   ]
  },
  {
   "cell_type": "code",
   "execution_count": 7,
   "metadata": {
    "scrolled": true
   },
   "outputs": [
    {
     "name": "stdout",
     "output_type": "stream",
     "text": [
      "Initial state\n",
      "1    \n",
      "2    \n",
      "3    \n",
      "------\n",
      "Valid Moves:  [[1, 2], [1, 3]]\n",
      "Applying move:  [1, 3]\n",
      "\n",
      "New state\n",
      "     \n",
      "2    \n",
      "3   1\n",
      "------\n"
     ]
    }
   ],
   "source": [
    "state = [[1,2,3], [], []]\n",
    "print(\"Initial state\")\n",
    "printState(state)\n",
    "\n",
    "print \"Valid Moves: \",validMoves(state)\n",
    "move=validMoves(state)[1]\n",
    "print \"Applying move: \",move\n",
    "newState=makeMove(state, move)\n",
    "print (\"\")\n",
    "print (\"New state\")\n",
    "printState(newState)\n",
    "\n"
   ]
  },
  {
   "cell_type": "markdown",
   "metadata": {},
   "source": [
    "## StateMove Tuple\n",
    "The funtion `stateMoveTuple(state, move)` returns tuple of state and move. It is used to create a tuple with a certain state and move to be able to insert it later as a key in the Q dictionary."
   ]
  },
  {
   "cell_type": "code",
   "execution_count": 8,
   "metadata": {
    "collapsed": true
   },
   "outputs": [],
   "source": [
    "def stateMoveTuple(state, move):\n",
    "    import copy\n",
    "    newState=copy.deepcopy(state)\n",
    "    newTuple=[]\n",
    "    \n",
    "    for l in range(len(state)):\n",
    "        newTuple.append(tuple(newState[l]))\n",
    "    return tuple((tuple(newTuple),tuple(move)))"
   ]
  },
  {
   "cell_type": "markdown",
   "metadata": {},
   "source": [
    "In the this example, a tuple is made with the following state and move:  "
   ]
  },
  {
   "cell_type": "code",
   "execution_count": 9,
   "metadata": {},
   "outputs": [
    {
     "data": {
      "text/plain": [
       "(((1, 2, 3), (), ()), (1, 2))"
      ]
     },
     "execution_count": 9,
     "metadata": {},
     "output_type": "execute_result"
    }
   ],
   "source": [
    "state = [[1,2,3], [], []]\n",
    "move =[1, 2]\n",
    "stateMoveTuple(state, move)\n"
   ]
  },
  {
   "cell_type": "markdown",
   "metadata": {},
   "source": [
    "## Winner\n",
    "This function is used to determine if a goal state was reached. A goal state will be found if the 3 disks are in the third peg, ordered starting with the smallest one and ending with the biggest one. This logic is considering that the start state will always be all the disks in the first peg."
   ]
  },
  {
   "cell_type": "code",
   "execution_count": 10,
   "metadata": {
    "collapsed": true
   },
   "outputs": [],
   "source": [
    "def winner(state):\n",
    "    disks_in_right_pos_1=0\n",
    "    disks_in_right_pos_2=0\n",
    "    for i in range(3):\n",
    "        #if len(state[1]) ==3 and state[1][i]==i+1:\n",
    "         #   disks_in_right_pos_1+=1\n",
    "        if len(state[2]) ==3 and state[2][i]==i+1:\n",
    "            disks_in_right_pos_2+=1\n",
    "    return True if disks_in_right_pos_1 ==3 or disks_in_right_pos_2 ==3 else  False\n",
    "            "
   ]
  },
  {
   "cell_type": "markdown",
   "metadata": {},
   "source": [
    "In the following examples, a goal state is found because all the disks are ordered in the second or third peg."
   ]
  },
  {
   "cell_type": "code",
   "execution_count": 11,
   "metadata": {},
   "outputs": [
    {
     "name": "stdout",
     "output_type": "stream",
     "text": [
      "    1\n",
      "    2\n",
      "    3\n",
      "------\n",
      "('Win state ? ', True)\n"
     ]
    }
   ],
   "source": [
    "state = [ [], [],[1,2,3]]\n",
    "printState(state)\n",
    "print (\"Win state ? \",winner(state))\n",
    "     "
   ]
  },
  {
   "cell_type": "markdown",
   "metadata": {},
   "source": [
    "## EpsilonGreedy\n",
    "This functions is used to decide whereas to take a random move with uniform distribution or a move based on the experience of the Q table.\n",
    "The random move will be selected with a probability equals to the value of the epsiolon that comes as a paramether, so the move based on the experience will be selected with 1-epsilon probability. \n",
    "\n",
    "If the move based on the experience is selected, the function will get all tuples from the Q table in which the value of move is a valid move for that state, and from that list will select the tuple with a higher value, it means, the one with more probabilities to route to the goal state. "
   ]
  },
  {
   "cell_type": "code",
   "execution_count": 12,
   "metadata": {
    "collapsed": true
   },
   "outputs": [],
   "source": [
    "def epsilonGreedy(epsilon, Q, state,validMovesF):\n",
    "    import numpy as np\n",
    "    bestMove=[]\n",
    "    validMovesList = validMovesF(state)\n",
    "    \n",
    "    if np.random.uniform() < epsilon:\n",
    "        return validMovesList[np.random.choice(len(validMovesList))]\n",
    "    else:        \n",
    "        Qs = np.array([Q.get(tuple(stateMoveTuple(state, m)), 0) for m in validMovesList]) \n",
    "        bestMove = validMovesList[np.argmax(Qs)]\n",
    "\n",
    "        return bestMove"
   ]
  },
  {
   "cell_type": "markdown",
   "metadata": {},
   "source": [
    "## TrainQ\n",
    "This function is used to add tuples of state and moves to the Q table with a reinforcement value indicating how far is that tuple from the goal state.\n",
    "\n",
    "Every time a new tuple is added to the dictionary, a reinforcement value of -1 is assigned to it, which means that the state have not being trained yet and have not being affected by the future states.This also means that the most recent state added will have the highest Q value, and that will make the *epsiloGreedy* function select the most recent added, and this will cause a lot of explorations because it will force to explore all options from the previous state added.\n",
    "If the next new state generated from the current state is a win state, the value of the current state is changed to 0 to show that the desire point was reached, or that the number of steps to the goal is 0. \n",
    "\n",
    "Assigning the value of 0 to the current state Q value, the temporal difference error will be affected less in the next trainning when assigning the new Q value to the privous state and that will make the *epsilonGreedy* algorithm most likely to choose this option becuase it will have a higher value than the others that are affected by the temporal difference error that considers the reinforcement step of -1 and the estimated value from next state. \n",
    "\n",
    "Every time a new state is generated from the current state, the Q value associated with the old state(parent of the current state) will be affected by multiplying the learning rate by the temporal difference error. This temporal difference error is calculated considering 3 factors:\n",
    "- **r**: represents the reinforcement step from the current step to the next step. It's value is equal to -1 because that will make the temporal diference error get far from the 0 (number of steps to get to the goal state if already in the goal state) because the Q value we are updating do not belongs to goal state.\n",
    "- **Q value of the current state**: if a next step from the current state is a win, it means that the Q value of the current state is 0, so the temporal difference error will be affected less and will not make the temporal difference error value get far from the 0, because the goal state is close from this state.If the next step from the current state is not a win, the Q value of the current state will be a negative value but further from 0 than if it were the parent of a win state.\n",
    "- **Q value of the old state**: this value is the negative value assigned to the parent of the current state. The further  the value is from 0, the further the state is from the goal state.\n",
    "\n",
    "The higher the value of this temporal difference error, the lower the Q value assigned to the current state predecesor will be, because multyplying the Q value by the learning factor will make the result further from 0 depending on how far the value of that temporal difference  error is from 0.\n",
    "\n",
    "The learningRate represents how much the new reinforcement value will change the current value for a certain state.If a value of  0  is used, no learning will be added because it will not affect the current value, and if a  factor of 1 is used, then the algorithm will consider only the most recent values added.\n",
    "\n",
    "The *epsilonDecayFactor* will affect in how often a random move is selected by the *epsiloGreedy* function. As the *epsilon* value is getting close to 0, by multiplying it by this *epsilonDecayFactor*, the *epsiloGreedy* function will be most likely to select a move based on the experience reflected in the Q table, so the lower the value of *epsilon* the higher the chances of making a move based on the values of the Q table. But we need to consider that having this *epsilon* decaying really fast by using a high *epsilonDecayFactor* will not always be a good idea, because if the Q table have not being trained enough, the selected moves will not be accurate because it does not have the necessary information to decide which is the best option.\n",
    "\n",
    "The same needs to be considered when selecting the *learningRate* because if we select a higher value for this constant, we are making the Q table learn quicker, it will always find a solution path but not the shortest, because the algorithm will not have enough time to realize that there is a better way to get to the goal state. \n",
    "\n",
    "*This algorithm was developed based on the code provided by Dr. Anderson in class.*"
   ]
  },
  {
   "cell_type": "code",
   "execution_count": 13,
   "metadata": {},
   "outputs": [],
   "source": [
    "def trainQ(nRepetitions, learningRate, epsilonDecayFactor,validMovesF, makeMoveF, winnerF=winner, st=[[1,2,3], [], []]):\n",
    "    import copy\n",
    "    import numpy as np\n",
    "\n",
    "    \n",
    "    steps=[]\n",
    "    maxGames = nRepetitions\n",
    "    rho = learningRate\n",
    "    epsilonDecayRate=epsilonDecayFactor\n",
    "    epsilon = 1.0 \n",
    "    #added reinforcement of -1 to the TDerror\n",
    "    r=-1\n",
    "    Q = {}\n",
    "    for nGames in range(maxGames):\n",
    "        epsilon *= epsilonDecayRate\n",
    "        step = 0\n",
    "        state=st \n",
    "        done = False\n",
    "        \n",
    "        while not done:\n",
    "            step += 1\n",
    "            move = epsilonGreedy(epsilon, Q, state,validMovesF)\n",
    "            stateNew=makeMoveF(state, move)\n",
    "            \n",
    "            #if state being explored not in dictionary\n",
    "            if tuple(stateMoveTuple(state, move)) not in Q:\n",
    "                Q[tuple(stateMoveTuple(state, move))] = -1  # initial Q value for new state,move\n",
    "                \n",
    "            if winnerF(stateNew):\n",
    "                Q[tuple(stateMoveTuple(state, move))] = 0  \n",
    "                done = True\n",
    "\n",
    "             #If nobody won yet, let's calculate the temporal difference error and use it to adjust the Q value \n",
    "            #of the previous state,move. We do this only if we are not at the first move of a game.   \n",
    "            if step > 1:  \n",
    "                TDError = (r+Q[tuple(stateMoveTuple(state, move))] - Q[tuple(stateMoveTuple(stateOld, moveOld))]) \n",
    "                Q[tuple(stateMoveTuple(stateOld, moveOld))] += rho * (TDError)\n",
    "\n",
    "            stateOld=copy.deepcopy(state)   \n",
    "            moveOld = copy.deepcopy(move) # remember state and move to Q(state,move) can be updated after next steps\n",
    "            state = copy.deepcopy(stateNew)\n",
    "        steps.append(step)\n",
    "    return Q,steps   "
   ]
  },
  {
   "cell_type": "markdown",
   "metadata": {},
   "source": [
    "### Selecting the learningRate\n",
    "To select the learning rate, we need to consider the number of games that are going to be played to train the Q table, because if we select a low learningRate and just few games to train the Q table, it will not have enough time to get good estimates on its Q values. Having a high learningRate will cause that sometimes the shortest path is not found."
   ]
  },
  {
   "cell_type": "code",
   "execution_count": 14,
   "metadata": {
    "scrolled": true
   },
   "outputs": [
    {
     "name": "stdout",
     "output_type": "stream",
     "text": [
      "[141, 40, 54, 124, 10, 33, 52, 60]\n"
     ]
    }
   ],
   "source": [
    "Q, stepsToGoal = trainQ(8, 0.2, 0.7, validMoves, makeMove)\n",
    "print (stepsToGoal)"
   ]
  },
  {
   "cell_type": "code",
   "execution_count": 15,
   "metadata": {},
   "outputs": [
    {
     "name": "stdout",
     "output_type": "stream",
     "text": [
      "[18, 56, 26, 61, 28, 15, 48, 19]\n"
     ]
    }
   ],
   "source": [
    "Q, stepsToGoal = trainQ(8, 0.9, 0.7, validMoves, makeMove)\n",
    "print (stepsToGoal)"
   ]
  },
  {
   "cell_type": "markdown",
   "metadata": {},
   "source": [
    "### Selecting the epsylonDecayFactor¶\n",
    "Having a very high *epsylonDecayFactor* (close to 1) will make the *epsylon* value get closer to 0 really quick, and that will make the algorithm apply moves based on the Q table almost all the times, without having enough information in that Q table to determine, based on the experience, which value is the best one. As a consecuence, it will always take the algorithm a lot of steps to reach the goal state, because there is no information about which move is better to select."
   ]
  },
  {
   "cell_type": "code",
   "execution_count": 16,
   "metadata": {
    "scrolled": true
   },
   "outputs": [
    {
     "name": "stdout",
     "output_type": "stream",
     "text": [
      "[47, 14, 145, 27, 403, 69, 88, 19, 759, 55, 261, 174, 177, 92, 281, 68, 109, 70, 60, 113, 145, 8, 125, 329, 71, 170, 79, 314, 137, 159, 70, 482, 180, 224, 85, 157, 132, 213, 32, 15, 51, 57, 144, 77, 192, 297, 100, 89, 180, 302, 338, 36, 74, 67, 141, 294, 586, 21, 306, 147, 78, 233, 262, 37, 235, 135, 285, 295, 217, 221, 22, 90, 45, 60, 70, 67, 75, 187, 330, 32, 37, 393, 65, 200, 56, 47, 34, 70, 141, 165, 131, 101, 56, 120, 101, 89, 55, 168, 195, 234, 89, 134, 349, 459, 148, 72, 197, 91, 18, 45, 121, 43, 166, 161, 126, 132, 106, 130, 217, 766, 42, 232, 87, 250, 96, 206, 303, 32, 73, 51, 113, 88, 49, 112, 108, 195, 33, 158, 95, 275, 46, 94, 43, 105, 49, 39, 220, 91, 78, 44, 510, 112, 120, 11, 33, 18, 92, 112, 55, 50, 296, 144, 66, 59, 103, 61, 65, 180, 110, 198, 43, 127, 772, 72, 370, 490, 42, 156, 84, 241, 14, 230, 106, 31, 42, 32, 50, 168, 84, 152, 68, 35, 259, 563, 119, 26, 199, 236, 123, 192, 184, 649, 15, 80, 89, 123, 103, 65, 33, 56, 137, 421, 65, 9, 25, 82, 382, 97, 86, 130, 104, 40, 19, 189, 346, 216, 41, 113, 179, 116, 124, 309, 90, 50, 111, 82, 61, 180, 360, 24, 22, 216, 52, 110, 126, 294, 154, 198, 311, 71, 77, 105, 369, 76, 146, 69, 118, 146, 359, 91, 22, 53, 332, 38, 150, 338, 84, 75, 132, 301, 15, 198, 165, 43, 43, 175, 77, 226, 72, 87, 54, 322, 121, 99, 65, 51, 194, 71, 118, 288, 108, 49, 16, 142, 57, 21, 128, 790, 114, 175, 15, 125, 20, 119, 73, 542, 136, 319, 51, 15, 63, 19, 180, 415, 583, 65, 112, 41, 327, 42, 131, 86, 285, 68, 99, 172, 31, 33, 19, 288, 225, 68, 172, 42, 172, 89, 42, 55, 122, 107, 37, 19, 146, 38, 55, 35, 168, 216, 61, 75, 256, 184, 280, 176, 265, 113, 36, 452, 25, 91, 72, 180, 36, 300, 201, 190, 62, 336, 41, 31, 98, 19, 40, 440, 69, 131, 156, 18, 96, 22, 74, 48, 190, 50, 50, 134, 667, 215, 26, 23, 313, 571, 307, 45, 63, 369, 185, 55, 137, 108, 125, 172, 19, 318, 324, 65, 43, 33, 127, 20, 358, 578, 98, 590, 174, 801, 169, 131, 53, 186, 217, 53, 20, 152, 85, 408, 10, 405, 453, 127, 56, 44, 69, 16, 124, 103, 324, 44, 40, 64, 54, 83, 45, 158, 47, 118, 83, 504, 28, 169, 117, 20, 531, 16, 81, 80, 474, 174, 150, 196, 58, 237, 101, 85, 50, 77, 33, 24, 32, 42, 31, 25, 378, 478, 200, 203, 56, 96, 318, 22, 43, 50, 69, 85, 180, 389, 21, 163, 262, 95, 38, 129, 124, 101, 38, 80, 31, 27, 370, 72]\n"
     ]
    }
   ],
   "source": [
    "Q, stepsToGoal = trainQ(500, 0.5, 0.99999999, validMoves, makeMove)\n",
    "print (stepsToGoal)"
   ]
  },
  {
   "cell_type": "markdown",
   "metadata": {},
   "source": [
    "In the other hand, if a reasonable *epsylonDecayFactor* is used,  the Q table will have enough time to get information about which are the routes to get to the goal state based on random moves performed when it has not yet get to the goal state, and once that Q table have collected enough information, the algorithm will start selecting moves based on the experience reflected in that Q table and will give a result containning the shortest path to get to the goal state."
   ]
  },
  {
   "cell_type": "code",
   "execution_count": 17,
   "metadata": {
    "scrolled": true
   },
   "outputs": [
    {
     "name": "stdout",
     "output_type": "stream",
     "text": [
      "[22, 65, 31, 104, 49, 17, 10, 35, 9, 8, 18, 7, 7, 8, 7, 30, 9, 7, 11, 7, 7, 7, 7, 7, 7, 7, 7, 7, 7, 7, 7, 7, 7, 7, 7, 7, 7, 7, 7, 7, 7, 7, 7, 7, 7, 7, 7, 7, 7, 7, 7, 7, 7, 7, 7, 7, 7, 7, 7, 7, 7, 7, 7, 7, 7, 7, 7, 7, 7, 7, 7, 7, 7, 7, 7, 7, 7, 7, 7, 7, 7, 7, 7, 7, 7, 7, 7, 7, 7, 7, 7, 7, 7, 7, 7, 7, 7, 7, 7, 7, 7, 7, 7, 7, 7, 7, 7, 7, 7, 7, 7, 7, 7, 7, 7, 7, 7, 7, 7, 7, 7, 7, 7, 7, 7, 7, 7, 7, 7, 7, 7, 7, 7, 7, 7, 7, 7, 7, 7, 7, 7, 7, 7, 7, 7, 7, 7, 7, 7, 7, 7, 7, 7, 7, 7, 7, 7, 7, 7, 7, 7, 7, 7, 7, 7, 7, 7, 7, 7, 7, 7, 7, 7, 7, 7, 7, 7, 7, 7, 7, 7, 7, 7, 7, 7, 7, 7, 7, 7, 7, 7, 7, 7, 7, 7, 7, 7, 7, 7, 7, 7, 7, 7, 7, 7, 7, 7, 7, 7, 7, 7, 7, 7, 7, 7, 7, 7, 7, 7, 7, 7, 7, 7, 7, 7, 7, 7, 7, 7, 7, 7, 7, 7, 7, 7, 7, 7, 7, 7, 7, 7, 7, 7, 7, 7, 7, 7, 7, 7, 7, 7, 7, 7, 7, 7, 7, 7, 7, 7, 7, 7, 7, 7, 7, 7, 7, 7, 7, 7, 7, 7, 7, 7, 7, 7, 7, 7, 7, 7, 7, 7, 7, 7, 7, 7, 7, 7, 7, 7, 7, 7, 7, 7, 7, 7, 7, 7, 7, 7, 7, 7, 7, 7, 7, 7, 7, 7, 7, 7, 7, 7, 7, 7, 7, 7, 7, 7, 7, 7, 7, 7, 7, 7, 7, 7, 7, 7, 7, 7, 7, 7, 7, 7, 7, 7, 7, 7, 7, 7, 7, 7, 7, 7, 7, 7, 7, 7, 7, 7, 7, 7, 7, 7, 7, 7, 7, 7, 7, 7, 7, 7, 7, 7, 7, 7, 7, 7, 7, 7, 7, 7, 7, 7, 7, 7, 7, 7, 7, 7, 7, 7, 7, 7, 7, 7, 7, 7, 7, 7, 7, 7, 7, 7, 7, 7, 7, 7, 7, 7, 7, 7, 7, 7, 7, 7, 7, 7, 7, 7, 7, 7, 7, 7, 7, 7, 7, 7, 7, 7, 7, 7, 7, 7, 7, 7, 7, 7, 7, 7, 7, 7, 7, 7, 7, 7, 7, 7, 7, 7, 7, 7, 7, 7, 7, 7, 7, 7, 7, 7, 7, 7, 7, 7, 7, 7, 7, 7, 7, 7, 7, 7, 7, 7, 7, 7, 7, 7, 7, 7, 7, 7, 7, 7, 7, 7, 7, 7, 7, 7, 7, 7, 7, 7, 7, 7, 7, 7, 7, 7, 7, 7, 7, 7, 7, 7, 7, 7, 7, 7, 7]\n"
     ]
    }
   ],
   "source": [
    "Q, stepsToGoal = trainQ(500, 0.5, 0.5, validMoves, makeMove)\n",
    "print (stepsToGoal)\n"
   ]
  },
  {
   "cell_type": "markdown",
   "metadata": {},
   "source": [
    "# Plotting "
   ]
  },
  {
   "cell_type": "code",
   "execution_count": 18,
   "metadata": {},
   "outputs": [],
   "source": [
    "Q, stepsToGoal = trainQ(1000, 0.01, 0.5, validMoves, makeMove)\n"
   ]
  },
  {
   "cell_type": "code",
   "execution_count": 19,
   "metadata": {},
   "outputs": [
    {
     "data": {
      "image/png": "[encoded data removed]",
      "text/plain": [
       "<matplotlib.figure.Figure at 0x7f4370e93fd0>"
      ]
     },
     "metadata": {},
     "output_type": "display_data"
    }
   ],
   "source": [
    "def plot():\n",
    "    import matplotlib.pyplot as plt\n",
    "    from matplotlib.offsetbox import AnchoredText\n",
    "\n",
    "    fig = plt.figure(figsize=(10 ,8))\n",
    "    plt.plot(stepsToGoal)\n",
    "    plt.ylabel('Number of steps\\n Max:{:d} \\n Min: {:d}'.format(max(stepsToGoal),min(stepsToGoal) ))\n",
    "    plt.xlabel('Bins of {:d} Games'.format(1))\n",
    "    plt.xlabel('Games')\n",
    "    plt.title('Bins of {:d} Games'.format(len(stepsToGoal)))\n",
    "    plt.show()\n",
    "plot()"
   ]
  },
  {
   "cell_type": "markdown",
   "metadata": {},
   "source": [
    "## TestQ\n",
    "This function uses the Q dictionary generated by the trainQ function to return the sortest path found based on the information it finds in the Q values to choose the best move to make.\n"
   ]
  },
  {
   "cell_type": "code",
   "execution_count": 20,
   "metadata": {
    "collapsed": true
   },
   "outputs": [],
   "source": [
    "#without updating Q, use Q to find greedy action each step until goal is found. Return path of states.\n",
    "\n",
    "def testQ(Q, maxSteps, validMovesF, makeMoveF, winnerF=winner, st=[[1,2,3], [], []]):\n",
    "    import copy\n",
    "    import numpy as np\n",
    "    state=st\n",
    "    win=False\n",
    "    path=[]\n",
    "    for step in range(maxSteps):\n",
    "        while not win:            \n",
    "            path.append(state)\n",
    "            move=[]\n",
    "            validMovesList = validMovesF(state)\n",
    "\n",
    "            Qs = np.array([Q.get(tuple(stateMoveTuple(state, m)), 0)  for m in validMovesList]) \n",
    "            move = validMovesList[np.argmax(Qs)]\n",
    "            stateNew=makeMoveF(state, move)\n",
    "\n",
    "            if winnerF(stateNew):  \n",
    "                path.append(stateNew)\n",
    "                win = True\n",
    "\n",
    "            state = copy.deepcopy(stateNew)\n",
    "    return path         "
   ]
  },
  {
   "cell_type": "code",
   "execution_count": 21,
   "metadata": {},
   "outputs": [],
   "source": [
    "path = testQ(Q, 20,validMoves,makeMove)"
   ]
  },
  {
   "cell_type": "code",
   "execution_count": 22,
   "metadata": {},
   "outputs": [
    {
     "data": {
      "text/plain": [
       "[[[1, 2, 3], [], []],\n",
       " [[2, 3], [], [1]],\n",
       " [[3], [2], [1]],\n",
       " [[1, 3], [2], []],\n",
       " [[3], [1, 2], []],\n",
       " [[], [1, 2], [3]],\n",
       " [[1], [2], [3]],\n",
       " [[1], [], [2, 3]],\n",
       " [[], [], [1, 2, 3]]]"
      ]
     },
     "execution_count": 22,
     "metadata": {},
     "output_type": "execute_result"
    }
   ],
   "source": [
    "path"
   ]
  },
  {
   "cell_type": "code",
   "execution_count": 23,
   "metadata": {},
   "outputs": [
    {
     "name": "stdout",
     "output_type": "stream",
     "text": [
      "1    \n",
      "2    \n",
      "3    \n",
      "------\n",
      "\n",
      "     \n",
      "2    \n",
      "3   1\n",
      "------\n",
      "\n",
      "     \n",
      "     \n",
      "3 2 1\n",
      "------\n",
      "\n",
      "     \n",
      "1    \n",
      "3 2  \n",
      "------\n",
      "\n",
      "     \n",
      "  1  \n",
      "3 2  \n",
      "------\n",
      "\n",
      "     \n",
      "  1  \n",
      "  2 3\n",
      "------\n",
      "\n",
      "     \n",
      "     \n",
      "1 2 3\n",
      "------\n",
      "\n",
      "     \n",
      "    2\n",
      "1   3\n",
      "------\n",
      "\n",
      "    1\n",
      "    2\n",
      "    3\n",
      "------\n",
      "\n"
     ]
    }
   ],
   "source": [
    "for s in path:\n",
    "    #print s\n",
    "    printState(s)\n",
    "    print"
   ]
  },
  {
   "cell_type": "code",
   "execution_count": 24,
   "metadata": {},
   "outputs": [
    {
     "name": "stdout",
     "output_type": "stream",
     "text": [
      "\n",
      "Testing validMoves([[1], [2], [3]])\n",
      "\n",
      "--- 10/10 points. Correctly returned [[1, 2], [1, 3], [2, 3]]\n",
      "\n",
      "Testing validMoves([[], [], [1, 2, 3]])\n",
      "\n",
      "--- 10/10 points. Correctly returned [[3, 1], [3, 2]]\n",
      "\n",
      "Testing makeMove([[], [], [1, 2, 3]], [3, 2])\n",
      "\n",
      "--- 10/10 points. Correctly returned [[], [1], [2, 3]]\n",
      "\n",
      "Testing makeMove([[2], [3], [1]], [1, 2])\n",
      "\n",
      "--- 10/10 points. Correctly returned [[], [2, 3], [1]]\n",
      "\n",
      "Testing   Q, steps = trainQ(1000, 0.5, 0.7, validMoves, makeMove).\n",
      "\n",
      "--- 10/10 points. Q dictionary has correct number of entries.\n",
      "\n",
      "--- 10/10 points. The mean of the number of steps is 7.4 which is correct.\n",
      "\n",
      "Testing   path = testQ(Q, 20, validMoves, makeMove).\n",
      "\n",
      "--- 20/20 points. Correctly returns path of length 8, less than 10.\n",
      "\n",
      "ArtificcialIntelligence Execution Grade is 80/80\n",
      "\n",
      " Remaining 20 points will be based on your text describing the trainQ and test! functions.\n",
      "\n",
      "ArtificcialIntelligence FINAL GRADE is __/100\n"
     ]
    },
    {
     "data": {
      "text/plain": [
       "<matplotlib.figure.Figure at 0x7f436edfaf10>"
      ]
     },
     "metadata": {},
     "output_type": "display_data"
    }
   ],
   "source": [
    "%run -i A5grader.py"
   ]
  },
  {
   "cell_type": "markdown",
   "metadata": {},
   "source": [
    "## Extra Credit\n",
    "\n",
    "The following methods were implemented using the same logic to solve the Hannoi Towers but using 4 disks."
   ]
  },
  {
   "cell_type": "code",
   "execution_count": 25,
   "metadata": {
    "collapsed": true
   },
   "outputs": [],
   "source": [
    "def printState_4disk(state):\n",
    "    import copy\n",
    "    \n",
    "    stateCopy = copy.deepcopy(state)\n",
    "    for peg in stateCopy:\n",
    "        numberDisks=len(peg)\n",
    "        for pos in range(4-len(peg)):\n",
    "            peg.insert(pos,' ')\n",
    "            \n",
    "    print stateCopy[0][0],stateCopy[1][0],stateCopy[2][0]\n",
    "    print stateCopy[0][1],stateCopy[1][1],stateCopy[2][1]\n",
    "    print stateCopy[0][2],stateCopy[1][2],stateCopy[2][2]\n",
    "    print stateCopy[0][3],stateCopy[1][3],stateCopy[2][3]\n",
    "    print '------'"
   ]
  },
  {
   "cell_type": "code",
   "execution_count": 26,
   "metadata": {},
   "outputs": [
    {
     "name": "stdout",
     "output_type": "stream",
     "text": [
      "1    \n",
      "2    \n",
      "3    \n",
      "4    \n",
      "------\n"
     ]
    }
   ],
   "source": [
    "state = [[1, 2,3,4], [], []]\n",
    "printState_4disk(state)"
   ]
  },
  {
   "cell_type": "code",
   "execution_count": 27,
   "metadata": {
    "collapsed": true
   },
   "outputs": [],
   "source": [
    "#returns list of moves that are valid from state\n",
    "def validMoves_4disk(state):\n",
    "    validMoves=[]\n",
    "    #for each peg \n",
    "    for p in range(3):\n",
    "        if len(state[p])>0:\n",
    "            for q in range(3):\n",
    "                if q==p:\n",
    "                    continue\n",
    "                else:  \n",
    "                    if len(state[q])>0 :\n",
    "                        if state[p][0]< state[q][0]:\n",
    "                            validMoves.append([p+1,q+1]) \n",
    "                    else:\n",
    "                        validMoves.append([p+1,q+1])\n",
    "    return validMoves"
   ]
  },
  {
   "cell_type": "code",
   "execution_count": 28,
   "metadata": {},
   "outputs": [
    {
     "data": {
      "text/plain": [
       "[[2, 1], [2, 3], [3, 1]]"
      ]
     },
     "execution_count": 28,
     "metadata": {},
     "output_type": "execute_result"
    }
   ],
   "source": [
    "state = [[3,4], [1], [2]]\n",
    "\n",
    "validMoves_4disk(state)"
   ]
  },
  {
   "cell_type": "markdown",
   "metadata": {},
   "source": [
    "In this case, the valid moves that can be perfomed are:\n",
    "- move the disk in peg 2 to the peg 1\n",
    "- move the disk in peg 2 to the peg 3\n",
    "- move the disk in peg 3 to the peg 1\n",
    "\n",
    "Disk 3 can not be moved to any other peg because the value is greater than the disks in the other pegs.\n"
   ]
  },
  {
   "cell_type": "code",
   "execution_count": 29,
   "metadata": {
    "collapsed": true
   },
   "outputs": [],
   "source": [
    "def makeMove_4disk(state, move):\n",
    "    import copy\n",
    "    newState=copy.deepcopy(state)\n",
    "    disk=move[0]\n",
    "    peg=move[1]\n",
    "    del newState[disk-1][0]\n",
    "    newState[peg-1].insert(0,state[disk-1][0])    \n",
    "    return newState"
   ]
  },
  {
   "cell_type": "markdown",
   "metadata": {},
   "source": [
    "In the following example, the disk 1 is moved to peg 3"
   ]
  },
  {
   "cell_type": "code",
   "execution_count": 30,
   "metadata": {},
   "outputs": [
    {
     "name": "stdout",
     "output_type": "stream",
     "text": [
      "Initial state\n",
      "     \n",
      "     \n",
      "1    \n",
      "2 3 4\n",
      "------\n",
      "Valid Moves:  [[1, 2], [1, 3], [2, 3]]\n",
      "Applying move:  [1, 3]\n",
      "\n",
      "('New state', [[2], [3], [1, 4]])\n",
      "     \n",
      "     \n",
      "    1\n",
      "2 3 4\n",
      "------\n"
     ]
    }
   ],
   "source": [
    "state = [[1,2], [3], [4]]\n",
    "print(\"Initial state\")\n",
    "printState_4disk(state)\n",
    "\n",
    "print \"Valid Moves: \",validMoves_4disk(state)\n",
    "move=validMoves_4disk(state)[1]\n",
    "print \"Applying move: \",move\n",
    "newState=makeMove_4disk(state, move)\n",
    "print (\"\")\n",
    "print (\"New state\", newState)\n",
    "printState_4disk(newState)\n",
    "\n"
   ]
  },
  {
   "cell_type": "code",
   "execution_count": 31,
   "metadata": {
    "collapsed": true
   },
   "outputs": [],
   "source": [
    "def winner_4disk(state):\n",
    "    disks_in_right_pos_2=0\n",
    "    for i in range(4):\n",
    "        if len(state[2]) ==4 and state[2][i]==i+1:\n",
    "            disks_in_right_pos_2+=1\n",
    "    return True if disks_in_right_pos_2 ==4 else  False\n",
    "            "
   ]
  },
  {
   "cell_type": "markdown",
   "metadata": {},
   "source": [
    "In the following examples, a goal state is found because all the disks are ordered in the third peg."
   ]
  },
  {
   "cell_type": "code",
   "execution_count": 32,
   "metadata": {},
   "outputs": [
    {
     "name": "stdout",
     "output_type": "stream",
     "text": [
      "    1\n",
      "    2\n",
      "    3\n",
      "    4\n",
      "------\n",
      "('Win state ? ', True)\n"
     ]
    }
   ],
   "source": [
    "state = [ [], [],[1,2,3,4]]\n",
    "printState_4disk(state)\n",
    "print (\"Win state ? \",winner_4disk(state))\n",
    "     "
   ]
  },
  {
   "cell_type": "code",
   "execution_count": 33,
   "metadata": {
    "scrolled": true
   },
   "outputs": [],
   "source": [
    "Q, stepsToGoal = trainQ(1000, 0.5, 0.7, validMoves_4disk, makeMove_4disk, winner_4disk, [[1,2,3,4],[],[]])\n"
   ]
  },
  {
   "cell_type": "code",
   "execution_count": 34,
   "metadata": {
    "collapsed": true
   },
   "outputs": [],
   "source": [
    "path = testQ(Q, 20,validMoves_4disk,makeMove_4disk, winner_4disk, [[1,2,3,4],[],[]])"
   ]
  },
  {
   "cell_type": "code",
   "execution_count": 35,
   "metadata": {},
   "outputs": [
    {
     "data": {
      "text/plain": [
       "[[[1, 2, 3, 4], [], []],\n",
       " [[2, 3, 4], [1], []],\n",
       " [[3, 4], [1], [2]],\n",
       " [[3, 4], [], [1, 2]],\n",
       " [[4], [3], [1, 2]],\n",
       " [[1, 4], [3], [2]],\n",
       " [[1, 4], [2, 3], []],\n",
       " [[4], [1, 2, 3], []],\n",
       " [[], [1, 2, 3], [4]],\n",
       " [[], [2, 3], [1, 4]],\n",
       " [[2], [3], [1, 4]],\n",
       " [[1, 2], [3], [4]],\n",
       " [[1, 2], [], [3, 4]],\n",
       " [[2], [1], [3, 4]],\n",
       " [[], [1], [2, 3, 4]],\n",
       " [[], [], [1, 2, 3, 4]]]"
      ]
     },
     "execution_count": 35,
     "metadata": {},
     "output_type": "execute_result"
    }
   ],
   "source": [
    "path\n"
   ]
  },
  {
   "cell_type": "code",
   "execution_count": 36,
   "metadata": {},
   "outputs": [
    {
     "name": "stdout",
     "output_type": "stream",
     "text": [
      "1    \n",
      "2    \n",
      "3    \n",
      "4    \n",
      "------\n",
      "\n",
      "     \n",
      "2    \n",
      "3    \n",
      "4 1  \n",
      "------\n",
      "\n",
      "     \n",
      "     \n",
      "3    \n",
      "4 1 2\n",
      "------\n",
      "\n",
      "     \n",
      "     \n",
      "3   1\n",
      "4   2\n",
      "------\n",
      "\n",
      "     \n",
      "     \n",
      "    1\n",
      "4 3 2\n",
      "------\n",
      "\n",
      "     \n",
      "     \n",
      "1    \n",
      "4 3 2\n",
      "------\n",
      "\n",
      "     \n",
      "     \n",
      "1 2  \n",
      "4 3  \n",
      "------\n",
      "\n",
      "     \n",
      "  1  \n",
      "  2  \n",
      "4 3  \n",
      "------\n",
      "\n",
      "     \n",
      "  1  \n",
      "  2  \n",
      "  3 4\n",
      "------\n",
      "\n",
      "     \n",
      "     \n",
      "  2 1\n",
      "  3 4\n",
      "------\n",
      "\n",
      "     \n",
      "     \n",
      "    1\n",
      "2 3 4\n",
      "------\n",
      "\n",
      "     \n",
      "     \n",
      "1    \n",
      "2 3 4\n",
      "------\n",
      "\n",
      "     \n",
      "     \n",
      "1   3\n",
      "2   4\n",
      "------\n",
      "\n",
      "     \n",
      "     \n",
      "    3\n",
      "2 1 4\n",
      "------\n",
      "\n",
      "     \n",
      "    2\n",
      "    3\n",
      "  1 4\n",
      "------\n",
      "\n",
      "    1\n",
      "    2\n",
      "    3\n",
      "    4\n",
      "------\n",
      "\n"
     ]
    }
   ],
   "source": [
    "for s in path:\n",
    "    #print s\n",
    "    printState_4disk(s)\n",
    "    print"
   ]
  },
  {
   "cell_type": "code",
   "execution_count": 37,
   "metadata": {},
   "outputs": [
    {
     "data": {
      "image/png": "[encoded data removed]",
      "text/plain": [
       "<matplotlib.figure.Figure at 0x7f436ea71f10>"
      ]
     },
     "metadata": {},
     "output_type": "display_data"
    }
   ],
   "source": [
    "plot()"
   ]
  },
  {
   "cell_type": "markdown",
   "metadata": {},
   "source": [
    "\n",
    "\n"
   ]
  }
 ],
 "metadata": {
  "kernelspec": {
   "display_name": "Python 3",
   "language": "python",
   "name": "python3"
  },
  "language_info": {
   "codemirror_mode": {
    "name": "ipython",
    "version": 2
   },
   "file_extension": ".py",
   "mimetype": "text/x-python",
   "name": "python",
   "nbconvert_exporter": "python",
   "pygments_lexer": "ipython2",
   "version": "2.7.12"
  }
 },
 "nbformat": 4,
 "nbformat_minor": 2
}
