{
 "cells": [
  {
   "cell_type": "markdown",
   "metadata": {},
   "source": [
    "# A3: A\\*, IDS, and Effective Branching Factor"
   ]
  },
  {
   "cell_type": "markdown",
   "metadata": {},
   "source": [
    "For this assignment, implement the Recursive Best-First Search\n",
    "implementation of the A\\* algorithm given in class.  Name this function `aStarSearch`.  Also in this notebook include your `iterativeDeepeningSearch` functions.  Define a new function named `ebf` that returns an estimate of the effective\n",
    "branching factor for a search algorithm applied to a search problem.\n",
    "\n",
    "So, the required functions are\n",
    "\n",
    "   - `aStarSearch(startState, actionsF, takeActionF, goalTestF, hF)`\n",
    "   - `iterativeDeepeningSearch(startState, goalState, actionsF, takeActionF, maxDepth)`\n",
    "   - `ebf(nNodes, depth)`, returns number of nodes expanded and depth reached during a search.\n",
    "\n",
    "Apply `iterativeDeepeningSearch` and `aStarSearch` to several eight-tile sliding puzzle\n",
    "problems. Compare their results by displayng\n",
    "solution path depth, number of nodes \n",
    "generated, and the effective branching factor, and discuss the results.  Do this by defining the following function that prints the table as shown in the example below.\n",
    "\n",
    "   - 'runExperiment(goalState1, goalState2, goalState3, [h1, h2, h3])"
   ]
  },
  {
   "cell_type": "markdown",
   "metadata": {},
   "source": [
    "## Heuristic Functions\n",
    "\n",
    "For `aStarSearch` use the following two heuristic functions, plus one more of your own design, for a total of three heuristic functions.\n",
    "\n",
    "  * `h1(state, goal)`: $h(state, goal) = 0$, for all states $state$ and all goal states $goal$,\n",
    "  * `h2(state, goal)`: $h(state, goal) = m$, where $m$ is the Manhattan distance that the blank is from its goal position,\n",
    "  * `h3(state, goal)`: $h(state, goal) = ?$, that you define.  It must be admissible, and not constant for all states."
   ]
  },
  {
   "cell_type": "markdown",
   "metadata": {},
   "source": [
    "## Comparison"
   ]
  },
  {
   "cell_type": "markdown",
   "metadata": {},
   "source": [
    "Apply all four algorithms (`iterativeDeepeningSearch` plus `aStarSearch` with the three heuristic\n",
    "functions) to three eight-tile puzzle problems with start state\n",
    "\n",
    "$$\n",
    "\\begin{array}{ccc}\n",
    "1 & 2 & 3\\\\\n",
    "4 & 0 & 5\\\\\n",
    "6 & 7 & 8\n",
    "\\end{array}\n",
    "$$\n",
    "\n",
    "and these three goal states.\n",
    "\n",
    "$$\n",
    "\\begin{array}{ccccccccccc}\n",
    "1 & 2 & 3  & ~~~~ & 1 & 2 & 3  &  ~~~~ & 1 & 0 &  3\\\\\n",
    "4 & 0 & 5  & & 4 & 5 & 8  & & 4 & 5 & 8\\\\\n",
    "6 & 7 & 8 &  & 6 & 0 & 7  & & 2 & 6 & 7\n",
    "\\end{array}\n",
    "$$"
   ]
  },
  {
   "cell_type": "markdown",
   "metadata": {},
   "source": [
    "Print a well-formatted table like the following.  Try to match this\n",
    "format. \n",
    "\n",
    "           [1, 2, 3, 4, 0, 5, 6, 7, 8]    [1, 2, 3, 4, 5, 8, 6, 0, 7]    [1, 0, 3, 4, 5, 8, 2, 6, 7] \n",
    "    Algorithm    Depth  Nodes  EBF              Depth  Nodes  EBF              Depth  Nodes  EBF          \n",
    "         IDS       0      0  0.000                3     43  3.086               11 225850  2.954         \n",
    "        A*h1       0      0  0.000                3    116  4.488               11 643246  3.263         \n",
    "        A*h2       0      0  0.000                3     51  3.297               11 100046  2.733         \n",
    "\n",
    "Of course you will have one more line for `h3`."
   ]
  },
  {
   "cell_type": "markdown",
   "metadata": {},
   "source": [
    "Download [A3grader.tar](http://www.cs.colostate.edu/~anderson/cs440/notebooks/A3grader.tar) and extract A3grader.py from it."
   ]
  },
  {
   "cell_type": "markdown",
   "metadata": {},
   "source": [
    "# IDS"
   ]
  },
  {
   "cell_type": "code",
   "execution_count": 95,
   "metadata": {},
   "outputs": [
    {
     "data": {
      "text/plain": [
       "'failure'"
      ]
     },
     "execution_count": 95,
     "metadata": {},
     "output_type": "execute_result"
    }
   ],
   "source": [
    "def iterativeDeepeningSearch(startState, goalState, actionsF, takeActionF, maxDepth):\n",
    "    path= 'cutoff'\n",
    "    p=[]\n",
    "    resultFound='false'\n",
    "    for x in range(maxDepth+1):\n",
    "        p= depthLimitedSearch(startState, goalState, actionsF, takeActionF, x)\n",
    "        \n",
    "        if p!='cutoff':\n",
    "            return p\n",
    "        \n",
    "    if p=='cutoff':\n",
    "        return 'cutoff'\n",
    "    if p=='failure':\n",
    "        return 'failure'\n",
    "                \n",
    "iterativeDeepeningSearch('a', 'k', actionsF, takeActionF, 10)\n",
    "\n",
    "\n",
    "        "
   ]
  },
  {
   "cell_type": "code",
   "execution_count": 90,
   "metadata": {
    "collapsed": true
   },
   "outputs": [],
   "source": [
    "def depthLimitedSearch(startState , goalState, actionsF, takeActionF,depthLimit):\n",
    "    expanded={}\n",
    "    unexpanded= [(startState,\"None\")]\n",
    "    solutionPath=[]\n",
    "    existingChildren=[]\n",
    "    depth=0\n",
    "    needTuple=False\n",
    "    end='true'\n",
    "    #If startState is the goalState, return the list containing just startState\n",
    "    if startState==goalState:\n",
    "        return startState\n",
    "    else:\n",
    "        while unexpanded:\n",
    "            childrenAll=[]\n",
    "\n",
    "            #Pop from the end of unExpanded a (state, parent) pair.\n",
    "            stateNode= unexpanded.pop()\n",
    "            if(stateNode.state not in existingChildren):\n",
    "                existingChildren.append(state);\n",
    "            if(parent not in existingChildren):\n",
    "                existingChildren.append(parent);\n",
    "\n",
    "            #Add state: parent to the expanded dictionary\n",
    "            #Add the node to the expanded dictionary, indexed by its state.\n",
    "            if isinstance(state, list):\n",
    "                state= tuple(state)\n",
    "                needTuple=True\n",
    "            expanded[state]=parent\n",
    "            \n",
    "            #check if depth limit has been reached\n",
    "            searchParent=parent\n",
    "            predecesor='true'\n",
    "            steps=0\n",
    "            while predecesor=='true':\n",
    "                if searchParent in expanded.keys():\n",
    "                    steps=steps+1\n",
    "                    searchParent=expanded[searchParent]              \n",
    "                else:\n",
    "                    predecesor='false'\n",
    "            children=[]\n",
    "            \n",
    "            \n",
    "            if steps < depthLimit:\n",
    "                #generates posible actions\n",
    "                listActions=actionsF(state)\n",
    "                #Generates successor depending on the posible moves  \n",
    "                for eachAction in listActions:\n",
    "                    #create new child\n",
    "                    stateChild,cost=takeActionF(stateNode.state,eachAction)\n",
    "                    ch=Node(state=stateChild)\n",
    "                    #Update the g, h, f values and set parent node.\n",
    "                    ch.g=stateNode.g+cost\n",
    "                    ch.h=hF(ch)\n",
    "                    ch.f=ch.g+ch.h\n",
    "                    ch.parent=stateNode\n",
    "                    children.append(ch)\n",
    "                \n",
    "                \n",
    "                for eachAction in listActions:\n",
    "                    c=takeActionF(state,eachAction)\n",
    "                    if c not in existingChildren:\n",
    "                        children.append(c)               \n",
    "                #reverse children list \n",
    "                children=list(reversed(children))\n",
    "                #insert children at the end of unexpanded list\n",
    "                for p in children:\n",
    "                    #state=list(state)\n",
    "                    unexpanded.append((p,state))\n",
    "            else:\n",
    "                 #generates posible actions\n",
    "                listActions=actionsF(state)\n",
    "                #Generates successor depending on the posible moves  \n",
    "                for eachAction in listActions:\n",
    "                    c=takeActionF(state,eachAction)\n",
    "                    if c not in existingChildren:\n",
    "                        children.append(c) \n",
    "                if len(children) > 0:\n",
    "                    end='false'\n",
    "                children=[]     \n",
    "     \n",
    "            #If the goal has been found (in python, goalState is in children):\n",
    "            if goalState in children:  \n",
    "                solutionPath.append(goalState)\n",
    "                solutionPath.append(state)\n",
    "                while parent in expanded.values():\n",
    "                    if parent==\"None\":\n",
    "                        break\n",
    "                    solutionPath.append(parent)\n",
    "                    parent=expanded[parent]\n",
    "                if  needTuple==True:\n",
    "                    newSolutionPath=[]\n",
    "                    for x in solutionPath:\n",
    "                        lst= list(x)\n",
    "                        newSolutionPath.append(lst)               \n",
    "                    solutionPath= newSolutionPath \n",
    "                return list(reversed(solutionPath)) \n",
    "        \n",
    "        if  end=='true':\n",
    "            return \"failure\"\n",
    "        else:\n",
    "            return \"cutoff\"\n",
    "        #return \"cutoff\"\n",
    "        "
   ]
  },
  {
   "cell_type": "code",
   "execution_count": 64,
   "metadata": {},
   "outputs": [],
   "source": [
    "def aStarSearch(st, actionsF, takeActionF, goalTestF, hF):\n",
    "    startState=Node(state=st)\n",
    "    expanded={}\n",
    "    #nitialize unExpanded to be a list containing the startState node. \n",
    "    #Its h value is calculated using hF, its g value is 0, and its f value is g+h.\n",
    "    startState.h=hF(startState)\n",
    "    startState.g=0\n",
    "    startState.f=startState.h+startState.g\n",
    "    startState.parent=Node('None')\n",
    "    unexpanded= [startState]\n",
    "    solutionPath=[]\n",
    "    existingChildren=[]\n",
    "    depth=0\n",
    "    needTuple=False\n",
    "    end= True\n",
    "    children=[]\n",
    "    needTuple=False\n",
    "    #global nNodes=0\n",
    "    #If startState is the goalState, return the list containing just startState\n",
    "    if goalTestF(startState.state)==True:\n",
    "        return startState.state\n",
    "    else:\n",
    "        \n",
    "        while unexpanded:\n",
    "            #Pop from the front of unExpanded to get the best (lowest f value) node to expand.\n",
    "            stateNode= unexpanded.pop(0)  \n",
    "            #Generate the children of state node.\n",
    "            listActions=actionsF(stateNode.state)\n",
    "            #Generates successor depending on the posible moves  \n",
    "            for eachAction in listActions:\n",
    "                #create new child\n",
    "                stateChild,cost=takeActionF(stateNode.state,eachAction)\n",
    "                ch=Node(state=stateChild)\n",
    "                #Update the g, h, f values and set parent node.\n",
    "                ch.g=stateNode.g+cost\n",
    "                ch.h=hF(ch)\n",
    "                ch.f=ch.g+ch.h\n",
    "                ch.parent=stateNode\n",
    "                children.append(ch)\n",
    "                \n",
    "            \n",
    "            #Add the node to the expanded dictionary, indexed by its state.\n",
    "            if isinstance(stateNode.state, list):\n",
    "                expanded[tuple(stateNode.state)]=stateNode\n",
    "            else:\n",
    "                 expanded[stateNode.state]=stateNode\n",
    "            \n",
    "            #Remove from children any nodes that are already either in expanded or \n",
    "            #unExpanded, unless the node in children has a lower f value.\n",
    "            unExistingChildren=[]      \n",
    "            for checkChildren in children:\n",
    "                checkChildrenState=checkChildren.state\n",
    "                presentInExpanded=False\n",
    "                hasLowerValueExpanded=False\n",
    "                presentInUnexpanded=False\n",
    "                hasLowerValueUnexpanded=False\n",
    "                for stateExpanded in expanded.keys():\n",
    "                    if expanded[stateExpanded].state==checkChildrenState:\n",
    "                        presentInExpanded=True\n",
    "                        if expanded[stateExpanded].f > checkChildren.f:\n",
    "                            hasLowerValueExpanded=True\n",
    "                \n",
    "                            \n",
    "                for stateUnexpanded in unexpanded:\n",
    "                    if stateUnexpanded.state==checkChildrenState:\n",
    "                        presentInUnexpanded=True\n",
    "                        if stateUnexpanded.f > checkChildren.f:\n",
    "                            hasLowerValueUnexpanded=True        \n",
    "                        \n",
    "                if presentInExpanded==False and presentInUnexpanded==False:\n",
    "                    unExistingChildren.append(checkChildren)\n",
    "                else:\n",
    "                    if presentInExpanded and hasLowerValueExpanded: \n",
    "                        unExistingChildren.append(checkChildren)\n",
    "                        #remove duplicate item from expanded dictionary\n",
    "                        expanded.pop(checkChildrenState)\n",
    "                    if presentInUnexpanded and hasLowerValueUnexpanded:\n",
    "                        unExistingChildren.append(checkChildren)\n",
    "                        #remove duplicate item from unExpanded list\n",
    "                        notDuplicatedUnexpanded=[]\n",
    "                        for unExistingChildrenNode in unExistingChildren:  \n",
    "                            unexitingState=unExistingChildrenNode.state\n",
    "                            present=False\n",
    "                            for stateUnexpanded in unexpanded:\n",
    "                                if stateUnexpanded.state==unexitingState:\n",
    "                                    present=True\n",
    "                            if present==False:\n",
    "                                notDuplicatedUnexpanded.append(stateUnexpanded)\n",
    "                        #create unExpanded list againg only with no duplicate items\n",
    "                        unexpanded=[]\n",
    "                        for notDuplicatedUnexpandedNode in notDuplicatedUnexpanded:\n",
    "                            unexpanded.append(notDuplicatedUnexpandedNode)                \n",
    "                                \n",
    "            children=[]\n",
    "            for unExistingChildrenNode in unExistingChildren:\n",
    "                children.append(unExistingChildrenNode)\n",
    "            \n",
    "            \n",
    "            \n",
    "            \n",
    "            solutionPath=[]\n",
    "            #If goalState is in children:\n",
    "            \n",
    "            for ch in children:\n",
    "                \n",
    "                if goalTestF(ch.state)==True:\n",
    "                  \n",
    "                    #Build the solution path as a list starting with goalState.\n",
    "                    solutionPath.append(ch.state)\n",
    "                    #Use the parent stored with each node in the expanded dictionary to construct the path.\n",
    "                    parentE=ch.parent.state\n",
    "                    \n",
    "                    if isinstance(parentE, list):\n",
    "                        parentE=tuple(parentE)\n",
    "                        needTuple=True\n",
    "        \n",
    "                    while parentE in expanded.keys():                        \n",
    "                        solutionPath.append(parentE)\n",
    "                        parentE=expanded[parentE].parent.state\n",
    "                        if isinstance(parentE, list):\n",
    "                            parentE=tuple(parentE)  \n",
    "                    \n",
    "                    #get depth          \n",
    "                    searchParent=ch.parent.state\n",
    "                    predecesor=True\n",
    "                    steps=0\n",
    "                    while predecesor==True:\n",
    "                        if searchParent in expanded.keys():\n",
    "                            steps=steps+1\n",
    "                            searchParent=expanded[searchParent].parent.state              \n",
    "                        else:\n",
    "                            predecesor=False\n",
    "                    \n",
    "                    #compute EBF and return it in the solution path\n",
    "                    \n",
    "                    \n",
    "                    #convert list \n",
    "                    if  needTuple==True:\n",
    "                        newSolutionPath=[]\n",
    "                        for x in solutionPath:\n",
    "                            lst= list(x)\n",
    "                            newSolutionPath.append(lst)               \n",
    "                        solutionPath= newSolutionPath \n",
    "                    \n",
    "                    return list(reversed(solutionPath)),3 \n",
    "    \n",
    "            #Insert the modified children list into the unExpanded list and sort by f values.\n",
    "            for ch in children:\n",
    "                unexpanded.append(ch)\n",
    "            \n",
    "            #sort list of unexpanded values by its f value          \n",
    "            unexpanded.sort(key=lambda p: p.f)\n",
    "        return 'cutoff'\n",
    "\n",
    "            \n",
    "\n",
    "       \n",
    "            \n",
    "            "
   ]
  },
  {
   "cell_type": "code",
   "execution_count": 65,
   "metadata": {},
   "outputs": [
    {
     "data": {
      "text/plain": [
       "1.2359999999999747"
      ]
     },
     "execution_count": 65,
     "metadata": {},
     "output_type": "execute_result"
    }
   ],
   "source": [
    "def ebf(nodes, depth, precision=0.001):\n",
    "    result=0\n",
    "    d=depth\n",
    "    b=0\n",
    "    while (nodes-result) > precision:\n",
    "        result=(1-b**(d+1))/(1-b)\n",
    "        b+=precision\n",
    "        \n",
    "    return b\n",
    "ebf(200000, 50)\n"
   ]
  },
  {
   "cell_type": "code",
   "execution_count": 66,
   "metadata": {
    "collapsed": true
   },
   "outputs": [],
   "source": [
    "def h1_8p(state, goal):\n",
    "    return 0"
   ]
  },
  {
   "cell_type": "markdown",
   "metadata": {
    "collapsed": true
   },
   "source": [
    "Hola a todos costa ricaaaaa"
   ]
  },
  {
   "cell_type": "code",
   "execution_count": null,
   "metadata": {
    "collapsed": true
   },
   "outputs": [],
   "source": []
  },
  {
   "cell_type": "code",
   "execution_count": 67,
   "metadata": {
    "collapsed": true
   },
   "outputs": [],
   "source": [
    "import copy\n",
    "def actionsF(state):\n",
    "    return  copy.copy(succs.get(state, []))"
   ]
  },
  {
   "cell_type": "code",
   "execution_count": 93,
   "metadata": {},
   "outputs": [
    {
     "data": {
      "text/plain": [
       "{'a': ['b', 'c'],\n",
       " 'b': ['a'],\n",
       " 'c': ['h'],\n",
       " 'h': ['i'],\n",
       " 'i': ['j', 'k', 'l'],\n",
       " 'k': ['z']}"
      ]
     },
     "execution_count": 93,
     "metadata": {},
     "output_type": "execute_result"
    }
   ],
   "source": [
    "#dictionary of successors\n",
    "successors = {'a': ['b', 'c'], 'b':['e', 'f', 'g'], 'b':['a'], 'c':['h'], 'h':['i'], 'i':['j', 'k', 'l'], 'k':['z']}\n",
    "\n",
    "successors"
   ]
  },
  {
   "cell_type": "code",
   "execution_count": 69,
   "metadata": {},
   "outputs": [
    {
     "data": {
      "text/plain": [
       "[('b', 1), ('c', 1)]"
      ]
     },
     "execution_count": 69,
     "metadata": {},
     "output_type": "execute_result"
    }
   ],
   "source": [
    "#return valid actions paired with the single step cost\n",
    "def actionsF(s):                              #       \\ \n",
    "        try:                                      #        j\n",
    "            ## step cost of each action is 1\n",
    "            return [(succ,1) for succ in successors[s]]\n",
    "        except KeyError:\n",
    "            return []    \n",
    "actionsF('a')"
   ]
  },
  {
   "cell_type": "code",
   "execution_count": 70,
   "metadata": {},
   "outputs": [
    {
     "data": {
      "text/plain": [
       "('b', 1)"
      ]
     },
     "execution_count": 70,
     "metadata": {},
     "output_type": "execute_result"
    }
   ],
   "source": [
    "#return the pair containing the new state and the path cost so far from the start state to the new state \n",
    "def takeActionF(s,a):\n",
    "        return a\n",
    "takeActionF('a',('b', 1))"
   ]
  },
  {
   "cell_type": "code",
   "execution_count": 71,
   "metadata": {
    "collapsed": true
   },
   "outputs": [],
   "source": [
    "\n",
    "def goalTestF(s,goal):\n",
    "    return s == goal\n"
   ]
  },
  {
   "cell_type": "code",
   "execution_count": 72,
   "metadata": {
    "collapsed": true
   },
   "outputs": [],
   "source": [
    "def hF(s):\n",
    "    return 0"
   ]
  },
  {
   "cell_type": "code",
   "execution_count": 73,
   "metadata": {
    "collapsed": true
   },
   "outputs": [],
   "source": [
    "class Node:\n",
    "    def __init__(self, state,f=0, g=0 ,h=0):\n",
    "        self.state = state\n",
    "        self.f = f\n",
    "        self.g = g\n",
    "        self.h = h  \n",
    "        self.parent=Node\n",
    "    def __repr__(self):\n",
    "        return \"Node(\" + repr(self.state) + \", f=\" + repr(self.f) + \\\n",
    "               \", g=\" + repr(self.g) + \", h=\" + repr(self.h) + \")\""
   ]
  },
  {
   "cell_type": "code",
   "execution_count": 74,
   "metadata": {
    "collapsed": true
   },
   "outputs": [],
   "source": [
    "def iterativeDeepeningSearch(startState, goalState, actionsF, takeActionF, maxDepth):\n",
    "    path= 'cutoff'\n",
    "    p=[]\n",
    "    resultFound='false'\n",
    "    for x in range(maxDepth+1):\n",
    "        p=aStarSearch(startState,actionsF, takeActionF,\n",
    "            lambda s: goalTestF(s, goalState),\n",
    "                     hF)\n",
    "        \n",
    "        \n",
    "        if p!='cutoff':\n",
    "            return p\n",
    "        \n",
    "    if p=='cutoff':\n",
    "        return 'cutoff'\n",
    "    if p=='failure':\n",
    "        return 'failure'\n",
    "                \n",
    "        "
   ]
  },
  {
   "cell_type": "code",
   "execution_count": 75,
   "metadata": {},
   "outputs": [
    {
     "data": {
      "text/plain": [
       "(['a', 'c', 'h', 'i', 'k'], 3)"
      ]
     },
     "execution_count": 75,
     "metadata": {},
     "output_type": "execute_result"
    }
   ],
   "source": [
    "iterativeDeepeningSearch('a', 'k', actionsF, takeActionF, 10)"
   ]
  },
  {
   "cell_type": "code",
   "execution_count": 76,
   "metadata": {},
   "outputs": [
    {
     "data": {
      "text/plain": [
       "(['a', 'c', 'h', 'i', 'k', 'z'], 3)"
      ]
     },
     "execution_count": 76,
     "metadata": {},
     "output_type": "execute_result"
    }
   ],
   "source": [
    "def test():\n",
    "    return aStarSearch('a', actionsF, takeActionF,\n",
    "                     lambda s: goalTestF(s, 'z'),hF)\n",
    "        \n",
    "\n",
    "    \n",
    "test()"
   ]
  },
  {
   "cell_type": "markdown",
   "metadata": {},
   "source": [
    "# 8-Puzzle"
   ]
  },
  {
   "cell_type": "code",
   "execution_count": 77,
   "metadata": {
    "collapsed": true
   },
   "outputs": [],
   "source": [
    "def printPath_8p(startState):\n",
    "    length= len(startState)\n",
    "    dim=0\n",
    "    for c in range(length):\n",
    "        counter=c**2\n",
    "        if counter==length: \n",
    "            dim=c              \n",
    "    for i in range(dim):\n",
    "        for j in range(dim):\n",
    "             print(startState[i*dim+j]), \n",
    "        print ''\n"
   ]
  },
  {
   "cell_type": "code",
   "execution_count": 78,
   "metadata": {
    "collapsed": true
   },
   "outputs": [],
   "source": [
    "def findBlank_8p(startState):\n",
    "    blankPosition=[]\n",
    "    length= len(startState)\n",
    "    dim= 0\n",
    "    for c in range(length):\n",
    "        counter=c**2\n",
    "        if counter==length: \n",
    "            dim=c \n",
    "    if 0 in startState:\n",
    "       \n",
    "        for row in range(dim):          \n",
    "             for column in range(dim): \n",
    "                    if startState[row*dim+column]==0:\n",
    "                        blankPosition.append(row)\n",
    "                        blankPosition.append(column)\n",
    "                        \n",
    "    return blankPosition\n",
    "\n"
   ]
  },
  {
   "cell_type": "code",
   "execution_count": 79,
   "metadata": {
    "collapsed": true
   },
   "outputs": [],
   "source": [
    "def actionsF_8p(startState):\n",
    "   \n",
    "    action=[]\n",
    "    \n",
    "    #gets puzzle demension\n",
    "    dim=0\n",
    "    length= len(startState)\n",
    "    for c in range(length):\n",
    "        counter=c**2\n",
    "        if counter==length: \n",
    "            dim=c  \n",
    "    \n",
    "    blankPosition=findBlank_8p(startState)\n",
    "    row=blankPosition[0]\n",
    "    column=blankPosition[1]\n",
    "    blankPosition=row*dim+column\n",
    "   \n",
    "    #check if there is blank position\n",
    "    if blankPosition !=-1:\n",
    "        action=['left', 'right', 'up', 'down']\n",
    "      \n",
    "\n",
    "        #check left border\n",
    "        for row in range(dim):\n",
    "                if blankPosition in [row*dim]:\n",
    "                        action.remove('left')\n",
    "                        \n",
    "        #check right border\n",
    "        for row in range(dim):\n",
    "            if blankPosition in [(row*dim)+(dim-1)]:\n",
    "                     action.remove('right')\n",
    "        \n",
    "        #check top border\n",
    "        if blankPosition -dim <0:\n",
    "            action.remove('up')\n",
    "            \n",
    "        #check bottom border\n",
    "        if blankPosition +dim >=len(startState):\n",
    "            action.remove(\"down\")        \n",
    "    \n",
    "    actionCost=[]\n",
    "    for ac in action:\n",
    "        actionCost.append((ac,1))\n",
    "    return actionCost"
   ]
  },
  {
   "cell_type": "code",
   "execution_count": 80,
   "metadata": {},
   "outputs": [
    {
     "name": "stdout",
     "output_type": "stream",
     "text": [
      "c\n"
     ]
    }
   ],
   "source": [
    "startState=[1, 0, 3, 5, 4, 2, 6, 7, 8]\n",
    "if isinstance(startState, list):\n",
    "    print 'c'\n",
    "\n",
    "#actionsF_8p(startState)"
   ]
  },
  {
   "cell_type": "code",
   "execution_count": 81,
   "metadata": {
    "collapsed": true
   },
   "outputs": [],
   "source": [
    "def takeActionF_8p(startState, act):\n",
    "\n",
    "    newState=[]\n",
    "    invalidLeft='false'\n",
    "    invalidRight='false'\n",
    "    invalidDown='false'\n",
    "    invalidUp='false'\n",
    "    #gets puzzle demension\n",
    "    dim=0\n",
    "    length= len(startState)\n",
    "    for c in range(length):\n",
    "        counter=c**2\n",
    "        if counter==length: \n",
    "            dim=c  \n",
    "    \n",
    "    blankPosition=findBlank_8p(startState)\n",
    "    row=blankPosition[0]\n",
    "    column=blankPosition[1]\n",
    "    blankPosition=row*dim+column\n",
    "    \n",
    "    \n",
    "    #check left border\n",
    "    for r in range(dim):\n",
    "        if blankPosition in [r*dim]:\n",
    "            invalidLeft='true'\n",
    "                   \n",
    "\n",
    "    #check right border\n",
    "    for row in range(dim):\n",
    "        if blankPosition in [(r*dim)+(dim-1)]:\n",
    "            invalidRight='true'\n",
    "\n",
    "    #check top border\n",
    "    if blankPosition -dim <0:\n",
    "         invalidUp='true'\n",
    "\n",
    "    #check bottom border\n",
    "    if blankPosition +dim >=len(startState):\n",
    "        invalidDown='true'  \n",
    "    \n",
    "    action=act[0]\n",
    "    pos=0\n",
    "    for x in startState:\n",
    "        newState.append(x)\n",
    "    if action=='left' and invalidLeft=='false':\n",
    "        pos=blankPosition\n",
    "        pos=pos-1\n",
    "        newState[blankPosition]=startState[pos]\n",
    "        newState[pos]=0\n",
    "    if action=='right'and invalidRight=='false':\n",
    "        pos=blankPosition\n",
    "        pos=pos+1\n",
    "        newState[blankPosition]=startState[pos]\n",
    "        newState[pos]=0\n",
    "    if action=='up' and invalidUp=='false':\n",
    "        pos=blankPosition\n",
    "        pos=pos-dim\n",
    "        newState[blankPosition]=startState[pos]\n",
    "        newState[pos]=0\n",
    "    if action=='down' and invalidDown=='false':\n",
    "        pos=blankPosition\n",
    "        pos=pos+dim      \n",
    "        newState[blankPosition]=startState[pos]\n",
    "        newState[pos]=0\n",
    "      \n",
    "    return (newState,act[1])\n"
   ]
  },
  {
   "cell_type": "code",
   "execution_count": 82,
   "metadata": {
    "collapsed": true
   },
   "outputs": [],
   "source": [
    "\n",
    "def goalTestF_8p(s,goal):\n",
    "    return s == goal\n"
   ]
  },
  {
   "cell_type": "code",
   "execution_count": 83,
   "metadata": {},
   "outputs": [
    {
     "data": {
      "text/plain": [
       "([0, 1, 3, 5, 4, 2, 6, 7, 8], 1)"
      ]
     },
     "execution_count": 83,
     "metadata": {},
     "output_type": "execute_result"
    }
   ],
   "source": [
    "startState=[1, 0, 3, 5, 4, 2, 6, 7, 8]\n",
    "takeActionF_8p(startState, ('left', 1))"
   ]
  },
  {
   "cell_type": "code",
   "execution_count": 84,
   "metadata": {},
   "outputs": [
    {
     "data": {
      "text/plain": [
       "([[1, 2, 3, 4, 5, 6, 7, 0, 8],\n",
       "  [1, 2, 3, 4, 0, 6, 7, 5, 8],\n",
       "  [1, 2, 3, 0, 4, 6, 7, 5, 8],\n",
       "  [0, 2, 3, 1, 4, 6, 7, 5, 8]],\n",
       " 3)"
      ]
     },
     "execution_count": 84,
     "metadata": {},
     "output_type": "execute_result"
    }
   ],
   "source": [
    "\n",
    "aStarSearch([1, 2, 3, 4, 5, 6, 7, 0, 8],actionsF_8p, takeActionF_8p,\n",
    "                     lambda s: goalTestF_8p(s, [0, 2, 3, 1, 4,  6, 7, 5, 8]),\n",
    "                     hF)"
   ]
  },
  {
   "cell_type": "code",
   "execution_count": 85,
   "metadata": {
    "collapsed": true
   },
   "outputs": [],
   "source": [
    "# from A3mysolution import *"
   ]
  },
  {
   "cell_type": "code",
   "execution_count": 86,
   "metadata": {},
   "outputs": [
    {
     "name": "stdout",
     "output_type": "stream",
     "text": [
      "CRITICAL ERROR: Function named 'runExperiment' is not defined\n",
      "  Check the spelling and capitalization of the function name.\n",
      "\n",
      "Testing actionsF_8p([1, 2, 3, 4, 5, 6, 7, 0, 8])\n",
      "('\\n--- 5/5 points. Your actionsF_8p correctly returned', [('left', 1), ('right', 1), ('up', 1)])\n",
      "\n",
      "Testing takeActionF_8p([1, 2, 3, 4, 5, 6, 7, 0, 8], (up, 1))\n",
      "('\\n--- 5/5 points. Your takeActionsF_8p correctly returned', ([1, 2, 3, 4, 0, 6, 7, 5, 8], 1))\n",
      "\n",
      "Testing goalTestF_8p([1, 2, 3, 4, 5, 6, 7, 0, 8], [1, 2, 3, 4, 5, 6, 7, 0, 8])\n",
      "\n",
      "--- 5/5 points. Your goalTestF_8p correctly True\n",
      "\n",
      "Testing aStarSearch([1, 2, 3, 4, 5, 6, 7, 0, 8],\n",
      "                     actionsF_8p, takeActionF_8p,\n",
      "                     lambda s: goalTestF_8p(s, [0, 2, 3, 1, 4,  6, 7, 5, 8]),\n",
      "                     lambda s: h1_8p(s, [0, 2, 3, 1, 4,  6, 7, 5, 8]))\n",
      "('\\n--- 20/20 points. Your search correctly returned', ([[1, 2, 3, 4, 5, 6, 7, 0, 8], [1, 2, 3, 4, 0, 6, 7, 5, 8], [1, 2, 3, 0, 4, 6, 7, 5, 8], [0, 2, 3, 1, 4, 6, 7, 5, 8]], 3))\n",
      "\n",
      "Testing iterativeDeepeningSearch([5, 2, 8, 0, 1, 4, 3, 7, 6], \n",
      "                                 [0, 2, 3, 1, 4,  6, 7, 5, 8],\n",
      "                                 actionsF_8p, takeActionF_8p, 10)\n"
     ]
    },
    {
     "ename": "KeyboardInterrupt",
     "evalue": "",
     "output_type": "error",
     "traceback": [
      "\u001b[0;31m---------------------------------------------------------------------------\u001b[0m",
      "\u001b[0;31mKeyboardInterrupt\u001b[0m                         Traceback (most recent call last)",
      "\u001b[0;32m/home/rebeca/Desktop/GitHub/AI/A3grader.py\u001b[0m in \u001b[0;36m<module>\u001b[0;34m()\u001b[0m\n\u001b[1;32m     70\u001b[0m \u001b[0;32mprint\u001b[0m\u001b[0;34m(\u001b[0m\u001b[0;34m'                                 [0, 2, 3, 1, 4,  6, 7, 5, 8],'\u001b[0m\u001b[0;34m)\u001b[0m\u001b[0;34m\u001b[0m\u001b[0m\n\u001b[1;32m     71\u001b[0m \u001b[0;32mprint\u001b[0m\u001b[0;34m(\u001b[0m\u001b[0;34m'                                 actionsF_8p, takeActionF_8p, 10)'\u001b[0m\u001b[0;34m)\u001b[0m\u001b[0;34m\u001b[0m\u001b[0m\n\u001b[0;32m---> 72\u001b[0;31m \u001b[0mpath\u001b[0m \u001b[0;34m=\u001b[0m \u001b[0miterativeDeepeningSearch\u001b[0m\u001b[0;34m(\u001b[0m\u001b[0;34m[\u001b[0m\u001b[0;36m5\u001b[0m\u001b[0;34m,\u001b[0m \u001b[0;36m2\u001b[0m\u001b[0;34m,\u001b[0m \u001b[0;36m8\u001b[0m\u001b[0;34m,\u001b[0m \u001b[0;36m0\u001b[0m\u001b[0;34m,\u001b[0m \u001b[0;36m1\u001b[0m\u001b[0;34m,\u001b[0m \u001b[0;36m4\u001b[0m\u001b[0;34m,\u001b[0m \u001b[0;36m3\u001b[0m\u001b[0;34m,\u001b[0m \u001b[0;36m7\u001b[0m\u001b[0;34m,\u001b[0m \u001b[0;36m6\u001b[0m\u001b[0;34m]\u001b[0m\u001b[0;34m,\u001b[0m\u001b[0;34m[\u001b[0m\u001b[0;36m0\u001b[0m\u001b[0;34m,\u001b[0m \u001b[0;36m2\u001b[0m\u001b[0;34m,\u001b[0m \u001b[0;36m3\u001b[0m\u001b[0;34m,\u001b[0m \u001b[0;36m1\u001b[0m\u001b[0;34m,\u001b[0m \u001b[0;36m4\u001b[0m\u001b[0;34m,\u001b[0m  \u001b[0;36m6\u001b[0m\u001b[0;34m,\u001b[0m \u001b[0;36m7\u001b[0m\u001b[0;34m,\u001b[0m \u001b[0;36m5\u001b[0m\u001b[0;34m,\u001b[0m \u001b[0;36m8\u001b[0m\u001b[0;34m]\u001b[0m\u001b[0;34m,\u001b[0m \u001b[0mactionsF_8p\u001b[0m\u001b[0;34m,\u001b[0m \u001b[0mtakeActionF_8p\u001b[0m\u001b[0;34m,\u001b[0m \u001b[0;36m10\u001b[0m\u001b[0;34m)\u001b[0m\u001b[0;34m\u001b[0m\u001b[0m\n\u001b[0m\u001b[1;32m     73\u001b[0m \u001b[0;32mif\u001b[0m \u001b[0mtype\u001b[0m\u001b[0;34m(\u001b[0m\u001b[0mpath\u001b[0m\u001b[0;34m)\u001b[0m \u001b[0;34m==\u001b[0m \u001b[0mstr\u001b[0m \u001b[0;32mand\u001b[0m \u001b[0mpath\u001b[0m\u001b[0;34m.\u001b[0m\u001b[0mlower\u001b[0m\u001b[0;34m(\u001b[0m\u001b[0;34m)\u001b[0m \u001b[0;34m==\u001b[0m \u001b[0;34m'cutoff'\u001b[0m\u001b[0;34m:\u001b[0m\u001b[0;34m\u001b[0m\u001b[0m\n\u001b[1;32m     74\u001b[0m     \u001b[0mg\u001b[0m \u001b[0;34m+=\u001b[0m \u001b[0;36m15\u001b[0m\u001b[0;34m\u001b[0m\u001b[0m\n",
      "\u001b[0;32m<ipython-input-74-3d54b93917bc>\u001b[0m in \u001b[0;36miterativeDeepeningSearch\u001b[0;34m(startState, goalState, actionsF, takeActionF, maxDepth)\u001b[0m\n\u001b[1;32m      6\u001b[0m         p=aStarSearch(startState,actionsF, takeActionF,\n\u001b[1;32m      7\u001b[0m             \u001b[0;32mlambda\u001b[0m \u001b[0ms\u001b[0m\u001b[0;34m:\u001b[0m \u001b[0mgoalTestF\u001b[0m\u001b[0;34m(\u001b[0m\u001b[0ms\u001b[0m\u001b[0;34m,\u001b[0m \u001b[0mgoalState\u001b[0m\u001b[0;34m)\u001b[0m\u001b[0;34m,\u001b[0m\u001b[0;34m\u001b[0m\u001b[0m\n\u001b[0;32m----> 8\u001b[0;31m                      hF)\n\u001b[0m\u001b[1;32m      9\u001b[0m \u001b[0;34m\u001b[0m\u001b[0m\n\u001b[1;32m     10\u001b[0m \u001b[0;34m\u001b[0m\u001b[0m\n",
      "\u001b[0;32m<ipython-input-64-46fb68e0e4b9>\u001b[0m in \u001b[0;36maStarSearch\u001b[0;34m(st, actionsF, takeActionF, goalTestF, hF)\u001b[0m\n\u001b[1;32m     56\u001b[0m                 \u001b[0mhasLowerValueUnexpanded\u001b[0m\u001b[0;34m=\u001b[0m\u001b[0mFalse\u001b[0m\u001b[0;34m\u001b[0m\u001b[0m\n\u001b[1;32m     57\u001b[0m                 \u001b[0;32mfor\u001b[0m \u001b[0mstateExpanded\u001b[0m \u001b[0;32min\u001b[0m \u001b[0mexpanded\u001b[0m\u001b[0;34m.\u001b[0m\u001b[0mkeys\u001b[0m\u001b[0;34m(\u001b[0m\u001b[0;34m)\u001b[0m\u001b[0;34m:\u001b[0m\u001b[0;34m\u001b[0m\u001b[0m\n\u001b[0;32m---> 58\u001b[0;31m                     \u001b[0;32mif\u001b[0m \u001b[0mexpanded\u001b[0m\u001b[0;34m[\u001b[0m\u001b[0mstateExpanded\u001b[0m\u001b[0;34m]\u001b[0m\u001b[0;34m.\u001b[0m\u001b[0mstate\u001b[0m\u001b[0;34m==\u001b[0m\u001b[0mcheckChildrenState\u001b[0m\u001b[0;34m:\u001b[0m\u001b[0;34m\u001b[0m\u001b[0m\n\u001b[0m\u001b[1;32m     59\u001b[0m                         \u001b[0mpresentInExpanded\u001b[0m\u001b[0;34m=\u001b[0m\u001b[0mTrue\u001b[0m\u001b[0;34m\u001b[0m\u001b[0m\n\u001b[1;32m     60\u001b[0m                         \u001b[0;32mif\u001b[0m \u001b[0mexpanded\u001b[0m\u001b[0;34m[\u001b[0m\u001b[0mstateExpanded\u001b[0m\u001b[0;34m]\u001b[0m\u001b[0;34m.\u001b[0m\u001b[0mf\u001b[0m \u001b[0;34m>\u001b[0m \u001b[0mcheckChildren\u001b[0m\u001b[0;34m.\u001b[0m\u001b[0mf\u001b[0m\u001b[0;34m:\u001b[0m\u001b[0;34m\u001b[0m\u001b[0m\n",
      "\u001b[0;31mKeyboardInterrupt\u001b[0m: "
     ]
    }
   ],
   "source": [
    "%run -i A3grader.py"
   ]
  }
 ],
 "metadata": {
  "anaconda-cloud": {},
  "kernelspec": {
   "display_name": "Python 2",
   "language": "python",
   "name": "python2"
  },
  "language_info": {
   "codemirror_mode": {
    "name": "ipython",
    "version": 2
   },
   "file_extension": ".py",
   "mimetype": "text/x-python",
   "name": "python",
   "nbconvert_exporter": "python",
   "pygments_lexer": "ipython2",
   "version": "2.7.12"
  }
 },
 "nbformat": 4,
 "nbformat_minor": 1
}
