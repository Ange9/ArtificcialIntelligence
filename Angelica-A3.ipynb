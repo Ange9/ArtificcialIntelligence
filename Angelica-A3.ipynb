{
 "cells": [
  {
   "cell_type": "markdown",
   "metadata": {},
   "source": [
    "# A3: A\\*, IDS, and Effective Branching Factor"
   ]
  },
  {
   "cell_type": "markdown",
   "metadata": {},
   "source": [
    "For this assignment, implement the Recursive Best-First Search\n",
    "implementation of the A\\* algorithm given in class.  Name this function `aStarSearch`.  Also in this notebook include your `iterativeDeepeningSearch` functions.  Define a new function named `ebf` that returns an estimate of the effective\n",
    "branching factor for a search algorithm applied to a search problem.\n",
    "\n",
    "So, the required functions are\n",
    "\n",
    "   - `aStarSearch(startState, actionsF, takeActionF, goalTestF, hF)`\n",
    "   - `iterativeDeepeningSearch(startState, goalState, actionsF, takeActionF, maxDepth)`\n",
    "   - `ebf(nNodes, depth)`, returns number of nodes expanded and depth reached during a search.\n",
    "\n",
    "Apply `iterativeDeepeningSearch` and `aStarSearch` to several eight-tile sliding puzzle\n",
    "problems. Compare their results by displayng\n",
    "solution path depth, number of nodes \n",
    "generated, and the effective branching factor, and discuss the results.  Do this by defining the following function that prints the table as shown in the example below.\n",
    "\n",
    "   - 'runExperiment(goalState1, goalState2, goalState3, [h1, h2, h3])"
   ]
  },
  {
   "cell_type": "markdown",
   "metadata": {},
   "source": [
    "## Heuristic Functions\n",
    "\n",
    "For `aStarSearch` use the following two heuristic functions, plus one more of your own design, for a total of three heuristic functions.\n",
    "\n",
    "  * `h1(state, goal)`: $h(state, goal) = 0$, for all states $state$ and all goal states $goal$,\n",
    "  * `h2(state, goal)`: $h(state, goal) = m$, where $m$ is the Manhattan distance that the blank is from its goal position,\n",
    "  * `h3(state, goal)`: $h(state, goal) = ?$, that you define.  It must be admissible, and not constant for all states."
   ]
  },
  {
   "cell_type": "markdown",
   "metadata": {},
   "source": [
    "## Comparison"
   ]
  },
  {
   "cell_type": "markdown",
   "metadata": {},
   "source": [
    "Apply all four algorithms (`iterativeDeepeningSearch` plus `aStarSearch` with the three heuristic\n",
    "functions) to three eight-tile puzzle problems with start state\n",
    "\n",
    "$$\n",
    "\\begin{array}{ccc}\n",
    "1 & 2 & 3\\\\\n",
    "4 & 0 & 5\\\\\n",
    "6 & 7 & 8\n",
    "\\end{array}\n",
    "$$\n",
    "\n",
    "and these three goal states.\n",
    "\n",
    "$$\n",
    "\\begin{array}{ccccccccccc}\n",
    "1 & 2 & 3  & ~~~~ & 1 & 2 & 3  &  ~~~~ & 1 & 0 &  3\\\\\n",
    "4 & 0 & 5  & & 4 & 5 & 8  & & 4 & 5 & 8\\\\\n",
    "6 & 7 & 8 &  & 6 & 0 & 7  & & 2 & 6 & 7\n",
    "\\end{array}\n",
    "$$"
   ]
  },
  {
   "cell_type": "markdown",
   "metadata": {},
   "source": [
    "Print a well-formatted table like the following.  Try to match this\n",
    "format. \n",
    "\n",
    "           [1, 2, 3, 4, 0, 5, 6, 7, 8]    [1, 2, 3, 4, 5, 8, 6, 0, 7]    [1, 0, 3, 4, 5, 8, 2, 6, 7] \n",
    "    Algorithm    Depth  Nodes  EBF              Depth  Nodes  EBF              Depth  Nodes  EBF          \n",
    "         IDS       0      0  0.000                3     43  3.086               11 225850  2.954         \n",
    "        A*h1       0      0  0.000                3    116  4.488               11 643246  3.263         \n",
    "        A*h2       0      0  0.000                3     51  3.297               11 100046  2.733         \n",
    "\n",
    "Of course you will have one more line for `h3`."
   ]
  },
  {
   "cell_type": "markdown",
   "metadata": {},
   "source": [
    "Download [A3grader.tar](http://www.cs.colostate.edu/~anderson/cs440/notebooks/A3grader.tar) and extract A3grader.py from it."
   ]
  },
  {
   "cell_type": "markdown",
   "metadata": {},
   "source": [
    "# IDS"
   ]
  },
  {
   "cell_type": "code",
   "execution_count": null,
   "metadata": {
    "collapsed": true
   },
   "outputs": [],
   "source": []
  },
  {
   "cell_type": "code",
   "execution_count": 1,
   "metadata": {
    "collapsed": true
   },
   "outputs": [],
   "source": [
    "class Node:\n",
    "    def __init__(self, state,f=0, g=0 ,h=0):\n",
    "        self.state = state\n",
    "        self.f = f\n",
    "        self.g = g\n",
    "        self.h = h  \n",
    "        self.parent=Node\n",
    "    def __repr__(self):\n",
    "        return \"Node(\" + repr(self.state) + \", f=\" + repr(self.f) + \\\n",
    "               \", g=\" + repr(self.g) + \", h=\" + repr(self.h) + \")\""
   ]
  },
  {
   "cell_type": "code",
   "execution_count": 111,
   "metadata": {},
   "outputs": [
    {
     "data": {
      "text/plain": [
       "1.0010000000000006"
      ]
     },
     "execution_count": 111,
     "metadata": {},
     "output_type": "execute_result"
    }
   ],
   "source": [
    "def ebf(nodes, depth, precision=0.001):\n",
    "    result=0\n",
    "    d=depth\n",
    "    b=0\n",
    "    while (nodes-result) > precision:\n",
    "        result=(1-b**(d+1))/(1-b)\n",
    "        b+=precision\n",
    "        \n",
    "    return b\n",
    "ebf( 2,1)\n"
   ]
  },
  {
   "cell_type": "code",
   "execution_count": 129,
   "metadata": {},
   "outputs": [],
   "source": [
    "#%%writefile aStarSearch.py\n",
    "# Recursive Best First Search (Figure 3.26, Russell and Norvig)\n",
    "#  Recursive Iterative Deepening form of A*, where depth is replaced by f(n)\n",
    "\n",
    "'''class Node:\n",
    "    def __init__(self, state, f=0, g=0 ,h=0):\n",
    "        self.state = state\n",
    "        self.f = f\n",
    "        self.g = g\n",
    "        self.h = h\n",
    "    def __repr__(self):\n",
    "        return \"Node(\" + repr(self.state) + \", f=\" + repr(self.f) + \\\n",
    "               \", g=\" + repr(self.g) + \", h=\" + repr(self.h) + \")\"'''\n",
    "\n",
    "def aStarSearch(startState, actionsF, takeActionF, goalTestF, hF):\n",
    "    global nNodes\n",
    "    global depth\n",
    "    nNodes=0\n",
    "    depth=0\n",
    "    ebfValue=0\n",
    "    h = hF(startState)\n",
    "    startNode = Node(state=startState, f=0+h, g=0, h=h)\n",
    "    a= aStarSearchHelper(startNode, actionsF, takeActionF, goalTestF, hF, float('inf'))\n",
    "    depth = len(a[0])-1\n",
    "    \n",
    "    return a#,ebfValue\n",
    "\n",
    "def aStarSearchHelper(parentNode, actionsF, takeActionF, goalTestF, hF, fmax):\n",
    "    global nNodes\n",
    "    if goalTestF(parentNode.state):\n",
    "        return ([parentNode.state], parentNode.g)\n",
    "    ## Construct list of children nodes with f, g, and h values\n",
    "    actions = actionsF(parentNode.state)\n",
    "    if not actions:\n",
    "        return (\"failure\", float('inf'))\n",
    "    children = []\n",
    "    for action in actions:\n",
    "        (childState,stepCost) = takeActionF(parentNode.state, action)\n",
    "        h = hF(childState)\n",
    "        g = parentNode.g + stepCost\n",
    "        f = max(h+g, parentNode.f)\n",
    "        childNode = Node(state=childState, f=f, g=g, h=h)\n",
    "        children.append(childNode)\n",
    "        nNodes+=1\n",
    "\n",
    "    while True:\n",
    "        # find best child\n",
    "        children.sort(key = lambda n: n.f) # sort by f value\n",
    "        bestChild = children[0]\n",
    "        if bestChild.f > fmax:\n",
    "            return (\"failure\",bestChild.f)\n",
    "        # next lowest f value\n",
    "        alternativef = children[1].f if len(children) > 1 else float('inf')\n",
    "        # expand best child, reassign its f value to be returned value\n",
    "        result,bestChild.f = aStarSearchHelper(bestChild, actionsF, takeActionF, goalTestF,\n",
    "                                            hF, min(fmax,alternativef))\n",
    "        if result is not \"failure\":               #        g\n",
    "            result.insert(0,parentNode.state)     #       / \n",
    "            return (result, bestChild.f)  \n",
    "            \n",
    "                                                  #      d\n",
    "                                                  #     / \\ \n",
    "\n"
   ]
  },
  {
   "cell_type": "code",
   "execution_count": 110,
   "metadata": {},
   "outputs": [
    {
     "name": "stdout",
     "output_type": "stream",
     "text": [
      "nodes 5232\n",
      "depth 11\n",
      "2.051\n"
     ]
    },
    {
     "data": {
      "text/plain": [
       "([[1, 2, 3, 4, 0, 5, 6, 7, 8],\n",
       "  [1, 0, 3, 4, 2, 5, 6, 7, 8],\n",
       "  [0, 1, 3, 4, 2, 5, 6, 7, 8],\n",
       "  [4, 1, 3, 0, 2, 5, 6, 7, 8],\n",
       "  [4, 1, 3, 2, 0, 5, 6, 7, 8],\n",
       "  [4, 1, 3, 2, 5, 0, 6, 7, 8],\n",
       "  [4, 1, 3, 2, 5, 8, 6, 7, 0],\n",
       "  [4, 1, 3, 2, 5, 8, 6, 0, 7],\n",
       "  [4, 1, 3, 2, 5, 8, 0, 6, 7],\n",
       "  [4, 1, 3, 0, 5, 8, 2, 6, 7],\n",
       "  [0, 1, 3, 4, 5, 8, 2, 6, 7],\n",
       "  [1, 0, 3, 4, 5, 8, 2, 6, 7]],\n",
       " 11)"
      ]
     },
     "execution_count": 110,
     "metadata": {},
     "output_type": "execute_result"
    }
   ],
   "source": [
    "aStarSearch([1, 2, 3, 4, 0, 5, 6, 7, 8],actionsF_8p, takeActionF_8p,\n",
    "                     lambda s: goalTestF_8p(s, [1, 0, 3, 4, 5, 8, 2, 6, 7]),\n",
    "    lambda s: h3_8p(s,[1, 0, 3, 4, 5, 8, 2, 6, 7]))\n",
    "\n"
   ]
  },
  {
   "cell_type": "code",
   "execution_count": 4,
   "metadata": {},
   "outputs": [],
   "source": [
    "\n",
    "successors = {'a': ['b','c'],                   \n",
    "                  'b': ['d','e'],                          \n",
    "                  'c': ['f'],                     \n",
    "                  'd': ['g', 'h'],                 \n",
    "                  'f': ['i','j']}                   \n",
    "def actionsF(s):                               \n",
    "    try:                                      \n",
    "        ## step cost of each action is 1\n",
    "        return [(succ,1) for succ in successors[s]]\n",
    "    except KeyError:\n",
    "        return []\n",
    "def takeActionF(s,a):\n",
    "    return a\n",
    "def goalTestF(s):\n",
    "    return s == goal\n",
    "def h1(s):\n",
    "    return 0\n",
    "start = 'a'\n",
    "goal = 'f'\n",
    "#result = aStarSearch(start,actionsF,takeActionF,goalTestF,h1)\n",
    "#print('Path from a to h is', result[0], 'for a cost of', result[1])\n",
    "\n"
   ]
  },
  {
   "cell_type": "code",
   "execution_count": 520,
   "metadata": {
    "collapsed": true
   },
   "outputs": [],
   "source": [
    "def iterativeDeepeningSearch(startState, goalState, actionsF, takeActionF, maxDepth):\n",
    "    global nNodes\n",
    "    global depth\n",
    "    nNodes=0\n",
    "    depth=0\n",
    "    path= 'cutoff'\n",
    "    p=[]\n",
    "    resultFound='false'\n",
    "    print 'ini'\n",
    "    for x in range(maxDepth+1):\n",
    "        p= depthLimitedSearch(startState, goalState, actionsF, takeActionF, x)\n",
    "        \n",
    "        if p!='cutoff':\n",
    "            depth=0\n",
    "            if startState!=goalState:\n",
    "                depth=len(p)-1\n",
    "            return p\n",
    "        \n",
    "    if p=='cutoff':\n",
    "        return 'cutoff'\n",
    "    if p=='failure':\n",
    "        return 'failure'\n",
    "                \n",
    "\n",
    "\n",
    "        "
   ]
  },
  {
   "cell_type": "code",
   "execution_count": 497,
   "metadata": {
    "collapsed": true
   },
   "outputs": [],
   "source": [
    "def depthLimitedSearch(startState , goalState, actionsF, takeActionF,depthLimit):\n",
    "    global nNodes\n",
    "    expanded={}\n",
    "    unexpanded= [(startState,\"None\")]\n",
    "    solutionPath=[]\n",
    "    existingChildren=[]\n",
    "    depth=0\n",
    "    needTuple='false'\n",
    "    end='true'\n",
    "    #If startState is the goalState, return the list containing just startState\n",
    "    if startState==goalState:\n",
    "        return startState\n",
    "    else:\n",
    "        while unexpanded:\n",
    "            #print expanded\n",
    "            #print unexpanded\n",
    "            childrenAll=[]\n",
    "\n",
    "            #Pop from the end of unExpanded a (state, parent) pair.\n",
    "            (state,parent)= unexpanded.pop()\n",
    "            if(state not in existingChildren):\n",
    "                existingChildren.append(state);\n",
    "            if(parent not in existingChildren):\n",
    "                existingChildren.append(parent);\n",
    "\n",
    "            #Add the node to the expanded dictionary, indexed by its state.\n",
    "            if isinstance(state, list):\n",
    "                state= tuple(state)\n",
    "                needTuple= 'true'     \n",
    "                \n",
    "            expanded[state]=parent\n",
    "            \n",
    "            #check if depth limit has been reached\n",
    "            searchParent=parent\n",
    "            predecesor='true'\n",
    "            steps=0\n",
    "            while predecesor=='true':\n",
    "                if searchParent in expanded.keys():\n",
    "                    steps=steps+1\n",
    "                    searchParent=expanded[searchParent]              \n",
    "                else:\n",
    "                    predecesor='false'\n",
    "            children=[]\n",
    "            \n",
    "            \n",
    "            if steps < depthLimit:\n",
    "                #generates posible actions\n",
    "                listActions=actionsF(state)\n",
    "                #Generates successor depending on the posible moves  \n",
    "                for eachAction in listActions:\n",
    "                    c,cost=takeActionF(state, eachAction)\n",
    "                    #c=takeActionF(state,eachAction)\n",
    "                    if c not in existingChildren:\n",
    "                        children.append(c) \n",
    "                        nNodes+=1\n",
    "                        \n",
    "                #reverse children list \n",
    "                children=list(reversed(children))\n",
    "                #insert children at the end of unexpanded list\n",
    "                for p in children:\n",
    "                    #state=list(state)\n",
    "                    unexpanded.append((p,state))\n",
    "            else:\n",
    "                 #generates posible actions\n",
    "                listActions=actionsF(state)\n",
    "                #Generates successor depending on the posible moves  \n",
    "                for eachAction in listActions:\n",
    "                    c,cost=takeActionF(state, eachAction)\n",
    "                    if c not in existingChildren:\n",
    "                        children.append(c) \n",
    "                if len(children) > 0:\n",
    "                    end='false'\n",
    "                children=[]     \n",
    "                \n",
    "        \n",
    "\n",
    "     \n",
    "            #If the goal has been found (in python, goalState is in children):\n",
    "            if goalState in children:  \n",
    "                solutionPath.append(goalState)\n",
    "                solutionPath.append(state)\n",
    "                while parent in expanded.values():\n",
    "                    if parent==\"None\":\n",
    "                        break\n",
    "                    solutionPath.append(parent)\n",
    "                    parent=expanded[parent]\n",
    "                if  needTuple=='true':\n",
    "                    newSolutionPath=[]\n",
    "                    for x in solutionPath:\n",
    "                        lst= list(x)\n",
    "                        newSolutionPath.append(lst)               \n",
    "                    solutionPath= newSolutionPath \n",
    "                return list(reversed(solutionPath))\n",
    "            \n",
    "         \n",
    "            \n",
    "        if  end=='true':\n",
    "            return \"failure\"\n",
    "        else:\n",
    "            return \"cutoff\"\n",
    "        #return \"cutoff\"\n",
    "        "
   ]
  },
  {
   "cell_type": "code",
   "execution_count": null,
   "metadata": {
    "collapsed": true
   },
   "outputs": [],
   "source": []
  },
  {
   "cell_type": "code",
   "execution_count": 7,
   "metadata": {
    "collapsed": true
   },
   "outputs": [],
   "source": [
    "def h1_8p(state, goal):\n",
    "    return 0"
   ]
  },
  {
   "cell_type": "code",
   "execution_count": 8,
   "metadata": {
    "collapsed": true
   },
   "outputs": [],
   "source": [
    "import copy\n",
    "def actionsF_simple(state):\n",
    "    return  copy.copy(succs.get(state, []))"
   ]
  },
  {
   "cell_type": "code",
   "execution_count": 9,
   "metadata": {},
   "outputs": [
    {
     "data": {
      "text/plain": [
       "{'a': ['b', 'c'],\n",
       " 'b': ['a'],\n",
       " 'c': ['h'],\n",
       " 'h': ['i'],\n",
       " 'i': ['j', 'k', 'l'],\n",
       " 'k': ['z']}"
      ]
     },
     "execution_count": 9,
     "metadata": {},
     "output_type": "execute_result"
    }
   ],
   "source": [
    "#dictionary of successors\n",
    "successors = {'a': ['b', 'c'], 'b':['e', 'f', 'g'], 'b':['a'], 'c':['h'], 'h':['i'], 'i':['j', 'k', 'l'], 'k':['z']}\n",
    "\n",
    "successors"
   ]
  },
  {
   "cell_type": "code",
   "execution_count": 10,
   "metadata": {},
   "outputs": [
    {
     "data": {
      "text/plain": [
       "[('b', 1), ('c', 1)]"
      ]
     },
     "execution_count": 10,
     "metadata": {},
     "output_type": "execute_result"
    }
   ],
   "source": [
    "#return valid actions paired with the single step cost\n",
    "def actionsF_simple(s):                              #       \\ \n",
    "        try:                                      #        j\n",
    "            ## step cost of each action is 1\n",
    "            return [(succ,1) for succ in successors[s]]\n",
    "        except KeyError:\n",
    "            return []    \n",
    "actionsF_simple('a')"
   ]
  },
  {
   "cell_type": "code",
   "execution_count": 11,
   "metadata": {},
   "outputs": [
    {
     "data": {
      "text/plain": [
       "('b', 1)"
      ]
     },
     "execution_count": 11,
     "metadata": {},
     "output_type": "execute_result"
    }
   ],
   "source": [
    "#return the pair containing the new state and the path cost so far from the start state to the new state \n",
    "def takeActionF_simple(s,a):\n",
    "        return a\n",
    "takeActionF_simple('a',('b', 1))"
   ]
  },
  {
   "cell_type": "code",
   "execution_count": 12,
   "metadata": {
    "collapsed": true
   },
   "outputs": [],
   "source": [
    "\n",
    "def goalTestF_simple(s,goal):\n",
    "    return s == goal\n"
   ]
  },
  {
   "cell_type": "code",
   "execution_count": 66,
   "metadata": {
    "collapsed": true
   },
   "outputs": [],
   "source": [
    "def h1_simple(s):\n",
    "    return 0"
   ]
  },
  {
   "cell_type": "code",
   "execution_count": 510,
   "metadata": {},
   "outputs": [
    {
     "name": "stdout",
     "output_type": "stream",
     "text": [
      "ini\n",
      "28\n"
     ]
    }
   ],
   "source": [
    "startState=[1, 2, 3, 4, 0, 5, 6, 7, 8]\n",
    "iterativeDeepeningSearch(startState, [1, 2, 3, 4, 5, 8, 6, 0, 7], actionsF_8p, takeActionF_8p, 20)\n",
    "print nNodes\n"
   ]
  },
  {
   "cell_type": "code",
   "execution_count": 522,
   "metadata": {},
   "outputs": [
    {
     "name": "stdout",
     "output_type": "stream",
     "text": [
      "ini\n",
      "0\n"
     ]
    }
   ],
   "source": [
    "iterativeDeepeningSearch([1,2,3,4,5,6,7,8,0], \n",
    "                                 [1,2,3,4,5,6,7,8,0],\n",
    "                                 actionsF_8p, takeActionF_8p, 20)\n",
    "print depth"
   ]
  },
  {
   "cell_type": "markdown",
   "metadata": {},
   "source": [
    "# 8-Puzzle"
   ]
  },
  {
   "cell_type": "code",
   "execution_count": 15,
   "metadata": {
    "collapsed": true
   },
   "outputs": [],
   "source": [
    "def printPath_8p(startState):\n",
    "    length= len(startState)\n",
    "    dim=0\n",
    "    for c in range(length):\n",
    "        counter=c**2\n",
    "        if counter==length: \n",
    "            dim=c              \n",
    "    for i in range(dim):\n",
    "        for j in range(dim):\n",
    "             print(startState[i*dim+j]), \n",
    "        print ''\n"
   ]
  },
  {
   "cell_type": "code",
   "execution_count": 16,
   "metadata": {
    "collapsed": true
   },
   "outputs": [],
   "source": [
    "def findBlank_8p(startState):\n",
    "    blankPosition=[]\n",
    "    length= len(startState)\n",
    "    dim= 0\n",
    "    for c in range(length):\n",
    "        counter=c**2\n",
    "        if counter==length: \n",
    "            dim=c \n",
    "    if 0 in startState:\n",
    "       \n",
    "        for row in range(dim):          \n",
    "             for column in range(dim): \n",
    "                    if startState[row*dim+column]==0:\n",
    "                        blankPosition.append(row)\n",
    "                        blankPosition.append(column)\n",
    "                        \n",
    "    return blankPosition\n",
    "\n"
   ]
  },
  {
   "cell_type": "code",
   "execution_count": 17,
   "metadata": {
    "collapsed": true
   },
   "outputs": [],
   "source": [
    "def actionsF_8p(startState):\n",
    "   \n",
    "    action=[]\n",
    "    \n",
    "    #gets puzzle demension\n",
    "    dim=0\n",
    "    length= len(startState)\n",
    "    for c in range(length):\n",
    "        counter=c**2\n",
    "        if counter==length: \n",
    "            dim=c  \n",
    "    \n",
    "    blankPosition=findBlank_8p(startState)\n",
    "    row=blankPosition[0]\n",
    "    column=blankPosition[1]\n",
    "    blankPosition=row*dim+column\n",
    "   \n",
    "    #check if there is blank position\n",
    "    if blankPosition !=-1:\n",
    "        action=['left', 'right', 'up', 'down']\n",
    "      \n",
    "\n",
    "        #check left border\n",
    "        for row in range(dim):\n",
    "                if blankPosition in [row*dim]:\n",
    "                        action.remove('left')\n",
    "                        \n",
    "        #check right border\n",
    "        for row in range(dim):\n",
    "            if blankPosition in [(row*dim)+(dim-1)]:\n",
    "                     action.remove('right')\n",
    "        \n",
    "        #check top border\n",
    "        if blankPosition -dim <0:\n",
    "            action.remove('up')\n",
    "            \n",
    "        #check bottom border\n",
    "        if blankPosition +dim >=len(startState):\n",
    "            action.remove(\"down\")        \n",
    "    \n",
    "    actionCost=[]\n",
    "    for ac in action:\n",
    "        actionCost.append((ac,1))\n",
    "    return actionCost"
   ]
  },
  {
   "cell_type": "code",
   "execution_count": 18,
   "metadata": {},
   "outputs": [
    {
     "name": "stdout",
     "output_type": "stream",
     "text": [
      "c\n"
     ]
    }
   ],
   "source": [
    "startState=[1, 0, 3, 5, 4, 2, 6, 7, 8]\n",
    "if isinstance(startState, list):\n",
    "    print 'c'\n",
    "\n",
    "#actionsF_8p(startState)"
   ]
  },
  {
   "cell_type": "code",
   "execution_count": 19,
   "metadata": {
    "collapsed": true
   },
   "outputs": [],
   "source": [
    "def takeActionF_8p(startState, act):\n",
    "\n",
    "    newState=[]\n",
    "    invalidLeft='false'\n",
    "    invalidRight='false'\n",
    "    invalidDown='false'\n",
    "    invalidUp='false'\n",
    "    #gets puzzle demension\n",
    "    dim=0\n",
    "    length= len(startState)\n",
    "    for c in range(length):\n",
    "        counter=c**2\n",
    "        if counter==length: \n",
    "            dim=c  \n",
    "    \n",
    "    blankPosition=findBlank_8p(startState)\n",
    "    row=blankPosition[0]\n",
    "    column=blankPosition[1]\n",
    "    blankPosition=row*dim+column\n",
    "    \n",
    "    \n",
    "    #check left border\n",
    "    for r in range(dim):\n",
    "        if blankPosition in [r*dim]:\n",
    "            invalidLeft='true'\n",
    "                   \n",
    "\n",
    "    #check right border\n",
    "    for row in range(dim):\n",
    "        if blankPosition in [(r*dim)+(dim-1)]:\n",
    "            invalidRight='true'\n",
    "\n",
    "    #check top border\n",
    "    if blankPosition -dim <0:\n",
    "         invalidUp='true'\n",
    "\n",
    "    #check bottom border\n",
    "    if blankPosition +dim >=len(startState):\n",
    "        invalidDown='true'  \n",
    "    \n",
    "    action=act[0]\n",
    "    pos=0\n",
    "    for x in startState:\n",
    "        newState.append(x)\n",
    "    if action=='left' and invalidLeft=='false':\n",
    "        pos=blankPosition\n",
    "        pos=pos-1\n",
    "        newState[blankPosition]=startState[pos]\n",
    "        newState[pos]=0\n",
    "    if action=='right'and invalidRight=='false':\n",
    "        pos=blankPosition\n",
    "        pos=pos+1\n",
    "        newState[blankPosition]=startState[pos]\n",
    "        newState[pos]=0\n",
    "    if action=='up' and invalidUp=='false':\n",
    "        pos=blankPosition\n",
    "        pos=pos-dim\n",
    "        newState[blankPosition]=startState[pos]\n",
    "        newState[pos]=0\n",
    "    if action=='down' and invalidDown=='false':\n",
    "        pos=blankPosition\n",
    "        pos=pos+dim      \n",
    "        newState[blankPosition]=startState[pos]\n",
    "        newState[pos]=0\n",
    "      \n",
    "    return (newState,act[1])\n"
   ]
  },
  {
   "cell_type": "code",
   "execution_count": 20,
   "metadata": {
    "collapsed": true
   },
   "outputs": [],
   "source": [
    "\n",
    "def goalTestF_8p(s,goal):\n",
    "    return s == goal\n"
   ]
  },
  {
   "cell_type": "code",
   "execution_count": 21,
   "metadata": {},
   "outputs": [
    {
     "data": {
      "text/plain": [
       "([0, 1, 3, 5, 4, 2, 6, 7, 8], 1)"
      ]
     },
     "execution_count": 21,
     "metadata": {},
     "output_type": "execute_result"
    }
   ],
   "source": [
    "startState=[1, 0, 3, 5, 4, 2, 6, 7, 8]\n",
    "takeActionF_8p(startState, ('left', 1))"
   ]
  },
  {
   "cell_type": "code",
   "execution_count": 22,
   "metadata": {
    "collapsed": true
   },
   "outputs": [],
   "source": [
    "#aStarSearch('a',actionsF_simple, takeActionF_simple,\n",
    " #           lambda s: goalTestF_simple(s, 'z'),\n",
    "  #          lambda s: hF_simple(s, 'z'))"
   ]
  },
  {
   "cell_type": "code",
   "execution_count": 23,
   "metadata": {},
   "outputs": [
    {
     "data": {
      "text/plain": [
       "'cutoff'"
      ]
     },
     "execution_count": 23,
     "metadata": {},
     "output_type": "execute_result"
    }
   ],
   "source": [
    " iterativeDeepeningSearch([5, 2, 8, 0, 1, 4, 3, 7, 6], \n",
    "                                 [0, 2, 3, 1, 4,  6, 7, 5, 8],\n",
    "                                 actionsF_8p, takeActionF_8p, 10)"
   ]
  },
  {
   "cell_type": "markdown",
   "metadata": {},
   "source": [
    "## Heuristic functions"
   ]
  },
  {
   "cell_type": "code",
   "execution_count": 24,
   "metadata": {},
   "outputs": [],
   "source": [
    "#given an item and  a state, returns the position of that item in the puzzle\n",
    "def findPosition(startState, item):\n",
    "    position=[]\n",
    "    length= len(startState)\n",
    "    dim= 0\n",
    "    for c in range(length):\n",
    "        counter=c**2\n",
    "        if counter==length: \n",
    "            dim=c \n",
    "    if item in startState:\n",
    "       \n",
    "        for row in range(dim):          \n",
    "             for column in range(dim): \n",
    "                    if startState[row*dim+column]==item:\n",
    "                        position.append(row)\n",
    "                        position.append(column)\n",
    "                        \n",
    "    return position\n",
    "\n",
    "#findPosition([1, 2, 4, 4, 5, 6, 7, 0, 8], 3)\n"
   ]
  },
  {
   "cell_type": "code",
   "execution_count": 103,
   "metadata": {},
   "outputs": [],
   "source": [
    "def h2_8p(startState, goalState):\n",
    "    manhattanDistance=0\n",
    "    \n",
    "    statePosRow=0\n",
    "    statePosCol=0\n",
    "    goalPosRow=0\n",
    "    goalPosCol=0\n",
    "    \n",
    "    stateItem=0\n",
    "    goalItem=0\n",
    "    \n",
    "    length= len(startState)\n",
    "    dim= 0\n",
    "    for c in range(length):\n",
    "        counter=c**2\n",
    "        if counter==length: \n",
    "            dim=c \n",
    "    for row in range(dim):          \n",
    "        for column in range(dim):\n",
    "            stateItem=startState[row*dim+column]\n",
    "            goalItem=goalState[row*dim+column]\n",
    "            if stateItem!=goalItem and stateItem==0:\n",
    "                statePosRow=row\n",
    "                statePosCol=column\n",
    "                goalPosRow,goalPosCol=findPosition(goalState,stateItem)\n",
    "                x=abs(statePosRow-goalPosRow)+abs(statePosCol-goalPosCol)\n",
    "                manhattanDistance+=x\n",
    "            \n",
    "    return manhattanDistance\n",
    "\n",
    "#h2([7,2,4,5,0,6,8,3,1], [0,1, 2, 3, 4, 5, 6, 7, 8] )\n",
    "            "
   ]
  },
  {
   "cell_type": "code",
   "execution_count": 37,
   "metadata": {},
   "outputs": [
    {
     "name": "stdout",
     "output_type": "stream",
     "text": [
      "2\n",
      "0\n"
     ]
    },
    {
     "data": {
      "text/plain": [
       "([[1, 2, 3, 4, 0, 5, 6, 7, 8],\n",
       "  [1, 2, 3, 4, 5, 0, 6, 7, 8],\n",
       "  [1, 2, 3, 4, 5, 8, 6, 7, 0],\n",
       "  [1, 2, 3, 4, 5, 8, 6, 0, 7]],\n",
       " 3)"
      ]
     },
     "execution_count": 37,
     "metadata": {},
     "output_type": "execute_result"
    }
   ],
   "source": [
    "aStarSearch([1, 2, 3, 4, 0, 5, 6, 7, 8],actionsF_8p, takeActionF_8p,\n",
    "                     lambda s: goalTestF_8p(s, [1, 2, 3, 4, 5, 8, 6, 0, 7]),\n",
    "                     lambda s: h2(s,[1, 2, 3, 4, 0, 5, 6, 7, 8]))\n",
    "\n"
   ]
  },
  {
   "cell_type": "code",
   "execution_count": 97,
   "metadata": {},
   "outputs": [
    {
     "data": {
      "text/plain": [
       "4"
      ]
     },
     "execution_count": 97,
     "metadata": {},
     "output_type": "execute_result"
    }
   ],
   "source": [
    "def h3_8p(startState,goalState):\n",
    "    misplacedTiles=0\n",
    " \n",
    "    length= len(startState)\n",
    "    dim= 0\n",
    "    for c in range(length):\n",
    "        counter=c**2\n",
    "        if counter==length: \n",
    "            dim=c \n",
    "    for row in range(dim):          \n",
    "        for column in range(dim):\n",
    "            if startState[row*dim+column]!=goalState[row*dim+column]:\n",
    "                misplacedTiles+=1\n",
    "\n",
    "            \n",
    "    return misplacedTiles\n",
    "\n",
    "h3([7,2,4,5,0,6,8,3,1], [3,2,4,5,6,0,8,7,1])\n",
    "            "
   ]
  },
  {
   "cell_type": "markdown",
   "metadata": {},
   "source": [
    "## Run Experiment"
   ]
  },
  {
   "cell_type": "code",
   "execution_count": 523,
   "metadata": {},
   "outputs": [
    {
     "name": "stdout",
     "output_type": "stream",
     "text": [
      "ini\n",
      "ini\n",
      "ini\n"
     ]
    },
    {
     "data": {
      "text/html": [
       "<div>\n",
       "<table border=\"1\" class=\"dataframe\">\n",
       "  <thead>\n",
       "    <tr style=\"text-align: right;\">\n",
       "      <th></th>\n",
       "      <th></th>\n",
       "      <th></th>\n",
       "      <th></th>\n",
       "      <th></th>\n",
       "      <th></th>\n",
       "      <th></th>\n",
       "      <th></th>\n",
       "      <th></th>\n",
       "      <th></th>\n",
       "      <th></th>\n",
       "      <th></th>\n",
       "      <th></th>\n",
       "    </tr>\n",
       "  </thead>\n",
       "  <tbody>\n",
       "    <tr>\n",
       "      <th>Goal State</th>\n",
       "      <td>[1, 2, 3, 4, 0, 5, 6, 7, 8]</td>\n",
       "      <td></td>\n",
       "      <td></td>\n",
       "      <td></td>\n",
       "      <td>[1, 2, 3, 4, 5, 8, 6, 0, 7]</td>\n",
       "      <td></td>\n",
       "      <td></td>\n",
       "      <td></td>\n",
       "      <td>[1, 0, 3, 4, 5, 8, 2, 6, 7]</td>\n",
       "      <td></td>\n",
       "      <td></td>\n",
       "      <td></td>\n",
       "    </tr>\n",
       "    <tr>\n",
       "      <th>Algorithms</th>\n",
       "      <td></td>\n",
       "      <td>DEPTH</td>\n",
       "      <td>NODES</td>\n",
       "      <td>EBF</td>\n",
       "      <td></td>\n",
       "      <td>DEPTH</td>\n",
       "      <td>NODES</td>\n",
       "      <td>EBF</td>\n",
       "      <td></td>\n",
       "      <td>DEPTH</td>\n",
       "      <td>NODES</td>\n",
       "      <td>EBF</td>\n",
       "    </tr>\n",
       "    <tr>\n",
       "      <th>IDS</th>\n",
       "      <td></td>\n",
       "      <td>0</td>\n",
       "      <td>0</td>\n",
       "      <td>0</td>\n",
       "      <td></td>\n",
       "      <td>3</td>\n",
       "      <td>28</td>\n",
       "      <td>2.604</td>\n",
       "      <td></td>\n",
       "      <td>11</td>\n",
       "      <td>8419</td>\n",
       "      <td>2.15</td>\n",
       "    </tr>\n",
       "    <tr>\n",
       "      <th>A*h1</th>\n",
       "      <td></td>\n",
       "      <td>0</td>\n",
       "      <td>0</td>\n",
       "      <td>0</td>\n",
       "      <td></td>\n",
       "      <td>3</td>\n",
       "      <td>116</td>\n",
       "      <td>4.489</td>\n",
       "      <td></td>\n",
       "      <td>3</td>\n",
       "      <td>116</td>\n",
       "      <td>4.489</td>\n",
       "    </tr>\n",
       "    <tr>\n",
       "      <th>A*h2</th>\n",
       "      <td></td>\n",
       "      <td>0</td>\n",
       "      <td>0</td>\n",
       "      <td>0</td>\n",
       "      <td></td>\n",
       "      <td>3</td>\n",
       "      <td>51</td>\n",
       "      <td>3.298</td>\n",
       "      <td></td>\n",
       "      <td>3</td>\n",
       "      <td>51</td>\n",
       "      <td>3.298</td>\n",
       "    </tr>\n",
       "    <tr>\n",
       "      <th>A*h3</th>\n",
       "      <td></td>\n",
       "      <td>0</td>\n",
       "      <td>0</td>\n",
       "      <td>0</td>\n",
       "      <td></td>\n",
       "      <td>3</td>\n",
       "      <td>9</td>\n",
       "      <td>1.58</td>\n",
       "      <td></td>\n",
       "      <td>3</td>\n",
       "      <td>9</td>\n",
       "      <td>1.58</td>\n",
       "    </tr>\n",
       "  </tbody>\n",
       "</table>\n",
       "</div>"
      ],
      "text/plain": [
       "                                                            \\\n",
       "Goal State  [1, 2, 3, 4, 0, 5, 6, 7, 8]                      \n",
       "Algorithms                               DEPTH  NODES  EBF   \n",
       "IDS                                          0      0    0   \n",
       "A*h1                                         0      0    0   \n",
       "A*h2                                         0      0    0   \n",
       "A*h3                                         0      0    0   \n",
       "\n",
       "                                                              \\\n",
       "Goal State  [1, 2, 3, 4, 5, 8, 6, 0, 7]                        \n",
       "Algorithms                               DEPTH  NODES    EBF   \n",
       "IDS                                          3     28  2.604   \n",
       "A*h1                                         3    116  4.489   \n",
       "A*h2                                         3     51  3.298   \n",
       "A*h3                                         3      9   1.58   \n",
       "\n",
       "                                                              \n",
       "Goal State  [1, 0, 3, 4, 5, 8, 2, 6, 7]                       \n",
       "Algorithms                               DEPTH  NODES    EBF  \n",
       "IDS                                         11   8419   2.15  \n",
       "A*h1                                         3    116  4.489  \n",
       "A*h2                                         3     51  3.298  \n",
       "A*h3                                         3      9   1.58  "
      ]
     },
     "execution_count": 523,
     "metadata": {},
     "output_type": "execute_result"
    }
   ],
   "source": [
    "def runExperiment(goalState1, goalState2, goalState3, heuristicFunctions):\n",
    "    import pandas\n",
    "    import numpy as np\n",
    "    r=[]\n",
    "    startState=[1, 2, 3, 4, 0, 5, 6, 7, 8]\n",
    "    \n",
    "    iterativeDeepeningSearch(startState, goalState1, actionsF_8p, takeActionF_8p, 20)\n",
    "    depth1=depth\n",
    "    nNodes1=nNodes\n",
    "    ebf1=ebf(nNodes1,depth1)\n",
    "    \n",
    "    iterativeDeepeningSearch(startState, goalState2, actionsF_8p, takeActionF_8p, 20)\n",
    "    depth2=depth\n",
    "    nNodes2=nNodes\n",
    "    ebf2=ebf(nNodes2,depth2)\n",
    "    \n",
    "    iterativeDeepeningSearch(startState, goalState3, actionsF_8p, takeActionF_8p, 20)\n",
    "    depth3=depth\n",
    "    nNodes3=nNodes\n",
    "    ebf3=ebf(nNodes3,depth3)\n",
    "    \n",
    "    \n",
    "    \n",
    "    r.append(([depth1,nNodes1,ebf1],[depth2,nNodes2,ebf2],[depth3,nNodes3,ebf3]))\n",
    "    \n",
    "\n",
    "    \n",
    "            \n",
    "            \n",
    "            \n",
    "\n",
    "    for hF in heuristicFunctions:\n",
    "            \n",
    "            \n",
    "            depth0=0\n",
    "            nNodes0=0\n",
    "            ebf0=ebf(nNodes0,depth0)\n",
    "            aStarSearch(startState,actionsF_8p, takeActionF_8p,\n",
    "            lambda s: goalTestF_8p(s, goalState1),\n",
    "            lambda s: hF(s,goalState1))      \n",
    "            depth1=depth\n",
    "            nNodes1=nNodes\n",
    "            ebf1=ebf(nNodes1,depth1)\n",
    "            \n",
    "\n",
    "          \n",
    "            aStarSearch(startState,actionsF_8p, takeActionF_8p,\n",
    "            lambda s: goalTestF_8p(s, goalState2),\n",
    "            lambda s: hF(s,goalState2))   \n",
    "            depth2=depth\n",
    "            nNodes2=nNodes\n",
    "            ebf2=ebf(nNodes2,depth2)\n",
    "            \n",
    "            '''aStarSearch(startState,actionsF_8p, takeActionF_8p,\n",
    "            lambda s: goalTestF_8p(s, goalState3),\n",
    "            lambda s: hF(s,goalState3)) '''  \n",
    "            depth3=depth\n",
    "            nNodes3=nNodes\n",
    "            ebf3=ebf(nNodes3,depth3)\n",
    "            \n",
    "            df=pandas\n",
    "            pd=pandas\n",
    "            \n",
    "            r.append(([depth1,nNodes1,ebf1],[depth2,nNodes2,ebf2],[depth3,nNodes3,ebf3]))\n",
    "            \n",
    "    \n",
    " \n",
    "\n",
    " \n",
    "    r0=r[0]\n",
    "    r1=r[1]\n",
    "    r2=r[2]\n",
    "    r3=r[3]\n",
    "    \n",
    "\n",
    "    return pd.DataFrame([( goalState1,'', '','',goalState2 ,'', '','',goalState3,  '', '',''),\n",
    "                        ( ' ','DEPTH', 'NODES','EBF','  ' ,'DEPTH', 'NODES','EBF',' ',  'DEPTH', 'NODES','EBF'),\n",
    "                         ( ' ',r0[0][0], r0[0][1],r0[0][2],' ' ,r0[1][0], r0[1][1],r0[1][2],' ',  r0[2][0], r0[2][1],r0[2][2]),\n",
    "                        ( ' ',r1[0][0], r1[0][1],r1[0][2],' ' ,r1[1][0], r1[1][1],r1[1][2],' ',  r1[2][0], r1[2][1],r1[2][2]),\n",
    "                        ( ' ',r2[0][0], r2[0][1],r2[0][2],' ' ,r2[1][0], r2[1][1],r2[1][2],' ',  r2[2][0], r2[2][1],r2[2][2]),\n",
    "                        ( ' ',r3[0][0], r3[0][1],r3[0][2],' ' ,r3[1][0], r3[1][1],r3[1][2],' ',  r3[2][0], r3[2][1],r3[2][2])], \n",
    "                       columns=['','','','','','','','','','','',''], index=['Goal State','Algorithms','IDS','A*h1','A*h2', 'A*h3'])\n",
    "\n",
    "runExperiment([1, 2, 3, 4, 0, 5, 6, 7, 8], [1, 2, 3, 4, 5, 8, 6, 0, 7], [1, 0, 3, 4, 5, 8, 2, 6, 7] , [h1_8p, h2_8p, h3_8p])\n",
    "\n",
    "    \n",
    "    "
   ]
  },
  {
   "cell_type": "code",
   "execution_count": 29,
   "metadata": {
    "collapsed": true
   },
   "outputs": [],
   "source": [
    "# from A3mysolution import *"
   ]
  },
  {
   "cell_type": "code",
   "execution_count": 498,
   "metadata": {},
   "outputs": [
    {
     "name": "stdout",
     "output_type": "stream",
     "text": [
      "\n",
      "Testing actionsF_8p([1, 2, 3, 4, 5, 6, 7, 0, 8])\n",
      "('\\n--- 5/5 points. Your actionsF_8p correctly returned', [('left', 1), ('right', 1), ('up', 1)])\n",
      "\n",
      "Testing takeActionF_8p([1, 2, 3, 4, 5, 6, 7, 0, 8], (up, 1))\n",
      "('\\n--- 5/5 points. Your takeActionsF_8p correctly returned', ([1, 2, 3, 4, 0, 6, 7, 5, 8], 1))\n",
      "\n",
      "Testing goalTestF_8p([1, 2, 3, 4, 5, 6, 7, 0, 8], [1, 2, 3, 4, 5, 6, 7, 0, 8])\n",
      "\n",
      "--- 5/5 points. Your goalTestF_8p correctly True\n",
      "\n",
      "Testing aStarSearch([1, 2, 3, 4, 5, 6, 7, 0, 8],\n",
      "                     actionsF_8p, takeActionF_8p,\n",
      "                     lambda s: goalTestF_8p(s, [0, 2, 3, 1, 4,  6, 7, 5, 8]),\n",
      "                     lambda s: h1_8p(s, [0, 2, 3, 1, 4,  6, 7, 5, 8]))\n",
      "('\\n--- 20/20 points. Your search correctly returned', ([[1, 2, 3, 4, 5, 6, 7, 0, 8], [1, 2, 3, 4, 0, 6, 7, 5, 8], [1, 2, 3, 0, 4, 6, 7, 5, 8], [0, 2, 3, 1, 4, 6, 7, 5, 8]], 3))\n",
      "\n",
      "Testing iterativeDeepeningSearch([5, 2, 8, 0, 1, 4, 3, 7, 6], \n",
      "                                 [0, 2, 3, 1, 4,  6, 7, 5, 8],\n",
      "                                 actionsF_8p, takeActionF_8p, 10)\n",
      "ini\n",
      "('\\n--- 15/15 points. Your search correctly returned', 'cutoff')\n",
      "\n",
      "AI Grade is 50/50\n"
     ]
    }
   ],
   "source": [
    "%run -i A3grader.py"
   ]
  }
 ],
 "metadata": {
  "anaconda-cloud": {},
  "kernelspec": {
   "display_name": "Python 2",
   "language": "python",
   "name": "python2"
  },
  "language_info": {
   "codemirror_mode": {
    "name": "ipython",
    "version": 2
   },
   "file_extension": ".py",
   "mimetype": "text/x-python",
   "name": "python",
   "nbconvert_exporter": "python",
   "pygments_lexer": "ipython2",
   "version": "2.7.12"
  }
 },
 "nbformat": 4,
 "nbformat_minor": 1
}
